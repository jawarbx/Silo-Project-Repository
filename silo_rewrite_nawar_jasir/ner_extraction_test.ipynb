{
 "cells": [
  {
   "cell_type": "code",
   "execution_count": null,
   "metadata": {},
   "outputs": [],
   "source": [
    "import pandas as pd\n",
    "import metapub\n",
    "from urllib.request import urlretrieve\n",
    "import textract\n",
    "\n",
    "df = pd.read_csv(\"departments_extracted.csv\").fillna(\"\")"
   ]
  },
  {
   "cell_type": "code",
   "execution_count": null,
   "metadata": {},
   "outputs": [],
   "source": [
    "filtered = df[(~df['PUB_TYPES'].str.contains(\"{'Congress'}\", regex=False, na=False, case=False)) & (~df['PUB_TYPES'].str.contains(\"{'Editorial'. 'Comment'}\", regex=False, na=False, case=False)) & (~df['PUB_TYPES'].str.contains(\"{'Journal Article', 'Case Reports'}\", regex=False, na=False, case=False)) & (~df['PUB_TYPES'].str.contains(\"{Journal Article', 'Practice Guideline\\\")\", regex=False, na=False, case=False)) & (~df['PUB_TYPES'].str.contains(\"{'Journal Article', 'Review', 'Historical Article'}\", regex=False, na=False, case=False)) & (~df['PUB_TYPES'].str.contains(\"{'Journal Article', 'Review', 'Systematic Review'}\", regex=False, na=False, case=False)) & (~df['PUB_TYPES'].str.contains(\"{'Journal Article', 'Review'}\", regex=False, na=False, case=False)) & (~df['PUB_TYPES'].str.contains(\"{'Letter', 'Case Reports'}\", regex=False, na=False, case=False)) & (~df['PUB_TYPES'].str.contains(\"{'Letter', 'Comment'}\", regex=False, na=False, case=False)) & (~df['PUB_TYPES'].str.contains(\"{'Letter'}\", regex=False, na=False, case=False)) & (~df['PUB_TYPES'].str.contains(\"{'Published Erratum'}\", regex=False, na=False, case=False)) & (~df['PUB_TYPES'].str.contains(\"{'Review', 'Case Reports'}\", regex=False, na=False, case=False))]"
   ]
  },
  {
   "cell_type": "code",
   "execution_count": null,
   "metadata": {},
   "outputs": [],
   "source": [
    "no_abstracts = df[['PMID','Title']].loc[df['Abstract'] == \"\"]"
   ]
  },
  {
   "cell_type": "code",
   "execution_count": null,
   "metadata": {},
   "outputs": [],
   "source": [
    "from Bio import Entrez"
   ]
  },
  {
   "cell_type": "code",
   "execution_count": null,
   "metadata": {},
   "outputs": [],
   "source": [
    "no_abstracts['DOIS'] = \"\"\n",
    "def retrieve_data(article_id):\n",
    "  Entrez.email = 'jn2691@nyu.edu'\n",
    "  handle = Entrez.efetch(\n",
    "      db='pubmed',\n",
    "      id=article_id,\n",
    "      retmode='xml'\n",
    "  )\n",
    "  results = Entrez.read(handle)\n",
    "  handle.close()\n",
    "  return results\n",
    "no_abstracts['PMID'][10]"
   ]
  },
  {
   "cell_type": "code",
   "execution_count": null,
   "metadata": {},
   "outputs": [],
   "source": [
    "test_article = retrieve_data(str(no_abstracts['PMID'][10]))"
   ]
  },
  {
   "cell_type": "code",
   "execution_count": null,
   "metadata": {},
   "outputs": [],
   "source": [
    "test_article['PubmedArticle'][0]['MedlineCitation']['Article']['ELocationID']"
   ]
  },
  {
   "cell_type": "code",
   "execution_count": null,
   "metadata": {},
   "outputs": [],
   "source": [
    "test_doi = \"https://www.doi.org/\" + str(test_article['PubmedArticle'][0]['MedlineCitation']['Article']['ELocationID'][0])"
   ]
  },
  {
   "cell_type": "code",
   "execution_count": null,
   "metadata": {},
   "outputs": [],
   "source": [
    "import requests\n",
    "from urllib.parse import urlparse\n",
    "  \n",
    "URL = test_doi # Specify the DOI here\n",
    "r = requests.head(URL,allow_redirects=True) # Redirects help follow to the actual domain\n",
    "parsed_uri = urlparse(r.url) #url parse to get the scheme and domain name \n",
    "result = '{uri.scheme}://{uri.netloc}/'.format(uri=parsed_uri)\n",
    "print(result) # printing the result\n"
   ]
  },
  {
   "cell_type": "code",
   "execution_count": null,
   "metadata": {},
   "outputs": [],
   "source": [
    "def final_destination(pmid):\n",
    "    meta_data = retrieve_data(str(pmid))\n",
    "    doi = \"https://www.doi.org/\"+str(meta_data['PubmedArticle'][0]['MedlineCitation']['Article']['ELocationID'][0])\n",
    "    r = requests.head(doi,allow_redirects=True)\n",
    "    parsed_uri = urlparse(r.url) #url parse to get the scheme and domain name \n",
    "    result = '{uri.scheme}://{uri.netloc}/'.format(uri=parsed_uri)\n",
    "    return doi, result"
   ]
  },
  {
   "cell_type": "code",
   "execution_count": null,
   "metadata": {},
   "outputs": [],
   "source": [
    "no_abstracts['DOIS'].loc[no_abstracts['PMID'] == no_abstracts['PMID'][10]] = \"\"\n",
    "no_abstracts.loc[no_abstracts['PMID'] == no_abstracts['PMID'][10]]"
   ]
  },
  {
   "cell_type": "code",
   "execution_count": null,
   "metadata": {},
   "outputs": [],
   "source": [
    "no_abstracts['DESTINATION'] = \"\""
   ]
  },
  {
   "cell_type": "code",
   "execution_count": null,
   "metadata": {},
   "outputs": [],
   "source": [
    "for id in no_abstracts['PMID']:\n",
    "    doi, destination = final_destination(id)\n",
    "    no_abstracts['DOIS'].loc[no_abstracts['PMID'] == id] = doi\n",
    "    no_abstracts['DESTINATION'].loc[no_abstracts['PMID'] == id] = destination "
   ]
  },
  {
   "cell_type": "code",
   "execution_count": 2,
   "metadata": {},
   "outputs": [],
   "source": [
    "import pandas as pd\n",
    "from transformers import pipeline\n",
    "df = pd.read_csv(\"Article_scraped.csv\",encoding='latin-1')\n",
    "no_abstracts = df[['PMID','ARTICLES']].dropna()"
   ]
  },
  {
   "cell_type": "code",
   "execution_count": 3,
   "metadata": {},
   "outputs": [],
   "source": [
    "no_abstracts['KIDNEY'] = \"\"\n",
    "no_abstracts['TRANSPLANT'] = \"\"\n",
    "no_abstracts[\"BOTH\"] = \"\"\n",
    "def kidney_mapper(df, search, case, parent):\n",
    "    df.loc[df['ARTICLES'].str.contains(search, case=case), 'KIDNEY'] = parent\n",
    "\n",
    "def transplant_mapper(df, search, case, parent):\n",
    "    df.loc[df['ARTICLES'].str.contains(search, case=case), 'TRANSPLANT'] = parent\n",
    "    \n",
    "def both_map(df):\n",
    "    if (df['KIDNEY'] == \"Yes\") and (df['TRANSPLANT'] == \"Yes\"):\n",
    "        return \"Yes\""
   ]
  },
  {
   "cell_type": "code",
   "execution_count": 4,
   "metadata": {},
   "outputs": [],
   "source": [
    "kidney_mapper(no_abstracts,\"kidney\",False,\"Yes\")\n",
    "kidney_mapper(no_abstracts,\"dialysis\",False,\"Yes\")\n",
    "kidney_mapper(no_abstracts,\"CKD\",True,\"Yes\")\n",
    "kidney_mapper(no_abstracts,\"diuresis\",False,\"Yes\")\n",
    "kidney_mapper(no_abstracts,\"glomerular\",False,\"Yes\")\n",
    "kidney_mapper(no_abstracts,\"GFR\",True,\"Yes\")\n",
    "kidney_mapper(no_abstracts,\"nephr\",False,\"Yes\")\n",
    "kidney_mapper(no_abstracts,'AKI',True,\"Yes\")\n",
    "kidney_mapper(no_abstracts,'renal',False,\"Yes\")\n",
    "kidney_mapper(no_abstracts,'convoluted tubule',False,\"Yes\")\n",
    "kidney_mapper(no_abstracts,\"natremia\",False,\"Yes\")\n",
    "kidney_mapper(no_abstracts,\"erythropoietin\",False,\"Yes\")\n",
    "kidney_mapper(no_abstracts,\"gitelman\",False,\"Yes\")\n",
    "kidney_mapper(no_abstracts,\"uropath\",False,\"Yes\")\n",
    "kidney_mapper(no_abstracts,\"creatinine\",False,\"Yes\")\n",
    "kidney_mapper(no_abstracts,\"aldoster\",False,\"Yes\")\n",
    "kidney_mapper(no_abstracts,\"podcast\",False,\"Yes\")\n",
    "kidney_mapper(no_abstracts,\"albumin\",False,\"Yes\")\n",
    "kidney_mapper(no_abstracts,\"uremic\",False,\"Yes\")\n",
    "transplant_mapper(no_abstracts,\"transplant\",False,\"Yes\")\n",
    "transplant_mapper(no_abstracts,\"organ proc\",False,\"Yes\")\n",
    "transplant_mapper(no_abstracts,\"perfusion\",False,\"Yes\")\n",
    "transplant_mapper(no_abstracts,\"rejection\",False,\"Yes\")\n",
    "transplant_mapper(no_abstracts,\"allocation\",False,\"Yes\")\n",
    "transplant_mapper(no_abstracts,\"graft\",False,\"Yes\")"
   ]
  },
  {
   "cell_type": "code",
   "execution_count": 5,
   "metadata": {},
   "outputs": [],
   "source": [
    "no_abstracts['BOTH'] = no_abstracts.apply(lambda x: both_map(x),axis=1)\n",
    "no_abstracts['BOTH'].fillna(\"\", inplace=True)"
   ]
  },
  {
   "cell_type": "code",
   "execution_count": 6,
   "metadata": {},
   "outputs": [],
   "source": [
    "from transformers import AutoTokenizer, AutoModelForSequenceClassification\n",
    "\n",
    "tokenizer = AutoTokenizer.from_pretrained(\"sileod/deberta-v3-base-tasksource-nli\",model_max_length=1024)\n",
    "model = AutoModelForSequenceClassification.from_pretrained(\"sileod/deberta-v3-base-tasksource-nli\")\n",
    "\n",
    "classifier = pipeline(\"zero-shot-classification\", model=model,device='mps',tokenizer=tokenizer)  # change the model identifier her\n",
    "def categorizer(abstract, kidney, transplant,both):\n",
    "    hypothesis_template = \"This text is about {}\"\n",
    "    candidate_labels = \"\"\n",
    "    candidate_transplant_labels =  [\n",
    "        \"Abdominal Transplantation\", \n",
    "        \"Bioengineering\", \n",
    "        \"Cell and Stem Cell Transplantation\", \n",
    "        \"Immunosuppression\", \n",
    "        \"Organ and Tissue Preservation\", \n",
    "        \"Thoracic Transplantation\", \n",
    "        \"Tissue Injury\", \n",
    "        \"Repair\", \n",
    "        \"Inflammation and Aging\", \n",
    "        \"Transplantation Immunology\", \n",
    "        \"Vascularized Composite Allotransplantation\", \n",
    "        \"Xenotransplantation\"\n",
    "    ]\n",
    "\n",
    "    candidate_kidney_labels = [\n",
    "    \"Blood Purification\",\n",
    "    \"Cardionephrology\",\n",
    "    \"Clinical Research in Nephrology\",\n",
    "    \"Critical Care in Nephrology\",\n",
    "    \"Glomerular Disease\",\n",
    "    \"Kidney Transplantation\",\n",
    "    \"Onconephrology\",\n",
    "    \"Pediatric Nephrology\",\n",
    "]\n",
    "    if both == \"Yes\":\n",
    "        candidate_labels = [candidate_kidney_labels, candidate_transplant_labels]\n",
    "    elif kidney == \"Yes\":\n",
    "        candidate_labels = [candidate_kidney_labels]\n",
    "    elif transplant == \"Yes\":\n",
    "        candidate_labels = [candidate_transplant_labels]\n",
    "    else:\n",
    "        candidate_labels = \"Uncategorizable\"\n",
    "\n",
    "    if candidate_labels == \"Uncategorizable\":\n",
    "        return \"Uncategorizable\"\n",
    "\n",
    "    abstract = abstract\n",
    "    classify = []\n",
    "    res = []\n",
    "\n",
    "    for label in candidate_labels:\n",
    "      classify.append(classifier(abstract, label,multi_label=False)) #hypothesis_template=hypothesis_template, ))\n",
    "\n",
    "    for classified in classify:\n",
    "      res.append(dict(zip(classified['labels'], classified['scores'])))\n",
    "\n",
    "    return res"
   ]
  },
  {
   "cell_type": "code",
   "execution_count": null,
   "metadata": {},
   "outputs": [],
   "source": []
  }
 ],
 "metadata": {
  "kernelspec": {
   "display_name": "Python 3 (ipykernel)",
   "language": "python",
   "name": "python3"
  },
  "language_info": {
   "codemirror_mode": {
    "name": "ipython",
    "version": 3
   },
   "file_extension": ".py",
   "mimetype": "text/x-python",
   "name": "python",
   "nbconvert_exporter": "python",
   "pygments_lexer": "ipython3",
   "version": "3.11.9"
  }
 },
 "nbformat": 4,
 "nbformat_minor": 4
}
