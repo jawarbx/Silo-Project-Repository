{
 "cells": [
  {
   "cell_type": "markdown",
   "id": "977b0ea9-0036-450c-a21f-2f785c13ea88",
   "metadata": {},
   "source": [
    "# Goal: Find error w/ \"affiliations,\" \"parent count,\" and \"departmental count\"\n",
    "- Probably regex error\n",
    "- Problem: Abstract is truncated --> Solved, issue with indexing --> Implemented\n",
    "- Problem: Different Funding stated within the article --> Soln?: scrape article directly\n",
    "- Problem: Country --> Soln: They dont know what country codes are\n",
    "- Problem: Parent Orgs --> only scraped from top --> implemented"
   ]
  },
  {
   "cell_type": "code",
   "execution_count": 1,
   "id": "07fe171c-6d79-40e4-8750-4bfe811b505c",
   "metadata": {},
   "outputs": [],
   "source": [
    "import pandas as pd"
   ]
  },
  {
   "cell_type": "code",
   "execution_count": 2,
   "id": "effb2617-5073-4ffb-95e4-016e36f49b47",
   "metadata": {},
   "outputs": [
    {
     "data": {
      "text/html": [
       "<div>\n",
       "<style scoped>\n",
       "    .dataframe tbody tr th:only-of-type {\n",
       "        vertical-align: middle;\n",
       "    }\n",
       "\n",
       "    .dataframe tbody tr th {\n",
       "        vertical-align: top;\n",
       "    }\n",
       "\n",
       "    .dataframe thead th {\n",
       "        text-align: right;\n",
       "    }\n",
       "</style>\n",
       "<table border=\"1\" class=\"dataframe\">\n",
       "  <thead>\n",
       "    <tr style=\"text-align: right;\">\n",
       "      <th></th>\n",
       "      <th>Unnamed: 0</th>\n",
       "      <th>Title</th>\n",
       "      <th>PMID</th>\n",
       "      <th>Authors</th>\n",
       "      <th>Affiliations</th>\n",
       "      <th>Abstract</th>\n",
       "      <th>Journal</th>\n",
       "      <th>Grants_and_Funding</th>\n",
       "      <th>Conflict_of_Interest</th>\n",
       "      <th>Impact_Factor</th>\n",
       "      <th>...</th>\n",
       "      <th>PUB_TYPES</th>\n",
       "      <th>ORGS_AND_LOCS</th>\n",
       "      <th>raw_ner</th>\n",
       "      <th>DEPTS</th>\n",
       "      <th>DEPT_COUNT</th>\n",
       "      <th>ABSTRACT_CATEGORIES</th>\n",
       "      <th>KIDNEY</th>\n",
       "      <th>TRANSPLANT</th>\n",
       "      <th>BOTH</th>\n",
       "      <th>DEPT_SILO</th>\n",
       "    </tr>\n",
       "  </thead>\n",
       "  <tbody>\n",
       "    <tr>\n",
       "      <th>0</th>\n",
       "      <td>1</td>\n",
       "      <td>Long-Term Outcomes in IgA Nephropathy.</td>\n",
       "      <td>37055195</td>\n",
       "      <td>David Pitcher,Fiona Braddon,Bruce Hendry,Alex ...</td>\n",
       "      <td>UK Renal Registry, The UK Kidney Association, ...</td>\n",
       "      <td>IgA nephropathy can progress to kidney failure...</td>\n",
       "      <td>Clinical journal of the American Society of Ne...</td>\n",
       "      <td>MR/R013942/1||MRC_||Medical Research Council||...</td>\n",
       "      <td>J. Barratt reports consultancy for Alnylam Pha...</td>\n",
       "      <td>9.8</td>\n",
       "      <td>...</td>\n",
       "      <td>{'Journal Article'}</td>\n",
       "      <td>{'ORGS': {'JAMCO Pharma Consulting', 'Universi...</td>\n",
       "      <td>{'Bristol Royal Hospital for Children', 'Londo...</td>\n",
       "      <td>{'Department of Renal Medicine'}</td>\n",
       "      <td>1</td>\n",
       "      <td>Clinical Research in Nephrology</td>\n",
       "      <td>Yes</td>\n",
       "      <td>No</td>\n",
       "      <td>No</td>\n",
       "      <td>Yes</td>\n",
       "    </tr>\n",
       "    <tr>\n",
       "      <th>1</th>\n",
       "      <td>5</td>\n",
       "      <td>Treatment Effect of the SGLT2 Inhibitor Empagl...</td>\n",
       "      <td>36396331</td>\n",
       "      <td>Julie Refardt,Cornelia Imber,Rianne Nobbenhuis...</td>\n",
       "      <td>Department of Endocrinology, Diabetes, and Met...</td>\n",
       "      <td>The syndrome of inappropriate antidiuresis (SI...</td>\n",
       "      <td>Journal of the American Society of Nephrology ...</td>\n",
       "      <td></td>\n",
       "      <td>All authors have nothing to disclose.</td>\n",
       "      <td>13.6</td>\n",
       "      <td>...</td>\n",
       "      <td>{'Journal Article', 'Randomized Controlled Tri...</td>\n",
       "      <td>{'ORGS': {'Felix Platter Hospital', 'Departmen...</td>\n",
       "      <td>{'Department of Endocrinology, Diabetes, and M...</td>\n",
       "      <td>{'University Department of Geriatric Medicine'...</td>\n",
       "      <td>4</td>\n",
       "      <td>Clinical Research in Nephrology</td>\n",
       "      <td>Yes</td>\n",
       "      <td>No</td>\n",
       "      <td>No</td>\n",
       "      <td>No</td>\n",
       "    </tr>\n",
       "    <tr>\n",
       "      <th>2</th>\n",
       "      <td>6</td>\n",
       "      <td>Treatment of IgA Nephropathy: A Rapidly Evolvi...</td>\n",
       "      <td>37772889</td>\n",
       "      <td>Khalil El Karoui,Fernando C Fervenza,An S De V...</td>\n",
       "      <td>Department of Nephrology, H√¥pital Tenon, Sorb...</td>\n",
       "      <td>The pivotal event in the pathophysiology of Ig...</td>\n",
       "      <td>Journal of the American Society of Nephrology ...</td>\n",
       "      <td></td>\n",
       "      <td>A.S. De Vriese is scientific advisor/consultan...</td>\n",
       "      <td>13.6</td>\n",
       "      <td>...</td>\n",
       "      <td>{'Journal Article'}</td>\n",
       "      <td>{'ORGS': {'Mayo Clinic', 'Sorbonne Universit√©...</td>\n",
       "      <td>{'Division of Nephrology and Hypertension', 'S...</td>\n",
       "      <td>{'Division of Nephrology and Hypertension', 'D...</td>\n",
       "      <td>3</td>\n",
       "      <td>Clinical Research in Nephrology</td>\n",
       "      <td>Yes</td>\n",
       "      <td>No</td>\n",
       "      <td>No</td>\n",
       "      <td>No</td>\n",
       "    </tr>\n",
       "    <tr>\n",
       "      <th>3</th>\n",
       "      <td>7</td>\n",
       "      <td>Management of Poisonings and Intoxications.</td>\n",
       "      <td>37097121</td>\n",
       "      <td>Marc Ghannoum,Darren M Roberts</td>\n",
       "      <td>Research Center, CIUSSS du Nord-de-l'√Æle-de-M...</td>\n",
       "      <td>Poisoning occurs after exposure to any of a nu...</td>\n",
       "      <td>Clinical journal of the American Society of Ne...</td>\n",
       "      <td></td>\n",
       "      <td></td>\n",
       "      <td>9.8</td>\n",
       "      <td>...</td>\n",
       "      <td>{'Journal Article'}</td>\n",
       "      <td>{'ORGS': {\"Sydney Children's Hospitals Network...</td>\n",
       "      <td>{'Sydney', 'New South Wales', 'Research Center...</td>\n",
       "      <td>{'Department of Nephrology and Hypertension'}</td>\n",
       "      <td>1</td>\n",
       "      <td>Blood Purification</td>\n",
       "      <td>Yes</td>\n",
       "      <td>No</td>\n",
       "      <td>No</td>\n",
       "      <td>Yes</td>\n",
       "    </tr>\n",
       "    <tr>\n",
       "      <th>4</th>\n",
       "      <td>13</td>\n",
       "      <td>Clinical and Prognostic Factors in Patients wi...</td>\n",
       "      <td>37283461</td>\n",
       "      <td>Anis Chaba,Arnaud Devresse,Vincent Audard,Jean...</td>\n",
       "      <td>Departement of Nephrology-Dialysis-Transplanta...</td>\n",
       "      <td>IgG4-related kidney disease is a major manifes...</td>\n",
       "      <td>Clinical journal of the American Society of Ne...</td>\n",
       "      <td></td>\n",
       "      <td>V. Audard reports consultancy for, honoraria f...</td>\n",
       "      <td>9.8</td>\n",
       "      <td>...</td>\n",
       "      <td>{'Journal Article', 'Observational Study'}</td>\n",
       "      <td>{'ORGS': {'Clinique Sainte Anne', 'CHU Rennes'...</td>\n",
       "      <td>{'Departement of Nephrology-Dialysis-Transplan...</td>\n",
       "      <td>{'Service de M√©decine Interne et Immunologie ...</td>\n",
       "      <td>4</td>\n",
       "      <td>Clinical Research in Nephrology</td>\n",
       "      <td>Yes</td>\n",
       "      <td>No</td>\n",
       "      <td>No</td>\n",
       "      <td>No</td>\n",
       "    </tr>\n",
       "  </tbody>\n",
       "</table>\n",
       "<p>5 rows × 32 columns</p>\n",
       "</div>"
      ],
      "text/plain": [
       "   Unnamed: 0                                              Title      PMID  \\\n",
       "0           1             Long-Term Outcomes in IgA Nephropathy.  37055195   \n",
       "1           5  Treatment Effect of the SGLT2 Inhibitor Empagl...  36396331   \n",
       "2           6  Treatment of IgA Nephropathy: A Rapidly Evolvi...  37772889   \n",
       "3           7        Management of Poisonings and Intoxications.  37097121   \n",
       "4          13  Clinical and Prognostic Factors in Patients wi...  37283461   \n",
       "\n",
       "                                             Authors  \\\n",
       "0  David Pitcher,Fiona Braddon,Bruce Hendry,Alex ...   \n",
       "1  Julie Refardt,Cornelia Imber,Rianne Nobbenhuis...   \n",
       "2  Khalil El Karoui,Fernando C Fervenza,An S De V...   \n",
       "3                     Marc Ghannoum,Darren M Roberts   \n",
       "4  Anis Chaba,Arnaud Devresse,Vincent Audard,Jean...   \n",
       "\n",
       "                                        Affiliations  \\\n",
       "0  UK Renal Registry, The UK Kidney Association, ...   \n",
       "1  Department of Endocrinology, Diabetes, and Met...   \n",
       "2  Department of Nephrology, H√¥pital Tenon, Sorb...   \n",
       "3  Research Center, CIUSSS du Nord-de-l'√Æle-de-M...   \n",
       "4  Departement of Nephrology-Dialysis-Transplanta...   \n",
       "\n",
       "                                            Abstract  \\\n",
       "0  IgA nephropathy can progress to kidney failure...   \n",
       "1  The syndrome of inappropriate antidiuresis (SI...   \n",
       "2  The pivotal event in the pathophysiology of Ig...   \n",
       "3  Poisoning occurs after exposure to any of a nu...   \n",
       "4  IgG4-related kidney disease is a major manifes...   \n",
       "\n",
       "                                             Journal  \\\n",
       "0  Clinical journal of the American Society of Ne...   \n",
       "1  Journal of the American Society of Nephrology ...   \n",
       "2  Journal of the American Society of Nephrology ...   \n",
       "3  Clinical journal of the American Society of Ne...   \n",
       "4  Clinical journal of the American Society of Ne...   \n",
       "\n",
       "                                  Grants_and_Funding  \\\n",
       "0  MR/R013942/1||MRC_||Medical Research Council||...   \n",
       "1                                                      \n",
       "2                                                      \n",
       "3                                                      \n",
       "4                                                      \n",
       "\n",
       "                                Conflict_of_Interest  Impact_Factor  ...  \\\n",
       "0  J. Barratt reports consultancy for Alnylam Pha...            9.8  ...   \n",
       "1              All authors have nothing to disclose.           13.6  ...   \n",
       "2  A.S. De Vriese is scientific advisor/consultan...           13.6  ...   \n",
       "3                                                               9.8  ...   \n",
       "4  V. Audard reports consultancy for, honoraria f...            9.8  ...   \n",
       "\n",
       "                                           PUB_TYPES  \\\n",
       "0                                {'Journal Article'}   \n",
       "1  {'Journal Article', 'Randomized Controlled Tri...   \n",
       "2                                {'Journal Article'}   \n",
       "3                                {'Journal Article'}   \n",
       "4         {'Journal Article', 'Observational Study'}   \n",
       "\n",
       "                                       ORGS_AND_LOCS  \\\n",
       "0  {'ORGS': {'JAMCO Pharma Consulting', 'Universi...   \n",
       "1  {'ORGS': {'Felix Platter Hospital', 'Departmen...   \n",
       "2  {'ORGS': {'Mayo Clinic', 'Sorbonne Universit√©...   \n",
       "3  {'ORGS': {\"Sydney Children's Hospitals Network...   \n",
       "4  {'ORGS': {'Clinique Sainte Anne', 'CHU Rennes'...   \n",
       "\n",
       "                                             raw_ner  \\\n",
       "0  {'Bristol Royal Hospital for Children', 'Londo...   \n",
       "1  {'Department of Endocrinology, Diabetes, and M...   \n",
       "2  {'Division of Nephrology and Hypertension', 'S...   \n",
       "3  {'Sydney', 'New South Wales', 'Research Center...   \n",
       "4  {'Departement of Nephrology-Dialysis-Transplan...   \n",
       "\n",
       "                                               DEPTS DEPT_COUNT  \\\n",
       "0                   {'Department of Renal Medicine'}          1   \n",
       "1  {'University Department of Geriatric Medicine'...          4   \n",
       "2  {'Division of Nephrology and Hypertension', 'D...          3   \n",
       "3      {'Department of Nephrology and Hypertension'}          1   \n",
       "4  {'Service de M√©decine Interne et Immunologie ...          4   \n",
       "\n",
       "               ABSTRACT_CATEGORIES KIDNEY  TRANSPLANT  BOTH DEPT_SILO  \n",
       "0  Clinical Research in Nephrology    Yes          No    No       Yes  \n",
       "1  Clinical Research in Nephrology    Yes          No    No        No  \n",
       "2  Clinical Research in Nephrology    Yes          No    No        No  \n",
       "3               Blood Purification    Yes          No    No       Yes  \n",
       "4  Clinical Research in Nephrology    Yes          No    No        No  \n",
       "\n",
       "[5 rows x 32 columns]"
      ]
     },
     "execution_count": 2,
     "metadata": {},
     "output_type": "execute_result"
    }
   ],
   "source": [
    "df_error_data = pd.read_csv(\"../final_data.csv\").fillna(\"\")\n",
    "df_error_data.head()"
   ]
  },
  {
   "cell_type": "code",
   "execution_count": 3,
   "id": "c6a53fd1-ed50-463b-8c01-b66c33bc7868",
   "metadata": {},
   "outputs": [],
   "source": [
    "PMID_TO_CHECK = 37055195"
   ]
  },
  {
   "cell_type": "code",
   "execution_count": 4,
   "id": "3655e909-fbc4-4ce8-a291-5de490df4a65",
   "metadata": {},
   "outputs": [
    {
     "data": {
      "text/plain": [
       "Index(['Unnamed: 0', 'Title', 'PMID', 'Authors', 'Affiliations', 'Abstract',\n",
       "       'Journal', 'Grants_and_Funding', 'Conflict_of_Interest',\n",
       "       'Impact_Factor', 'Mesh Terms', 'MeSH Term Descriptor IDs',\n",
       "       'Total Affiliations', 'Total Authors', 'Pub Type', 'PARENT_ORGS',\n",
       "       'COUNTRIES', 'COUNTRY_COUNT', 'PARENT_COUNT', 'SILO', 'FUNDING_TYPE',\n",
       "       'COI?', 'PUB_TYPES', 'ORGS_AND_LOCS', 'raw_ner', 'DEPTS', 'DEPT_COUNT',\n",
       "       'ABSTRACT_CATEGORIES', 'KIDNEY', 'TRANSPLANT', 'BOTH', 'DEPT_SILO'],\n",
       "      dtype='object')"
      ]
     },
     "execution_count": 4,
     "metadata": {},
     "output_type": "execute_result"
    }
   ],
   "source": [
    "df_error_data.columns"
   ]
  },
  {
   "cell_type": "code",
   "execution_count": 5,
   "id": "31b79a13-8635-4a61-92b5-0e3478affeb3",
   "metadata": {},
   "outputs": [
    {
     "data": {
      "text/plain": [
       "7"
      ]
     },
     "execution_count": 5,
     "metadata": {},
     "output_type": "execute_result"
    }
   ],
   "source": [
    "df_error_data[df_error_data.PMID == PMID_TO_CHECK]['PARENT_COUNT'][0]"
   ]
  },
  {
   "cell_type": "code",
   "execution_count": 6,
   "id": "499fd952-0709-4890-9685-eea2358477f0",
   "metadata": {},
   "outputs": [
    {
     "data": {
      "text/plain": [
       "['David Pitcher\\xa01\\xa02',\n",
       " '\\xa0Fiona Braddon\\xa01',\n",
       " '\\xa0Bruce Hendry\\xa03',\n",
       " '\\xa0Alex Mercer\\xa04',\n",
       " '\\xa0Kate Osmaston\\xa01',\n",
       " '\\xa0Moin A Saleem\\xa05',\n",
       " '\\xa0Retha Steenkamp\\xa01',\n",
       " '\\xa0Katie Wong\\xa01\\xa02',\n",
       " '\\xa0A Neil Turner\\xa06',\n",
       " '\\xa0Kaijun Wang\\xa03',\n",
       " '\\xa0Daniel P Gale\\xa02',\n",
       " '\\xa0Jonathan Barratt\\xa07']"
      ]
     },
     "execution_count": 6,
     "metadata": {},
     "output_type": "execute_result"
    }
   ],
   "source": [
    "\"David Pitcher 1 2, Fiona Braddon 1, Bruce Hendry 3, Alex Mercer 4, Kate Osmaston 1, Moin A Saleem 5, Retha Steenkamp 1, Katie Wong 1 2, A Neil Turner 6, Kaijun Wang 3, Daniel P Gale 2, Jonathan Barratt 7\".split(',')"
   ]
  },
  {
   "cell_type": "code",
   "execution_count": 7,
   "id": "7ad8fea8-8c77-4796-8fce-e0d80634074d",
   "metadata": {},
   "outputs": [
    {
     "ename": "StreamModeError",
     "evalue": "the XML file must be opened in binary mode.",
     "output_type": "error",
     "traceback": [
      "\u001b[0;31m---------------------------------------------------------------------------\u001b[0m",
      "\u001b[0;31mStreamModeError\u001b[0m                           Traceback (most recent call last)",
      "Cell \u001b[0;32mIn[7], line 16\u001b[0m\n\u001b[1;32m      3\u001b[0m \u001b[38;5;28;01mfrom\u001b[39;00m \u001b[38;5;21;01msilo_utils_TESTING\u001b[39;00m \u001b[38;5;28;01mimport\u001b[39;00m \u001b[38;5;241m*\u001b[39m\n\u001b[1;32m      5\u001b[0m \u001b[38;5;66;03m#TESTING COPY\u001b[39;00m\n\u001b[1;32m      6\u001b[0m \u001b[38;5;66;03m# Rewrite of silo_transplant by Timur Seckin to leverage the Entrez api for better reproducibilty\u001b[39;00m\n\u001b[1;32m      7\u001b[0m \u001b[38;5;66;03m#\"\"\"\u001b[39;00m\n\u001b[0;32m   (...)\u001b[0m\n\u001b[1;32m     13\u001b[0m \u001b[38;5;66;03m#ret_num = 622\u001b[39;00m\n\u001b[1;32m     14\u001b[0m \u001b[38;5;66;03m#probe = search(silo_query,ret_num)\u001b[39;00m\n\u001b[0;32m---> 16\u001b[0m test_article \u001b[38;5;241m=\u001b[39m retrieve_data(PMID_TO_CHECK)\n",
      "File \u001b[0;32m~/projects/silo_project/silo_rewrite_nawar_jasir/Revision/silo_utils_TESTING.py:61\u001b[0m, in \u001b[0;36mretrieve_data\u001b[0;34m(article_id)\u001b[0m\n\u001b[1;32m     54\u001b[0m Entrez\u001b[38;5;241m.\u001b[39memail \u001b[38;5;241m=\u001b[39m email\n\u001b[1;32m     55\u001b[0m handle \u001b[38;5;241m=\u001b[39m Entrez\u001b[38;5;241m.\u001b[39mefetch(\n\u001b[1;32m     56\u001b[0m     db\u001b[38;5;241m=\u001b[39mDB,\n\u001b[1;32m     57\u001b[0m     \u001b[38;5;28mid\u001b[39m\u001b[38;5;241m=\u001b[39marticle_id,\n\u001b[1;32m     58\u001b[0m     retmode\u001b[38;5;241m=\u001b[39mRETMODE,\n\u001b[1;32m     59\u001b[0m     rettype\u001b[38;5;241m=\u001b[39mRETTYPE\n\u001b[1;32m     60\u001b[0m )\n\u001b[0;32m---> 61\u001b[0m results \u001b[38;5;241m=\u001b[39m Entrez\u001b[38;5;241m.\u001b[39mread(handle)\n\u001b[1;32m     62\u001b[0m handle\u001b[38;5;241m.\u001b[39mclose()\n\u001b[1;32m     63\u001b[0m \u001b[38;5;28;01mreturn\u001b[39;00m results\n",
      "File \u001b[0;32m~/miniforge3/envs/siloTest/lib/python3.11/site-packages/Bio/Entrez/__init__.py:518\u001b[0m, in \u001b[0;36mread\u001b[0;34m(source, validate, escape, ignore_errors)\u001b[0m\n\u001b[1;32m    515\u001b[0m \u001b[38;5;28;01mfrom\u001b[39;00m \u001b[38;5;21;01m.\u001b[39;00m\u001b[38;5;21;01mParser\u001b[39;00m \u001b[38;5;28;01mimport\u001b[39;00m DataHandler\n\u001b[1;32m    517\u001b[0m handler \u001b[38;5;241m=\u001b[39m DataHandler(validate, escape, ignore_errors)\n\u001b[0;32m--> 518\u001b[0m record \u001b[38;5;241m=\u001b[39m handler\u001b[38;5;241m.\u001b[39mread(source)\n\u001b[1;32m    519\u001b[0m \u001b[38;5;28;01mreturn\u001b[39;00m record\n",
      "File \u001b[0;32m~/miniforge3/envs/siloTest/lib/python3.11/site-packages/Bio/Entrez/Parser.py:396\u001b[0m, in \u001b[0;36mDataHandler.read\u001b[0;34m(self, source)\u001b[0m\n\u001b[1;32m    394\u001b[0m \u001b[38;5;28;01mexcept\u001b[39;00m \u001b[38;5;167;01mTypeError\u001b[39;00m:  \u001b[38;5;66;03m# not a path, assume we received a stream\u001b[39;00m\n\u001b[1;32m    395\u001b[0m     \u001b[38;5;28;01mif\u001b[39;00m source\u001b[38;5;241m.\u001b[39mread(\u001b[38;5;241m0\u001b[39m) \u001b[38;5;241m!=\u001b[39m \u001b[38;5;124mb\u001b[39m\u001b[38;5;124m\"\u001b[39m\u001b[38;5;124m\"\u001b[39m:\n\u001b[0;32m--> 396\u001b[0m         \u001b[38;5;28;01mraise\u001b[39;00m StreamModeError(\n\u001b[1;32m    397\u001b[0m             \u001b[38;5;124m\"\u001b[39m\u001b[38;5;124mthe XML file must be opened in binary mode.\u001b[39m\u001b[38;5;124m\"\u001b[39m\n\u001b[1;32m    398\u001b[0m         ) \u001b[38;5;28;01mfrom\u001b[39;00m \u001b[38;5;28;01mNone\u001b[39;00m\n\u001b[1;32m    399\u001b[0m     stream \u001b[38;5;241m=\u001b[39m source\n\u001b[1;32m    400\u001b[0m \u001b[38;5;28;01mif\u001b[39;00m stream\u001b[38;5;241m.\u001b[39mread(\u001b[38;5;241m0\u001b[39m) \u001b[38;5;241m!=\u001b[39m \u001b[38;5;124mb\u001b[39m\u001b[38;5;124m\"\u001b[39m\u001b[38;5;124m\"\u001b[39m:\n",
      "\u001b[0;31mStreamModeError\u001b[0m: the XML file must be opened in binary mode."
     ]
    }
   ],
   "source": [
    "from Bio import Entrez\n",
    "import pandas as pd\n",
    "from silo_utils_TESTING import *\n",
    "\n",
    "#TESTING COPY\n",
    "# Rewrite of silo_transplant by Timur Seckin to leverage the Entrez api for better reproducibilty\n",
    "#\"\"\"\n",
    "# Original URL: \"https://pubmed.ncbi.nlm.nih.gov/?term=%28Journal+of+the+American+Society+of+Nephrology%5BJournal%5D+OR+American+Journal+of+Kidney+Diseases%5BJournal%5D+OR+Clinical+Journal+of+the+American+Society+of+Nephrology%5BJournal%5D+OR+American+Journal+of+Transplantation%5BJournal%5D+OR+Transplantation%5BJournal%5D+OR+Nephrology+Dialysis+Transplantation%5BJournal%5D%29+AND+%28clinical+research+OR+original+research+OR+basic+research+OR+clinical+investigation+OR+clinical+epidemiology+OR+original+investigation+OR+original+article+OR+original+basic+science+OR+original+clinical+science%29+AND+2023%5BPublication+Date%5D&size=200\"\n",
    "#\"\"\"\n",
    "\n",
    "#silo_query = \"(Journal of the American Society of Nephrology[Journal] OR American Journal of Kidney Diseases[Journal] OR Clinical Journal of the American Society of Nephrology[Journal] OR American Journal of Transplantation[Journal] OR Transplantation[Journal] OR Nephrology Dialysis Transplantation[Journal]) AND (clinical research OR original research OR basic research OR clinical investigation OR clinical epidemiology OR original investigation OR original article OR original basic science OR original clinical science) AND 2023[Publication Date]\"\n",
    "# Kidney International?\n",
    "#ret_num = 622\n",
    "#probe = search(silo_query,ret_num)\n",
    "\n",
    "#for article_id in probe['IdList']:\n",
    "#    print(\"Scraping article: \", article_id)\n",
    "#    scraped_article_list.append(article_scraper(retrieve_data(article_id)))\n",
    "\n",
    "# df = pd.DataFrame(scraped_article_list)\n",
    "# df.to_csv(\"full.csv\", index=False)\n",
    "# print(\"Data extraction complete. Check full.csv for results.\")\n"
   ]
  },
  {
   "cell_type": "code",
   "execution_count": 10,
   "id": "ad27a6c0-a33b-40b0-b7bf-b684cfb62175",
   "metadata": {},
   "outputs": [
    {
     "data": {
      "text/plain": [
       "[{'ERROR': [], 'LinkSetDb': [{'Link': [{'Id': '37055195'}, {'Id': '24408121'}, {'Id': '21965586'}, {'Id': '27557557'}, {'Id': '37931634'}, {'Id': '33514642'}, {'Id': '28763548'}, {'Id': '39248402'}, {'Id': '31907076'}, {'Id': '32162319'}, {'Id': '33561333'}, {'Id': '19628647'}, {'Id': '35579642'}, {'Id': '32990213'}, {'Id': '38364955'}, {'Id': '37429271'}, {'Id': '37591292'}, {'Id': '29657199'}, {'Id': '28592423'}, {'Id': '32507961'}, {'Id': '37698655'}, {'Id': '38261310'}, {'Id': '32642919'}, {'Id': '26228193'}, {'Id': '36745456'}, {'Id': '32694247'}, {'Id': '31517550'}, {'Id': '35659570'}, {'Id': '21663387'}, {'Id': '29529608'}, {'Id': '25003873'}, {'Id': '20470285'}, {'Id': '30420158'}, {'Id': '37816675'}, {'Id': '31605314'}, {'Id': '30099439'}, {'Id': '21737517'}, {'Id': '28233100'}, {'Id': '25134778'}, {'Id': '28130969'}, {'Id': '33775708'}, {'Id': '38287343'}, {'Id': '37871587'}, {'Id': '37336802'}, {'Id': '24578331'}, {'Id': '37314777'}, {'Id': '37062274'}, {'Id': '28956741'}, {'Id': '36048745'}, {'Id': '34147067'}, {'Id': '37632668'}, {'Id': '28292274'}, {'Id': '31039758'}, {'Id': '23739233'}, {'Id': '38357771'}, {'Id': '27026518'}, {'Id': '31977575'}, {'Id': '21467131'}, {'Id': '32660366'}, {'Id': '31409508'}, {'Id': '18245806'}, {'Id': '37850851'}, {'Id': '37594578'}, {'Id': '38492578'}, {'Id': '27821627'}, {'Id': '19194557'}, {'Id': '22105447'}, {'Id': '29660832'}, {'Id': '34362788'}, {'Id': '32616496'}, {'Id': '30647035'}, {'Id': '27718216'}, {'Id': '33591553'}, {'Id': '34187402'}, {'Id': '33831052'}, {'Id': '38869105'}, {'Id': '29167190'}, {'Id': '28320554'}, {'Id': '26269025'}, {'Id': '26837482'}, {'Id': '22497792'}, {'Id': '35946287'}, {'Id': '29146701'}, {'Id': '25475403'}, {'Id': '29724226'}, {'Id': '23931872'}, {'Id': '16175941'}, {'Id': '34376108'}, {'Id': '27806690'}, {'Id': '8523188'}, {'Id': '24178970'}, {'Id': '17533019'}, {'Id': '27549901'}, {'Id': '30922594'}, {'Id': '34721428'}, {'Id': '26630142'}, {'Id': '31796001'}, {'Id': '33565449'}, {'Id': '25677392'}, {'Id': '27573641'}, {'Id': '38979107'}, {'Id': '39149090'}, {'Id': '39081761'}, {'Id': '39250892'}, {'Id': '39317173'}, {'Id': '38740359'}, {'Id': '31798221'}, {'Id': '39387640'}], 'DbTo': 'pubmed', 'LinkName': 'pubmed_pubmed'}, {'Link': [{'Id': '37180506'}, {'Id': '37103750'}, {'Id': '37418237'}, {'Id': '37129957'}, {'Id': '37156519'}, {'Id': '37533148'}, {'Id': '37103889'}, {'Id': '37225260'}, {'Id': '37227924'}, {'Id': '37263354'}, {'Id': '37314777'}, {'Id': '37466432'}, {'Id': '37499685'}, {'Id': '37344238'}, {'Id': '37186555'}, {'Id': '37357346'}, {'Id': '37180505'}, {'Id': '37366657'}, {'Id': '37553878'}, {'Id': '37087349'}, {'Id': '8231039'}], 'DbTo': 'pubmed', 'LinkName': 'pubmed_pubmed_alsoviewed'}, {'Link': [{'Id': '39565563'}, {'Id': '39544842'}, {'Id': '39462308'}, {'Id': '39461930'}, {'Id': '39457572'}, {'Id': '39430181'}, {'Id': '39372635'}, {'Id': '39333921'}, {'Id': '39331079'}, {'Id': '39323970'}, {'Id': '39232245'}, {'Id': '39221249'}, {'Id': '39211339'}, {'Id': '39188719'}, {'Id': '39156850'}, {'Id': '39149090'}, {'Id': '39124764'}, {'Id': '39100224'}, {'Id': '39095059'}, {'Id': '39081761'}, {'Id': '39075557'}, {'Id': '38954311'}, {'Id': '38869105'}, {'Id': '38864363'}, {'Id': '38808486'}, {'Id': '38777962'}, {'Id': '38704598'}, {'Id': '38689160'}, {'Id': '38658875'}, {'Id': '38558821'}, {'Id': '38426107'}, {'Id': '38398259'}, {'Id': '38379319'}, {'Id': '38362118'}, {'Id': '38344739'}, {'Id': '38287343'}, {'Id': '38225440'}, {'Id': '38225439'}, {'Id': '38221654'}, {'Id': '38170257'}, {'Id': '38149041'}, {'Id': '38123699'}, {'Id': '38053976'}, {'Id': '38053972'}, {'Id': '38036542'}, {'Id': '38025243'}, {'Id': '37978255'}, {'Id': '37959392'}, {'Id': '37916620'}, {'Id': '37892592'}, {'Id': '37772889'}, {'Id': '37672089'}, {'Id': '37533148'}, {'Id': '37418237'}, {'Id': '37366657'}], 'DbTo': 'pubmed', 'LinkName': 'pubmed_pubmed_citedin'}, {'Link': [{'Id': '37055195'}, {'Id': '24408121'}, {'Id': '21965586'}, {'Id': '27557557'}, {'Id': '33775708'}], 'DbTo': 'pubmed', 'LinkName': 'pubmed_pubmed_combined'}, {'Link': [{'Id': '37055195'}, {'Id': '24408121'}, {'Id': '21965586'}, {'Id': '27557557'}, {'Id': '37931634'}], 'DbTo': 'pubmed', 'LinkName': 'pubmed_pubmed_five'}, {'Link': [{'Id': '37055195'}, {'Id': '33775708'}], 'DbTo': 'pubmed', 'LinkName': 'pubmed_pubmed_reviews'}, {'Link': [{'Id': '37055195'}, {'Id': '33775708'}], 'DbTo': 'pubmed', 'LinkName': 'pubmed_pubmed_reviews_five'}], 'LinkSetDbHistory': [], 'DbFrom': 'pubmed', 'IdList': ['37055195']}]"
      ]
     },
     "execution_count": 10,
     "metadata": {},
     "output_type": "execute_result"
    }
   ],
   "source": [
    "\n",
    "\n",
    "pmid = str(PMID_TO_CHECK)\n",
    "\n",
    "handle = Entrez.elink(dbfrom=\"pubmed\", id=pmid)\n",
    "\n",
    "record = Entrez.read(handle)\n",
    "\n",
    "handle.close()\n",
    "\n",
    "record"
   ]
  },
  {
   "cell_type": "code",
   "execution_count": null,
   "id": "930f13dd-ebc8-4e4f-a291-acccd9823442",
   "metadata": {},
   "outputs": [],
   "source": []
  },
  {
   "cell_type": "code",
   "execution_count": 80,
   "id": "5c59b595-0e13-4a54-b8a6-5418118b4f19",
   "metadata": {},
   "outputs": [
    {
     "data": {
      "text/plain": [
       "DictElement({'SpaceFlightMission': [], 'OtherID': [], 'GeneralNote': [], 'InvestigatorList': [], 'OtherAbstract': [], 'KeywordList': [], 'CitationSubset': ['IM'], 'PMID': StringElement('37055195', attributes={'Version': '1'}), 'DateCompleted': {'Year': '2023', 'Month': '06', 'Day': '12'}, 'DateRevised': {'Year': '2024', 'Month': '06', 'Day': '03'}, 'Article': DictElement({'ELocationID': [StringElement('10.2215/CJN.0000000000000135', attributes={'EIdType': 'doi', 'ValidYN': 'Y'})], 'ArticleDate': [DictElement({'Year': '2023', 'Month': '04', 'Day': '13'}, attributes={'DateType': 'Electronic'})], 'Language': ['eng'], 'Journal': {'ISSN': StringElement('1555-905X', attributes={'IssnType': 'Electronic'}), 'JournalIssue': DictElement({'Volume': '18', 'Issue': '6', 'PubDate': {'Year': '2023', 'Month': 'Jun', 'Day': '01'}}, attributes={'CitedMedium': 'Internet'}), 'Title': 'Clinical journal of the American Society of Nephrology : CJASN', 'ISOAbbreviation': 'Clin J Am Soc Nephrol'}, 'ArticleTitle': 'Long-Term Outcomes in IgA Nephropathy.', 'Pagination': {'StartPage': '727', 'EndPage': '738', 'MedlinePgn': '727-738'}, 'Abstract': {'AbstractText': [StringElement('IgA nephropathy can progress to kidney failure, and risk assessment soon after diagnosis has advantages both for clinical management and the development of new therapeutics. We present relationships among proteinuria, eGFR slope, and lifetime risks for kidney failure.', attributes={'Label': 'BACKGROUND'}), StringElement('The IgA nephropathy cohort (2299 adults and 140 children) of the UK National Registry of Rare Kidney Diseases (RaDaR) was analyzed. Patients enrolled had a biopsy-proven diagnosis of IgA nephropathy plus proteinuria >0.5 g/d or eGFR <60 ml/min per 1.73 m 2 . Incident and prevalent populations and a population representative of a typical phase 3 clinical trial cohort were studied. Analyses of kidney survival were conducted using Kaplan-Meier and Cox regression. eGFR slope was estimated using linear mixed models with random intercept and slope.', attributes={'Label': 'METHODS'}), StringElement('The median (Q1, Q3) follow-up was 5.9 (3.0, 10.5) years; 50% of patients reached kidney failure or died in the study period. The median (95% confidence interval [CI]) kidney survival was 11.4 (10.5 to 12.5) years; the mean age at kidney failure/death was 48 years, and most patients progressed to kidney failure within 10-15 years. On the basis of eGFR and age at diagnosis, almost all patients were at risk of progression to kidney failure within their expected lifetime unless a rate of eGFR loss ≤1 ml/min per 1.73 m 2 per year was maintained. Time-averaged proteinuria was significantly associated with worse kidney survival and more rapid eGFR loss in incident, prevalent, and clinical trial populations. Thirty percent of patients with time-averaged proteinuria of 0.44 to <0.88 g/g and approximately 20% of patients with time-averaged proteinuria <0.44 g/g developed kidney failure within 10 years. In the clinical trial population, each 10% decrease in time-averaged proteinuria from baseline was associated with a hazard ratio (95% CI) for kidney failure/death of 0.89 (0.87 to 0.92).', attributes={'Label': 'RESULTS'}), StringElement('Outcomes in this large IgA nephropathy cohort are generally poor with few patients expected to avoid kidney failure in their lifetime. Significantly, patients traditionally regarded as being low risk, with proteinuria <0.88 g/g (<100 mg/mmol), had high rates of kidney failure within 10 years.', attributes={'Label': 'CONCLUSIONS'})], 'CopyrightInformation': 'Copyright © 2023 The Author(s). Published by Wolters Kluwer Health, Inc. on behalf of the American Society of Nephrology.'}, 'AuthorList': ListElement([DictElement({'AffiliationInfo': [{'Identifier': [], 'Affiliation': 'UK Renal Registry, The UK Kidney Association, Bristol, United Kingdom.'}, {'Identifier': [], 'Affiliation': 'Department of Renal Medicine, University College London, London, United Kingdom.'}], 'Identifier': [StringElement('0000-0003-3019-6369', attributes={'Source': 'ORCID'})], 'LastName': 'Pitcher', 'ForeName': 'David', 'Initials': 'D'}, attributes={'ValidYN': 'Y'}), DictElement({'AffiliationInfo': [{'Identifier': [], 'Affiliation': 'UK Renal Registry, The UK Kidney Association, Bristol, United Kingdom.'}], 'Identifier': [StringElement('0009-0006-5356-758', attributes={'Source': 'ORCID'})], 'LastName': 'Braddon', 'ForeName': 'Fiona', 'Initials': 'F'}, attributes={'ValidYN': 'Y'}), DictElement({'AffiliationInfo': [{'Identifier': [], 'Affiliation': 'Travere Therapeutics, Inc., San Diego, California.'}], 'Identifier': [StringElement('0000-0002-7950-7685', attributes={'Source': 'ORCID'})], 'LastName': 'Hendry', 'ForeName': 'Bruce', 'Initials': 'B'}, attributes={'ValidYN': 'Y'}), DictElement({'AffiliationInfo': [{'Identifier': [], 'Affiliation': 'JAMCO Pharma Consulting, Stockholm, Sweden.'}], 'Identifier': [StringElement('0009-0006-5279-1416', attributes={'Source': 'ORCID'})], 'LastName': 'Mercer', 'ForeName': 'Alex', 'Initials': 'A'}, attributes={'ValidYN': 'Y'}), DictElement({'AffiliationInfo': [{'Identifier': [], 'Affiliation': 'UK Renal Registry, The UK Kidney Association, Bristol, United Kingdom.'}], 'Identifier': [StringElement('0009-0001-6625-0737', attributes={'Source': 'ORCID'})], 'LastName': 'Osmaston', 'ForeName': 'Kate', 'Initials': 'K'}, attributes={'ValidYN': 'Y'}), DictElement({'AffiliationInfo': [{'Identifier': [], 'Affiliation': 'University of Bristol & Bristol Royal Hospital for Children, Bristol, United Kingdom.'}], 'Identifier': [StringElement('0000-0002-9808-4518', attributes={'Source': 'ORCID'})], 'LastName': 'Saleem', 'ForeName': 'Moin A', 'Initials': 'MA'}, attributes={'ValidYN': 'Y'}), DictElement({'AffiliationInfo': [{'Identifier': [], 'Affiliation': 'UK Renal Registry, The UK Kidney Association, Bristol, United Kingdom.'}], 'Identifier': [StringElement('0000-0003-3448-5651', attributes={'Source': 'ORCID'})], 'LastName': 'Steenkamp', 'ForeName': 'Retha', 'Initials': 'R'}, attributes={'ValidYN': 'Y'}), DictElement({'AffiliationInfo': [{'Identifier': [], 'Affiliation': 'UK Renal Registry, The UK Kidney Association, Bristol, United Kingdom.'}, {'Identifier': [], 'Affiliation': 'Department of Renal Medicine, University College London, London, United Kingdom.'}], 'Identifier': [StringElement('0000-0002-9175-9236', attributes={'Source': 'ORCID'})], 'LastName': 'Wong', 'ForeName': 'Katie', 'Initials': 'K'}, attributes={'ValidYN': 'Y'}), DictElement({'AffiliationInfo': [{'Identifier': [], 'Affiliation': 'University of Edinburgh, Edinburgh, United Kingdom.'}], 'Identifier': [StringElement('0000-0003-4547-873', attributes={'Source': 'ORCID'})], 'LastName': 'Turner', 'ForeName': 'A Neil', 'Initials': 'AN'}, attributes={'ValidYN': 'Y'}), DictElement({'AffiliationInfo': [{'Identifier': [], 'Affiliation': 'Travere Therapeutics, Inc., San Diego, California.'}], 'Identifier': [], 'LastName': 'Wang', 'ForeName': 'Kaijun', 'Initials': 'K'}, attributes={'ValidYN': 'Y'}), DictElement({'AffiliationInfo': [{'Identifier': [], 'Affiliation': 'Department of Renal Medicine, University College London, London, United Kingdom.'}], 'Identifier': [StringElement('0000-0002-9170-1579', attributes={'Source': 'ORCID'})], 'LastName': 'Gale', 'ForeName': 'Daniel P', 'Initials': 'DP'}, attributes={'ValidYN': 'Y'}), DictElement({'AffiliationInfo': [{'Identifier': [], 'Affiliation': 'University of Leicester & Leicester General Hospital, Leicester, United Kingdom.'}], 'Identifier': [], 'LastName': 'Barratt', 'ForeName': 'Jonathan', 'Initials': 'J'}, attributes={'ValidYN': 'Y'})], attributes={'CompleteYN': 'Y'}), 'GrantList': ListElement([{'GrantID': 'MR/R013942/1', 'Acronym': 'MRC_', 'Agency': 'Medical Research Council', 'Country': 'United Kingdom'}], attributes={'CompleteYN': 'Y'}), 'PublicationTypeList': [StringElement('Journal Article', attributes={'UI': 'D016428'}), StringElement(\"Research Support, Non-U.S. Gov't\", attributes={'UI': 'D013485'})]}, attributes={'PubModel': 'Print-Electronic'}), 'MedlineJournalInfo': {'Country': 'United States', 'MedlineTA': 'Clin J Am Soc Nephrol', 'NlmUniqueID': '101271570', 'ISSNLinking': '1555-9041'}, 'CommentsCorrectionsList': [DictElement({'RefSource': 'Clin J Am Soc Nephrol. 2023 Jun 1;18(6):699-701. doi: 10.2215/CJN.0000000000000171.', 'PMID': StringElement('37186555', attributes={'Version': '1'})}, attributes={'RefType': 'CommentIn'})], 'MeshHeadingList': [{'QualifierName': [], 'DescriptorName': StringElement('Adult', attributes={'UI': 'D000328', 'MajorTopicYN': 'N'})}, {'QualifierName': [], 'DescriptorName': StringElement('Child', attributes={'UI': 'D002648', 'MajorTopicYN': 'N'})}, {'QualifierName': [], 'DescriptorName': StringElement('Humans', attributes={'UI': 'D006801', 'MajorTopicYN': 'N'})}, {'QualifierName': [StringElement('complications', attributes={'UI': 'Q000150', 'MajorTopicYN': 'N'}), StringElement('epidemiology', attributes={'UI': 'Q000453', 'MajorTopicYN': 'N'})], 'DescriptorName': StringElement('Glomerulonephritis, IGA', attributes={'UI': 'D005922', 'MajorTopicYN': 'Y'})}, {'QualifierName': [StringElement('therapy', attributes={'UI': 'Q000628', 'MajorTopicYN': 'N'})], 'DescriptorName': StringElement('Kidney Failure, Chronic', attributes={'UI': 'D007676', 'MajorTopicYN': 'Y'})}, {'QualifierName': [], 'DescriptorName': StringElement('Glomerular Filtration Rate', attributes={'UI': 'D005919', 'MajorTopicYN': 'N'})}, {'QualifierName': [], 'DescriptorName': StringElement('Kidney', attributes={'UI': 'D007668', 'MajorTopicYN': 'N'})}, {'QualifierName': [StringElement('etiology', attributes={'UI': 'Q000209', 'MajorTopicYN': 'N'})], 'DescriptorName': StringElement('Proteinuria', attributes={'UI': 'D011507', 'MajorTopicYN': 'N'})}, {'QualifierName': [], 'DescriptorName': StringElement('Disease Progression', attributes={'UI': 'D018450', 'MajorTopicYN': 'N'})}, {'QualifierName': [], 'DescriptorName': StringElement('Retrospective Studies', attributes={'UI': 'D012189', 'MajorTopicYN': 'N'})}], 'CoiStatement': \"J. Barratt reports consultancy for Alnylam Pharmaceuticals, Argenx, Astellas, BioCryst, Calliditas, Chinook Therapeutics, Dimerix, Galapagos, GSK, Novartis, Omeros, Travere Therapeutics, UCB, Vera Therapeutics, and Visterra; research funding from Argenx, Calliditas, Chinook, Galapagos, GlaxoSmithKline, Novartis, Omeros, Travere Therapeutics, and Visterra; and advisory or leadership roles on the Editorial Boards of <i>CJASN, Clinical Science, Glomerular Diseases,</i> and <i>Kidney International</i>. F. Braddon reports employment with UK Kidney Association and UK Renal Registry. D.P. Gale reports consultancy for Alexion, Britannia, Calliditas, Judo Bio, Novartis, Reata Inc, and Travere Therapeutics, Inc.; research funding from Novartis, Pfizer, Sanofi, and Travere; and other interests or relationships as Trustee for AlportUK and Chair of UK Kidney Association Rare Diseases Committee. B. Hendry reports employment with Travere Therapeutics, stock in Travere Therapeutics, an advisory or leadership role for South West Thames Institute for Renal Research (Board Chair), and other interests or relationships as Emeritus Professor, King's College London. A. Mercer reports employment with JAMCO Pharma Consulting AB and consultancy for Travere Therapeutics, Inc and Vera Therapeutics, Inc. K. Osmaston reports employment with UK Kidney Association. D. Pitcher reports employment with UK Kidney Association and current ongoing work as part of employment with UK Kidney Association to analyze data held in the UK National Registry of Rare Kidney Diseases (RaDaR) with Travere Therapeutics, Pfizer, and Sanofi. M.A. Saleem reports employment with University of Bristol; consultancy for Confo Therapeutics, Mission Therapeutics, Pfizer, Purespring Therapeutics, Retrophin, and Travere Therapeutics, Inc.; ownership interest in Purespring Therapeutics; research funding from Evotec, Retrophin, and UCB; honoraria from Purespring Therapeutics as Director and Chief Scientific Officer; patents or royalties from Purespring Therapeutics and University of Bristol; and advisory or leadership role as Director, Purespring Therapeutics. R. Steenkamp reports employment with UK Kidney Association, UK Renal Registry. A.N. Turner reports consultancy for Purespring 2021–current, Enyo Pharma from 2022, and Calliditas Therapeutics from 2023; advisory board/speaker for Shire-Takeda (2017–20) and Sanofi-Genzyme (2019–current); speakers bureau for staff education, Chiesi 2022; and other interests or relationships as Trustee and supporter of the patient-led charity Alport UK. K. Wang reports employment with and stock in Travere. K. Wong reports employment with UK Kidney Association.\"}, attributes={'Status': 'MEDLINE', 'Owner': 'NLM', 'IndexingMethod': 'Automated'})"
      ]
     },
     "execution_count": 80,
     "metadata": {},
     "output_type": "execute_result"
    }
   ],
   "source": [
    "test_article['PubmedArticle'][0]['MedlineCitation']\n"
   ]
  },
  {
   "cell_type": "code",
   "execution_count": 72,
   "id": "8d4e0cc9-990a-45a2-81c8-599019a1f6bb",
   "metadata": {},
   "outputs": [
    {
     "data": {
      "text/plain": [
       "dict_keys(['SpaceFlightMission', 'OtherID', 'GeneralNote', 'InvestigatorList', 'OtherAbstract', 'KeywordList', 'CitationSubset', 'PMID', 'DateCompleted', 'DateRevised', 'Article', 'MedlineJournalInfo', 'CommentsCorrectionsList', 'MeshHeadingList', 'CoiStatement'])"
      ]
     },
     "execution_count": 72,
     "metadata": {},
     "output_type": "execute_result"
    }
   ],
   "source": [
    "test_article['PubmedArticle'][0]['MedlineCitation'].keys()\n",
    "\n",
    "\n",
    "\n",
    "\n",
    "#['Article'].keys()"
   ]
  },
  {
   "cell_type": "code",
   "execution_count": null,
   "id": "12af7a80-e8cb-45c3-b35d-51b4f9b431a7",
   "metadata": {},
   "outputs": [],
   "source": [
    "pd.read"
   ]
  }
 ],
 "metadata": {
  "kernelspec": {
   "display_name": "Python 3 (ipykernel)",
   "language": "python",
   "name": "python3"
  },
  "language_info": {
   "codemirror_mode": {
    "name": "ipython",
    "version": 3
   },
   "file_extension": ".py",
   "mimetype": "text/x-python",
   "name": "python",
   "nbconvert_exporter": "python",
   "pygments_lexer": "ipython3",
   "version": "3.11.9"
  }
 },
 "nbformat": 4,
 "nbformat_minor": 5
}
