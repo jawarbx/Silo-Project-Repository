{
 "cells": [
  {
   "cell_type": "markdown",
   "metadata": {},
   "source": [
    "# Extracting Countries"
   ]
  },
  {
   "cell_type": "code",
   "execution_count": 118,
   "metadata": {},
   "outputs": [
    {
     "data": {
      "text/html": [
       "<div>\n",
       "<style scoped>\n",
       "    .dataframe tbody tr th:only-of-type {\n",
       "        vertical-align: middle;\n",
       "    }\n",
       "\n",
       "    .dataframe tbody tr th {\n",
       "        vertical-align: top;\n",
       "    }\n",
       "\n",
       "    .dataframe thead th {\n",
       "        text-align: right;\n",
       "    }\n",
       "</style>\n",
       "<table border=\"1\" class=\"dataframe\">\n",
       "  <thead>\n",
       "    <tr style=\"text-align: right;\">\n",
       "      <th></th>\n",
       "      <th>Unnamed: 0</th>\n",
       "      <th>Title</th>\n",
       "      <th>PMID</th>\n",
       "      <th>Authors</th>\n",
       "      <th>Affiliations</th>\n",
       "      <th>Abstract</th>\n",
       "      <th>Journal</th>\n",
       "      <th>Grants_and_Funding</th>\n",
       "      <th>Conflict_of_Interest</th>\n",
       "      <th>Impact_Factor</th>\n",
       "      <th>Mesh Terms</th>\n",
       "      <th>MeSH Term Descriptor IDs</th>\n",
       "      <th>Total Affiliations</th>\n",
       "      <th>Total Authors</th>\n",
       "      <th>Pub Type</th>\n",
       "      <th>PARENT_ORGS</th>\n",
       "    </tr>\n",
       "  </thead>\n",
       "  <tbody>\n",
       "    <tr>\n",
       "      <th>0</th>\n",
       "      <td>0</td>\n",
       "      <td>Renal Thrombotic Microangiopathy: A Review.</td>\n",
       "      <td>36509342</td>\n",
       "      <td>Dominique Suzanne Genest,Christopher J Patriqu...</td>\n",
       "      <td>Division of Nephrology, University Health Netw...</td>\n",
       "      <td>Thrombotic microangiopathy (TMA), a pathologic...</td>\n",
       "      <td>American journal of kidney diseases : the offi...</td>\n",
       "      <td></td>\n",
       "      <td></td>\n",
       "      <td>13.2</td>\n",
       "      <td>Humans,Thrombotic Microangiopathies,Purpura, T...</td>\n",
       "      <td>D006801,D057049,D011697,D000743,D007668,D010951</td>\n",
       "      <td>5</td>\n",
       "      <td>5</td>\n",
       "      <td>Journal Article,Review,Research Support, Non-U...</td>\n",
       "      <td>{'University of Toronto]CA', 'Université de Mo...</td>\n",
       "    </tr>\n",
       "    <tr>\n",
       "      <th>1</th>\n",
       "      <td>1</td>\n",
       "      <td>Long-Term Outcomes in IgA Nephropathy.</td>\n",
       "      <td>37055195</td>\n",
       "      <td>David Pitcher,Fiona Braddon,Bruce Hendry,Alex ...</td>\n",
       "      <td>UK Renal Registry, The UK Kidney Association, ...</td>\n",
       "      <td>IgA nephropathy can progress to kidney failure...</td>\n",
       "      <td>Clinical journal of the American Society of Ne...</td>\n",
       "      <td>MR/R013942/1||MRC_||Medical Research Council||...</td>\n",
       "      <td>J. Barratt reports consultancy for Alnylam Pha...</td>\n",
       "      <td>9.8</td>\n",
       "      <td>Adult,Child,Humans,Glomerulonephritis, IGA,Kid...</td>\n",
       "      <td>D000328,D002648,D006801,D005922,D007676,D00591...</td>\n",
       "      <td>7</td>\n",
       "      <td>12</td>\n",
       "      <td>Journal Article,Research Support, Non-U.S. Gov't</td>\n",
       "      <td>{'University College London]GB', 'UK Kidney As...</td>\n",
       "    </tr>\n",
       "    <tr>\n",
       "      <th>2</th>\n",
       "      <td>2</td>\n",
       "      <td>Continuous KRT: A Contemporary Review.</td>\n",
       "      <td>35981873</td>\n",
       "      <td>J Pedro Teixeira,Javier A Neyra,Ashita Tolwani</td>\n",
       "      <td>Divisions of Nephrology and Pulmonary, Critica...</td>\n",
       "      <td>AKI is a common complication of critical illne...</td>\n",
       "      <td>Clinical journal of the American Society of Ne...</td>\n",
       "      <td></td>\n",
       "      <td>J.A. Neyra reports serving on the editorial bo...</td>\n",
       "      <td>9.8</td>\n",
       "      <td>Humans,Renal Replacement Therapy,Renal Dialysi...</td>\n",
       "      <td>D006801,D017582,D006435,D015314,D058186,D016638</td>\n",
       "      <td>3</td>\n",
       "      <td>3</td>\n",
       "      <td>Review,Journal Article</td>\n",
       "      <td>{'University of New Mexico]US', 'University of...</td>\n",
       "    </tr>\n",
       "    <tr>\n",
       "      <th>3</th>\n",
       "      <td>3</td>\n",
       "      <td>Peritoneal Dialysis Prescription and Adequacy ...</td>\n",
       "      <td>36208963</td>\n",
       "      <td>Bourne L Auguste,Joanne M Bargman</td>\n",
       "      <td>Department of Medicine, University of Toronto,...</td>\n",
       "      <td>As the global prevalence of peritoneal dialysi...</td>\n",
       "      <td>American journal of kidney diseases : the offi...</td>\n",
       "      <td></td>\n",
       "      <td></td>\n",
       "      <td>13.2</td>\n",
       "      <td>Humans,Renal Dialysis,Peritoneal Dialysis,Rena...</td>\n",
       "      <td>D006801,D006435,D010530,D017582,D055656,D01486...</td>\n",
       "      <td>2</td>\n",
       "      <td>2</td>\n",
       "      <td>Journal Article,Review,Research Support, Non-U...</td>\n",
       "      <td>{'University of Toronto]CA'}</td>\n",
       "    </tr>\n",
       "    <tr>\n",
       "      <th>4</th>\n",
       "      <td>4</td>\n",
       "      <td>Indications for and Timing of Initiation of KRT.</td>\n",
       "      <td>36100262</td>\n",
       "      <td>Marlies Ostermann,Sean M Bagshaw,Nuttha Lumler...</td>\n",
       "      <td>Department of Critical Care, King's College Lo...</td>\n",
       "      <td>KRT is considered for patients with severe AKI...</td>\n",
       "      <td>Clinical journal of the American Society of Ne...</td>\n",
       "      <td></td>\n",
       "      <td>S.M. Bagshaw is supported by a Canada Research...</td>\n",
       "      <td>9.8</td>\n",
       "      <td>Humans,Renal Replacement Therapy,Algorithms,Ac...</td>\n",
       "      <td>D006801,D017582,D000465,D058186</td>\n",
       "      <td>3</td>\n",
       "      <td>4</td>\n",
       "      <td>Review,Journal Article</td>\n",
       "      <td>{'Institute for Clinical Evaluative Sciences]C...</td>\n",
       "    </tr>\n",
       "  </tbody>\n",
       "</table>\n",
       "</div>"
      ],
      "text/plain": [
       "   Unnamed: 0                                              Title      PMID  \\\n",
       "0           0        Renal Thrombotic Microangiopathy: A Review.  36509342   \n",
       "1           1             Long-Term Outcomes in IgA Nephropathy.  37055195   \n",
       "2           2             Continuous KRT: A Contemporary Review.  35981873   \n",
       "3           3  Peritoneal Dialysis Prescription and Adequacy ...  36208963   \n",
       "4           4   Indications for and Timing of Initiation of KRT.  36100262   \n",
       "\n",
       "                                             Authors  \\\n",
       "0  Dominique Suzanne Genest,Christopher J Patriqu...   \n",
       "1  David Pitcher,Fiona Braddon,Bruce Hendry,Alex ...   \n",
       "2     J Pedro Teixeira,Javier A Neyra,Ashita Tolwani   \n",
       "3                  Bourne L Auguste,Joanne M Bargman   \n",
       "4  Marlies Ostermann,Sean M Bagshaw,Nuttha Lumler...   \n",
       "\n",
       "                                        Affiliations  \\\n",
       "0  Division of Nephrology, University Health Netw...   \n",
       "1  UK Renal Registry, The UK Kidney Association, ...   \n",
       "2  Divisions of Nephrology and Pulmonary, Critica...   \n",
       "3  Department of Medicine, University of Toronto,...   \n",
       "4  Department of Critical Care, King's College Lo...   \n",
       "\n",
       "                                            Abstract  \\\n",
       "0  Thrombotic microangiopathy (TMA), a pathologic...   \n",
       "1  IgA nephropathy can progress to kidney failure...   \n",
       "2  AKI is a common complication of critical illne...   \n",
       "3  As the global prevalence of peritoneal dialysi...   \n",
       "4  KRT is considered for patients with severe AKI...   \n",
       "\n",
       "                                             Journal  \\\n",
       "0  American journal of kidney diseases : the offi...   \n",
       "1  Clinical journal of the American Society of Ne...   \n",
       "2  Clinical journal of the American Society of Ne...   \n",
       "3  American journal of kidney diseases : the offi...   \n",
       "4  Clinical journal of the American Society of Ne...   \n",
       "\n",
       "                                  Grants_and_Funding  \\\n",
       "0                                                      \n",
       "1  MR/R013942/1||MRC_||Medical Research Council||...   \n",
       "2                                                      \n",
       "3                                                      \n",
       "4                                                      \n",
       "\n",
       "                                Conflict_of_Interest  Impact_Factor  \\\n",
       "0                                                              13.2   \n",
       "1  J. Barratt reports consultancy for Alnylam Pha...            9.8   \n",
       "2  J.A. Neyra reports serving on the editorial bo...            9.8   \n",
       "3                                                              13.2   \n",
       "4  S.M. Bagshaw is supported by a Canada Research...            9.8   \n",
       "\n",
       "                                          Mesh Terms  \\\n",
       "0  Humans,Thrombotic Microangiopathies,Purpura, T...   \n",
       "1  Adult,Child,Humans,Glomerulonephritis, IGA,Kid...   \n",
       "2  Humans,Renal Replacement Therapy,Renal Dialysi...   \n",
       "3  Humans,Renal Dialysis,Peritoneal Dialysis,Rena...   \n",
       "4  Humans,Renal Replacement Therapy,Algorithms,Ac...   \n",
       "\n",
       "                            MeSH Term Descriptor IDs  Total Affiliations  \\\n",
       "0    D006801,D057049,D011697,D000743,D007668,D010951                   5   \n",
       "1  D000328,D002648,D006801,D005922,D007676,D00591...                   7   \n",
       "2    D006801,D017582,D006435,D015314,D058186,D016638                   3   \n",
       "3  D006801,D006435,D010530,D017582,D055656,D01486...                   2   \n",
       "4                    D006801,D017582,D000465,D058186                   3   \n",
       "\n",
       "   Total Authors                                           Pub Type  \\\n",
       "0              5  Journal Article,Review,Research Support, Non-U...   \n",
       "1             12   Journal Article,Research Support, Non-U.S. Gov't   \n",
       "2              3                             Review,Journal Article   \n",
       "3              2  Journal Article,Review,Research Support, Non-U...   \n",
       "4              4                             Review,Journal Article   \n",
       "\n",
       "                                         PARENT_ORGS  \n",
       "0  {'University of Toronto]CA', 'Université de Mo...  \n",
       "1  {'University College London]GB', 'UK Kidney As...  \n",
       "2  {'University of New Mexico]US', 'University of...  \n",
       "3                       {'University of Toronto]CA'}  \n",
       "4  {'Institute for Clinical Evaluative Sciences]C...  "
      ]
     },
     "execution_count": 118,
     "metadata": {},
     "output_type": "execute_result"
    }
   ],
   "source": [
    "import pandas as pd\n",
    "\n",
    "df = pd.read_csv('parent_orgs_extracted_2.csv').fillna(\"\")\n",
    "df.head()"
   ]
  },
  {
   "cell_type": "code",
   "execution_count": 119,
   "metadata": {},
   "outputs": [
    {
     "name": "stdout",
     "output_type": "stream",
     "text": [
      "{'CA'}\n"
     ]
    }
   ],
   "source": [
    "import ast\n",
    "import re\n",
    "test_set = ast.literal_eval(df['PARENT_ORGS'][0])\n",
    "country_set = set()\n",
    "for e in test_set:\n",
    "    aff, country = re.split(\"]\",e)\n",
    "    country_set.add(country)\n",
    "print(country_set)\n"
   ]
  },
  {
   "cell_type": "code",
   "execution_count": 120,
   "metadata": {},
   "outputs": [],
   "source": [
    "def country_extractor(string_dict):\n",
    "    parent_aff_set = ast.literal_eval(string_dict)\n",
    "    country_set = set()\n",
    "    for e in parent_aff_set:\n",
    "            aff, country = re.split(r\"]\",e)\n",
    "            country_set.add(country)\n",
    "    return country_set"
   ]
  },
  {
   "cell_type": "code",
   "execution_count": 121,
   "metadata": {},
   "outputs": [],
   "source": [
    "df['COUNTRIES']= df['PARENT_ORGS'].apply(country_extractor)"
   ]
  },
  {
   "cell_type": "code",
   "execution_count": 122,
   "metadata": {},
   "outputs": [],
   "source": [
    "df['COUNTRY_COUNT']=df['COUNTRIES'].apply(lambda x: len(x))"
   ]
  },
  {
   "cell_type": "markdown",
   "metadata": {},
   "source": [
    "# Silo Count"
   ]
  },
  {
   "cell_type": "code",
   "execution_count": 123,
   "metadata": {},
   "outputs": [],
   "source": [
    "def count(string_dict):\n",
    "    return len(ast.literal_eval(string_dict))"
   ]
  },
  {
   "cell_type": "code",
   "execution_count": 124,
   "metadata": {},
   "outputs": [],
   "source": [
    "df['PARENT_COUNT'] = df['PARENT_ORGS'].apply(count)"
   ]
  },
  {
   "cell_type": "code",
   "execution_count": 125,
   "metadata": {},
   "outputs": [],
   "source": [
    "def silo(my_int):\n",
    "    if my_int == 1:\n",
    "        return \"Yes\"\n",
    "    else:\n",
    "        return \"No\""
   ]
  },
  {
   "cell_type": "code",
   "execution_count": 126,
   "metadata": {},
   "outputs": [],
   "source": [
    "df['SILO']=df['PARENT_COUNT'].apply(silo)"
   ]
  },
  {
   "cell_type": "markdown",
   "metadata": {},
   "source": [
    "# Funding Source"
   ]
  },
  {
   "cell_type": "code",
   "execution_count": 127,
   "metadata": {},
   "outputs": [
    {
     "data": {
      "text/html": [
       "<div>\n",
       "<style scoped>\n",
       "    .dataframe tbody tr th:only-of-type {\n",
       "        vertical-align: middle;\n",
       "    }\n",
       "\n",
       "    .dataframe tbody tr th {\n",
       "        vertical-align: top;\n",
       "    }\n",
       "\n",
       "    .dataframe thead th {\n",
       "        text-align: right;\n",
       "    }\n",
       "</style>\n",
       "<table border=\"1\" class=\"dataframe\">\n",
       "  <thead>\n",
       "    <tr style=\"text-align: right;\">\n",
       "      <th></th>\n",
       "      <th>Unnamed: 0</th>\n",
       "      <th>Title</th>\n",
       "      <th>PMID</th>\n",
       "      <th>Authors</th>\n",
       "      <th>Affiliations</th>\n",
       "      <th>Abstract</th>\n",
       "      <th>Journal</th>\n",
       "      <th>Grants_and_Funding</th>\n",
       "      <th>Conflict_of_Interest</th>\n",
       "      <th>Impact_Factor</th>\n",
       "      <th>Mesh Terms</th>\n",
       "      <th>MeSH Term Descriptor IDs</th>\n",
       "      <th>Total Affiliations</th>\n",
       "      <th>Total Authors</th>\n",
       "      <th>Pub Type</th>\n",
       "      <th>PARENT_ORGS</th>\n",
       "      <th>COUNTRIES</th>\n",
       "      <th>COUNTRY_COUNT</th>\n",
       "      <th>PARENT_COUNT</th>\n",
       "      <th>SILO</th>\n",
       "    </tr>\n",
       "  </thead>\n",
       "  <tbody>\n",
       "    <tr>\n",
       "      <th>0</th>\n",
       "      <td>0</td>\n",
       "      <td>Renal Thrombotic Microangiopathy: A Review.</td>\n",
       "      <td>36509342</td>\n",
       "      <td>Dominique Suzanne Genest,Christopher J Patriqu...</td>\n",
       "      <td>Division of Nephrology, University Health Netw...</td>\n",
       "      <td>Thrombotic microangiopathy (TMA), a pathologic...</td>\n",
       "      <td>American journal of kidney diseases : the offi...</td>\n",
       "      <td></td>\n",
       "      <td></td>\n",
       "      <td>13.2</td>\n",
       "      <td>Humans,Thrombotic Microangiopathies,Purpura, T...</td>\n",
       "      <td>D006801,D057049,D011697,D000743,D007668,D010951</td>\n",
       "      <td>5</td>\n",
       "      <td>5</td>\n",
       "      <td>Journal Article,Review,Research Support, Non-U...</td>\n",
       "      <td>{'University of Toronto]CA', 'Université de Mo...</td>\n",
       "      <td>{CA}</td>\n",
       "      <td>1</td>\n",
       "      <td>2</td>\n",
       "      <td>No</td>\n",
       "    </tr>\n",
       "    <tr>\n",
       "      <th>1</th>\n",
       "      <td>1</td>\n",
       "      <td>Long-Term Outcomes in IgA Nephropathy.</td>\n",
       "      <td>37055195</td>\n",
       "      <td>David Pitcher,Fiona Braddon,Bruce Hendry,Alex ...</td>\n",
       "      <td>UK Renal Registry, The UK Kidney Association, ...</td>\n",
       "      <td>IgA nephropathy can progress to kidney failure...</td>\n",
       "      <td>Clinical journal of the American Society of Ne...</td>\n",
       "      <td>MR/R013942/1||MRC_||Medical Research Council||...</td>\n",
       "      <td>J. Barratt reports consultancy for Alnylam Pha...</td>\n",
       "      <td>9.8</td>\n",
       "      <td>Adult,Child,Humans,Glomerulonephritis, IGA,Kid...</td>\n",
       "      <td>D000328,D002648,D006801,D005922,D007676,D00591...</td>\n",
       "      <td>7</td>\n",
       "      <td>12</td>\n",
       "      <td>Journal Article,Research Support, Non-U.S. Gov't</td>\n",
       "      <td>{'University College London]GB', 'UK Kidney As...</td>\n",
       "      <td>{GB, SE, US}</td>\n",
       "      <td>3</td>\n",
       "      <td>7</td>\n",
       "      <td>No</td>\n",
       "    </tr>\n",
       "    <tr>\n",
       "      <th>2</th>\n",
       "      <td>2</td>\n",
       "      <td>Continuous KRT: A Contemporary Review.</td>\n",
       "      <td>35981873</td>\n",
       "      <td>J Pedro Teixeira,Javier A Neyra,Ashita Tolwani</td>\n",
       "      <td>Divisions of Nephrology and Pulmonary, Critica...</td>\n",
       "      <td>AKI is a common complication of critical illne...</td>\n",
       "      <td>Clinical journal of the American Society of Ne...</td>\n",
       "      <td></td>\n",
       "      <td>J.A. Neyra reports serving on the editorial bo...</td>\n",
       "      <td>9.8</td>\n",
       "      <td>Humans,Renal Replacement Therapy,Renal Dialysi...</td>\n",
       "      <td>D006801,D017582,D006435,D015314,D058186,D016638</td>\n",
       "      <td>3</td>\n",
       "      <td>3</td>\n",
       "      <td>Review,Journal Article</td>\n",
       "      <td>{'University of New Mexico]US', 'University of...</td>\n",
       "      <td>{US}</td>\n",
       "      <td>1</td>\n",
       "      <td>3</td>\n",
       "      <td>No</td>\n",
       "    </tr>\n",
       "    <tr>\n",
       "      <th>3</th>\n",
       "      <td>3</td>\n",
       "      <td>Peritoneal Dialysis Prescription and Adequacy ...</td>\n",
       "      <td>36208963</td>\n",
       "      <td>Bourne L Auguste,Joanne M Bargman</td>\n",
       "      <td>Department of Medicine, University of Toronto,...</td>\n",
       "      <td>As the global prevalence of peritoneal dialysi...</td>\n",
       "      <td>American journal of kidney diseases : the offi...</td>\n",
       "      <td></td>\n",
       "      <td></td>\n",
       "      <td>13.2</td>\n",
       "      <td>Humans,Renal Dialysis,Peritoneal Dialysis,Rena...</td>\n",
       "      <td>D006801,D006435,D010530,D017582,D055656,D01486...</td>\n",
       "      <td>2</td>\n",
       "      <td>2</td>\n",
       "      <td>Journal Article,Review,Research Support, Non-U...</td>\n",
       "      <td>{'University of Toronto]CA'}</td>\n",
       "      <td>{CA}</td>\n",
       "      <td>1</td>\n",
       "      <td>1</td>\n",
       "      <td>Yes</td>\n",
       "    </tr>\n",
       "    <tr>\n",
       "      <th>4</th>\n",
       "      <td>4</td>\n",
       "      <td>Indications for and Timing of Initiation of KRT.</td>\n",
       "      <td>36100262</td>\n",
       "      <td>Marlies Ostermann,Sean M Bagshaw,Nuttha Lumler...</td>\n",
       "      <td>Department of Critical Care, King's College Lo...</td>\n",
       "      <td>KRT is considered for patients with severe AKI...</td>\n",
       "      <td>Clinical journal of the American Society of Ne...</td>\n",
       "      <td></td>\n",
       "      <td>S.M. Bagshaw is supported by a Canada Research...</td>\n",
       "      <td>9.8</td>\n",
       "      <td>Humans,Renal Replacement Therapy,Algorithms,Ac...</td>\n",
       "      <td>D006801,D017582,D000465,D058186</td>\n",
       "      <td>3</td>\n",
       "      <td>4</td>\n",
       "      <td>Review,Journal Article</td>\n",
       "      <td>{'Institute for Clinical Evaluative Sciences]C...</td>\n",
       "      <td>{CA, GB}</td>\n",
       "      <td>2</td>\n",
       "      <td>3</td>\n",
       "      <td>No</td>\n",
       "    </tr>\n",
       "    <tr>\n",
       "      <th>...</th>\n",
       "      <td>...</td>\n",
       "      <td>...</td>\n",
       "      <td>...</td>\n",
       "      <td>...</td>\n",
       "      <td>...</td>\n",
       "      <td>...</td>\n",
       "      <td>...</td>\n",
       "      <td>...</td>\n",
       "      <td>...</td>\n",
       "      <td>...</td>\n",
       "      <td>...</td>\n",
       "      <td>...</td>\n",
       "      <td>...</td>\n",
       "      <td>...</td>\n",
       "      <td>...</td>\n",
       "      <td>...</td>\n",
       "      <td>...</td>\n",
       "      <td>...</td>\n",
       "      <td>...</td>\n",
       "      <td>...</td>\n",
       "    </tr>\n",
       "    <tr>\n",
       "      <th>617</th>\n",
       "      <td>617</td>\n",
       "      <td>Long-term Outcome of Asymptomatic Patients Wit...</td>\n",
       "      <td>37143195</td>\n",
       "      <td>Steffen Hartleif,James Hodson,Carla Lloyd,Vlad...</td>\n",
       "      <td>Pediatric Gastroenterology and Hepatology, Uni...</td>\n",
       "      <td>The histological prevalence of allograft fibro...</td>\n",
       "      <td>Transplantation</td>\n",
       "      <td></td>\n",
       "      <td>The authors declare no conflicts of interest.</td>\n",
       "      <td>6.2</td>\n",
       "      <td></td>\n",
       "      <td></td>\n",
       "      <td>20</td>\n",
       "      <td>29</td>\n",
       "      <td>Journal Article</td>\n",
       "      <td>{'University of Birmingham]GB', 'Karolinska In...</td>\n",
       "      <td>{BE, GB, DE, CH, FR, US, NL, SE, AU, PL, IT, NZ}</td>\n",
       "      <td>12</td>\n",
       "      <td>13</td>\n",
       "      <td>No</td>\n",
       "    </tr>\n",
       "    <tr>\n",
       "      <th>618</th>\n",
       "      <td>618</td>\n",
       "      <td>Immune Response to COVID-19 mRNA Vaccination i...</td>\n",
       "      <td>36617671</td>\n",
       "      <td>Tessa Kühn,Claudius Speer,Christian Morath,Mar...</td>\n",
       "      <td>Department of Nephrology, University of Heidel...</td>\n",
       "      <td>The impaired immune response to coronavirus di...</td>\n",
       "      <td>Transplantation</td>\n",
       "      <td></td>\n",
       "      <td>The authors declare no conflicts of interest.</td>\n",
       "      <td>6.2</td>\n",
       "      <td>Humans,Mycophenolic Acid,Kidney Transplantatio...</td>\n",
       "      <td>D006801,D009173,D016030,D000086382,D000086402,...</td>\n",
       "      <td>6</td>\n",
       "      <td>21</td>\n",
       "      <td>Journal Article,Research Support, Non-U.S. Gov't</td>\n",
       "      <td>{'University of Heidelberg]DE', 'Koc Universit...</td>\n",
       "      <td>{TR, DE}</td>\n",
       "      <td>2</td>\n",
       "      <td>2</td>\n",
       "      <td>No</td>\n",
       "    </tr>\n",
       "    <tr>\n",
       "      <th>619</th>\n",
       "      <td>619</td>\n",
       "      <td>Does Exercise Training Improve Physical Fitnes...</td>\n",
       "      <td>36192838</td>\n",
       "      <td>Stefan De Smet,Katriona O'Donoghue,Maud Lorman...</td>\n",
       "      <td>Department of Rehabilitation Sciences, Group R...</td>\n",
       "      <td>The impaired physical fitness of end-stage liv...</td>\n",
       "      <td>Transplantation</td>\n",
       "      <td></td>\n",
       "      <td>The authors declare no conflicts of interest.</td>\n",
       "      <td>6.2</td>\n",
       "      <td>Adult,Humans,Liver Transplantation,Physical Fi...</td>\n",
       "      <td>D000328,D006801,D016031,D010809,D015444,D05358...</td>\n",
       "      <td>4</td>\n",
       "      <td>5</td>\n",
       "      <td>Meta-Analysis,Systematic Review,Journal Articl...</td>\n",
       "      <td>{'Royal College of Surgeons]IE', 'Nuffield Dep...</td>\n",
       "      <td>{BE, GB, IE}</td>\n",
       "      <td>3</td>\n",
       "      <td>3</td>\n",
       "      <td>No</td>\n",
       "    </tr>\n",
       "    <tr>\n",
       "      <th>620</th>\n",
       "      <td>620</td>\n",
       "      <td>Failure of Costimulatory Blockade-induced Regu...</td>\n",
       "      <td>36978228</td>\n",
       "      <td>Naoki Kohei,Toshiaki Tanaka,Satoshi Miyairi,Hi...</td>\n",
       "      <td>Department of Inflammation and Immunity, Lerne...</td>\n",
       "      <td>Costimulatory blockade-induced allograft toler...</td>\n",
       "      <td>Transplantation</td>\n",
       "      <td>P01 AI087586||AI||NIAID NIH HHS||United States...</td>\n",
       "      <td>The authors declare no conflicts of interest.</td>\n",
       "      <td>6.2</td>\n",
       "      <td>Mice,Animals,T-Lymphocytes, Regulatory,Heart T...</td>\n",
       "      <td>D051379,D000818,D050378,D016027,D008810,D01418...</td>\n",
       "      <td>2</td>\n",
       "      <td>11</td>\n",
       "      <td>Journal Article</td>\n",
       "      <td>{'Case Western Reserve University]US', \"Tokyo ...</td>\n",
       "      <td>{JP, US}</td>\n",
       "      <td>2</td>\n",
       "      <td>2</td>\n",
       "      <td>No</td>\n",
       "    </tr>\n",
       "    <tr>\n",
       "      <th>621</th>\n",
       "      <td>621</td>\n",
       "      <td>Maximize Donor Cornea Use in a Hepatitis B End...</td>\n",
       "      <td>36706071</td>\n",
       "      <td>Hsiao-Sang Chu,Olivia J Killeen,Yi-Ting Hsieh,...</td>\n",
       "      <td>Department of Ophthalmology, National Taiwan U...</td>\n",
       "      <td>This study aims to investigate the rationality...</td>\n",
       "      <td>Transplantation</td>\n",
       "      <td></td>\n",
       "      <td></td>\n",
       "      <td>6.2</td>\n",
       "      <td>Humans,Hepatitis B Surface Antigens,DNA, Viral...</td>\n",
       "      <td>D006801,D006514,D004279,D006512,D006509,D00651...</td>\n",
       "      <td>4</td>\n",
       "      <td>7</td>\n",
       "      <td>Journal Article</td>\n",
       "      <td>{'Ministry of Health and Welfare]TW', 'Nationa...</td>\n",
       "      <td>{TW, US}</td>\n",
       "      <td>2</td>\n",
       "      <td>3</td>\n",
       "      <td>No</td>\n",
       "    </tr>\n",
       "  </tbody>\n",
       "</table>\n",
       "<p>622 rows × 20 columns</p>\n",
       "</div>"
      ],
      "text/plain": [
       "     Unnamed: 0                                              Title      PMID  \\\n",
       "0             0        Renal Thrombotic Microangiopathy: A Review.  36509342   \n",
       "1             1             Long-Term Outcomes in IgA Nephropathy.  37055195   \n",
       "2             2             Continuous KRT: A Contemporary Review.  35981873   \n",
       "3             3  Peritoneal Dialysis Prescription and Adequacy ...  36208963   \n",
       "4             4   Indications for and Timing of Initiation of KRT.  36100262   \n",
       "..          ...                                                ...       ...   \n",
       "617         617  Long-term Outcome of Asymptomatic Patients Wit...  37143195   \n",
       "618         618  Immune Response to COVID-19 mRNA Vaccination i...  36617671   \n",
       "619         619  Does Exercise Training Improve Physical Fitnes...  36192838   \n",
       "620         620  Failure of Costimulatory Blockade-induced Regu...  36978228   \n",
       "621         621  Maximize Donor Cornea Use in a Hepatitis B End...  36706071   \n",
       "\n",
       "                                               Authors  \\\n",
       "0    Dominique Suzanne Genest,Christopher J Patriqu...   \n",
       "1    David Pitcher,Fiona Braddon,Bruce Hendry,Alex ...   \n",
       "2       J Pedro Teixeira,Javier A Neyra,Ashita Tolwani   \n",
       "3                    Bourne L Auguste,Joanne M Bargman   \n",
       "4    Marlies Ostermann,Sean M Bagshaw,Nuttha Lumler...   \n",
       "..                                                 ...   \n",
       "617  Steffen Hartleif,James Hodson,Carla Lloyd,Vlad...   \n",
       "618  Tessa Kühn,Claudius Speer,Christian Morath,Mar...   \n",
       "619  Stefan De Smet,Katriona O'Donoghue,Maud Lorman...   \n",
       "620  Naoki Kohei,Toshiaki Tanaka,Satoshi Miyairi,Hi...   \n",
       "621  Hsiao-Sang Chu,Olivia J Killeen,Yi-Ting Hsieh,...   \n",
       "\n",
       "                                          Affiliations  \\\n",
       "0    Division of Nephrology, University Health Netw...   \n",
       "1    UK Renal Registry, The UK Kidney Association, ...   \n",
       "2    Divisions of Nephrology and Pulmonary, Critica...   \n",
       "3    Department of Medicine, University of Toronto,...   \n",
       "4    Department of Critical Care, King's College Lo...   \n",
       "..                                                 ...   \n",
       "617  Pediatric Gastroenterology and Hepatology, Uni...   \n",
       "618  Department of Nephrology, University of Heidel...   \n",
       "619  Department of Rehabilitation Sciences, Group R...   \n",
       "620  Department of Inflammation and Immunity, Lerne...   \n",
       "621  Department of Ophthalmology, National Taiwan U...   \n",
       "\n",
       "                                              Abstract  \\\n",
       "0    Thrombotic microangiopathy (TMA), a pathologic...   \n",
       "1    IgA nephropathy can progress to kidney failure...   \n",
       "2    AKI is a common complication of critical illne...   \n",
       "3    As the global prevalence of peritoneal dialysi...   \n",
       "4    KRT is considered for patients with severe AKI...   \n",
       "..                                                 ...   \n",
       "617  The histological prevalence of allograft fibro...   \n",
       "618  The impaired immune response to coronavirus di...   \n",
       "619  The impaired physical fitness of end-stage liv...   \n",
       "620  Costimulatory blockade-induced allograft toler...   \n",
       "621  This study aims to investigate the rationality...   \n",
       "\n",
       "                                               Journal  \\\n",
       "0    American journal of kidney diseases : the offi...   \n",
       "1    Clinical journal of the American Society of Ne...   \n",
       "2    Clinical journal of the American Society of Ne...   \n",
       "3    American journal of kidney diseases : the offi...   \n",
       "4    Clinical journal of the American Society of Ne...   \n",
       "..                                                 ...   \n",
       "617                                    Transplantation   \n",
       "618                                    Transplantation   \n",
       "619                                    Transplantation   \n",
       "620                                    Transplantation   \n",
       "621                                    Transplantation   \n",
       "\n",
       "                                    Grants_and_Funding  \\\n",
       "0                                                        \n",
       "1    MR/R013942/1||MRC_||Medical Research Council||...   \n",
       "2                                                        \n",
       "3                                                        \n",
       "4                                                        \n",
       "..                                                 ...   \n",
       "617                                                      \n",
       "618                                                      \n",
       "619                                                      \n",
       "620  P01 AI087586||AI||NIAID NIH HHS||United States...   \n",
       "621                                                      \n",
       "\n",
       "                                  Conflict_of_Interest  Impact_Factor  \\\n",
       "0                                                                13.2   \n",
       "1    J. Barratt reports consultancy for Alnylam Pha...            9.8   \n",
       "2    J.A. Neyra reports serving on the editorial bo...            9.8   \n",
       "3                                                                13.2   \n",
       "4    S.M. Bagshaw is supported by a Canada Research...            9.8   \n",
       "..                                                 ...            ...   \n",
       "617      The authors declare no conflicts of interest.            6.2   \n",
       "618      The authors declare no conflicts of interest.            6.2   \n",
       "619      The authors declare no conflicts of interest.            6.2   \n",
       "620      The authors declare no conflicts of interest.            6.2   \n",
       "621                                                               6.2   \n",
       "\n",
       "                                            Mesh Terms  \\\n",
       "0    Humans,Thrombotic Microangiopathies,Purpura, T...   \n",
       "1    Adult,Child,Humans,Glomerulonephritis, IGA,Kid...   \n",
       "2    Humans,Renal Replacement Therapy,Renal Dialysi...   \n",
       "3    Humans,Renal Dialysis,Peritoneal Dialysis,Rena...   \n",
       "4    Humans,Renal Replacement Therapy,Algorithms,Ac...   \n",
       "..                                                 ...   \n",
       "617                                                      \n",
       "618  Humans,Mycophenolic Acid,Kidney Transplantatio...   \n",
       "619  Adult,Humans,Liver Transplantation,Physical Fi...   \n",
       "620  Mice,Animals,T-Lymphocytes, Regulatory,Heart T...   \n",
       "621  Humans,Hepatitis B Surface Antigens,DNA, Viral...   \n",
       "\n",
       "                              MeSH Term Descriptor IDs  Total Affiliations  \\\n",
       "0      D006801,D057049,D011697,D000743,D007668,D010951                   5   \n",
       "1    D000328,D002648,D006801,D005922,D007676,D00591...                   7   \n",
       "2      D006801,D017582,D006435,D015314,D058186,D016638                   3   \n",
       "3    D006801,D006435,D010530,D017582,D055656,D01486...                   2   \n",
       "4                      D006801,D017582,D000465,D058186                   3   \n",
       "..                                                 ...                 ...   \n",
       "617                                                                     20   \n",
       "618  D006801,D009173,D016030,D000086382,D000086402,...                   6   \n",
       "619  D000328,D006801,D016031,D010809,D015444,D05358...                   4   \n",
       "620  D051379,D000818,D050378,D016027,D008810,D01418...                   2   \n",
       "621  D006801,D006514,D004279,D006512,D006509,D00651...                   4   \n",
       "\n",
       "     Total Authors                                           Pub Type  \\\n",
       "0                5  Journal Article,Review,Research Support, Non-U...   \n",
       "1               12   Journal Article,Research Support, Non-U.S. Gov't   \n",
       "2                3                             Review,Journal Article   \n",
       "3                2  Journal Article,Review,Research Support, Non-U...   \n",
       "4                4                             Review,Journal Article   \n",
       "..             ...                                                ...   \n",
       "617             29                                    Journal Article   \n",
       "618             21   Journal Article,Research Support, Non-U.S. Gov't   \n",
       "619              5  Meta-Analysis,Systematic Review,Journal Articl...   \n",
       "620             11                                    Journal Article   \n",
       "621              7                                    Journal Article   \n",
       "\n",
       "                                           PARENT_ORGS  \\\n",
       "0    {'University of Toronto]CA', 'Université de Mo...   \n",
       "1    {'University College London]GB', 'UK Kidney As...   \n",
       "2    {'University of New Mexico]US', 'University of...   \n",
       "3                         {'University of Toronto]CA'}   \n",
       "4    {'Institute for Clinical Evaluative Sciences]C...   \n",
       "..                                                 ...   \n",
       "617  {'University of Birmingham]GB', 'Karolinska In...   \n",
       "618  {'University of Heidelberg]DE', 'Koc Universit...   \n",
       "619  {'Royal College of Surgeons]IE', 'Nuffield Dep...   \n",
       "620  {'Case Western Reserve University]US', \"Tokyo ...   \n",
       "621  {'Ministry of Health and Welfare]TW', 'Nationa...   \n",
       "\n",
       "                                            COUNTRIES  COUNTRY_COUNT  \\\n",
       "0                                                {CA}              1   \n",
       "1                                        {GB, SE, US}              3   \n",
       "2                                                {US}              1   \n",
       "3                                                {CA}              1   \n",
       "4                                            {CA, GB}              2   \n",
       "..                                                ...            ...   \n",
       "617  {BE, GB, DE, CH, FR, US, NL, SE, AU, PL, IT, NZ}             12   \n",
       "618                                          {TR, DE}              2   \n",
       "619                                      {BE, GB, IE}              3   \n",
       "620                                          {JP, US}              2   \n",
       "621                                          {TW, US}              2   \n",
       "\n",
       "     PARENT_COUNT SILO  \n",
       "0               2   No  \n",
       "1               7   No  \n",
       "2               3   No  \n",
       "3               1  Yes  \n",
       "4               3   No  \n",
       "..            ...  ...  \n",
       "617            13   No  \n",
       "618             2   No  \n",
       "619             3   No  \n",
       "620             2   No  \n",
       "621             3   No  \n",
       "\n",
       "[622 rows x 20 columns]"
      ]
     },
     "execution_count": 127,
     "metadata": {},
     "output_type": "execute_result"
    }
   ],
   "source": [
    "df"
   ]
  },
  {
   "cell_type": "code",
   "execution_count": 128,
   "metadata": {},
   "outputs": [],
   "source": [
    "test_grant = df['Grants_and_Funding'][210]"
   ]
  },
  {
   "cell_type": "code",
   "execution_count": 129,
   "metadata": {},
   "outputs": [],
   "source": [
    "test_grant = test_grant.strip(\"[]\")"
   ]
  },
  {
   "cell_type": "code",
   "execution_count": 130,
   "metadata": {},
   "outputs": [
    {
     "data": {
      "text/plain": [
       "'R01 DK126739||DK||NIDDK NIH HHS||United States[]K23 DK133729||DK||NIDDK NIH HHS||United States[]U01 DK116066||DK||NIDDK NIH HHS||United States[]R01 MD014161||MD||NIMHD NIH HHS||United States[]R01 DK114893||DK||NIDDK NIH HHS||United States[]U01 DK130058||DK||NIDDK NIH HHS||United States'"
      ]
     },
     "execution_count": 130,
     "metadata": {},
     "output_type": "execute_result"
    }
   ],
   "source": [
    "test_grant"
   ]
  },
  {
   "cell_type": "code",
   "execution_count": 131,
   "metadata": {},
   "outputs": [],
   "source": [
    "agencies = set()\n",
    "for grant in df['Grants_and_Funding']:\n",
    "    grant.strip(\"[]\")\n",
    "    for e in grant.split(\"[]\"):\n",
    "        try:\n",
    "            gid, gacrnym, gagency, gcountry = e.split(\"||\")\n",
    "            agencies.add(gagency)\n",
    "        except:\n",
    "            pass"
   ]
  },
  {
   "cell_type": "code",
   "execution_count": 132,
   "metadata": {},
   "outputs": [],
   "source": [
    "agent_frame = pd.DataFrame({'FUNDING_SOURCES':list(agencies)})"
   ]
  },
  {
   "cell_type": "code",
   "execution_count": 133,
   "metadata": {},
   "outputs": [],
   "source": [
    "def mapper(df, search, case, parent):\n",
    "    df.loc[df['FUNDING_SOURCES'].str.contains(search, case=case), 'TYPE'] = parent"
   ]
  },
  {
   "cell_type": "code",
   "execution_count": 134,
   "metadata": {},
   "outputs": [],
   "source": [
    "agent_frame['TYPE'] = \"\"\n",
    "mapper(agent_frame,\"NIH\",True,\"Government Agency\")\n",
    "mapper(agent_frame,\"HHS\",True,\"Government Agency\")\n",
    "mapper(agent_frame,\"Canada Graduate Scholarship\",False,\"Government Agency\")\n",
    "mapper(agent_frame,\"Science Foundation of China\",False,\"Government Agency\")\n",
    "mapper(agent_frame,\"Sanofi\",False,\"Corporation\")\n",
    "mapper(agent_frame,\"Department of Health\",False,\"Government Agency\")\n",
    "mapper(agent_frame,\"IngaBritt och Arne Lundbergs Forskningsstiftelse\",False,\"Foundation\")\n",
    "mapper(agent_frame,\"VA\",True,\"Government Agency\")\n",
    "mapper(agent_frame,\"Horizon 2020 research and innovation program EU-TRAIN\",False,\"Government Agency\")\n",
    "mapper(agent_frame,\"Horizon Europe\",False,\"Government Agency\")\n",
    "mapper(agent_frame,\"Japan Society for the Promotion of Science\",False,\"Foundation\")\n",
    "mapper(agent_frame,\"Medical Research Council\",False,\"Government Agency\")\n",
    "mapper(agent_frame,\"Janssen\",False,\"Corporation\")\n",
    "mapper(agent_frame,\"Science Foundation Ireland\",False,\"Government Agency\")\n",
    "mapper(agent_frame,\"Novo\",False,\"Corporation\")\n",
    "mapper(agent_frame,\"Nierstichting\",False,\"Foundation\")\n",
    "mapper(agent_frame,\"CIHR\",True,\"Government Agency\")\n",
    "mapper(agent_frame,\"Interdisciplinary Clinical Research Project of Peking University First Hospital\",True,\"Academic Institute\")\n",
    "mapper(agent_frame,\"ANR\",True,\"Government Agency\")\n",
    "mapper(agent_frame,\"FWO\",True,\"Foundation\")\n",
    "mapper(agent_frame,\"Chan Zuckerberg Initiative\",False,\"Corporation\")\n",
    "mapper(agent_frame,\"This research has been principally supported by grants from Genome Canada, Canada Foundation for Innovation, the University of Alberta Hospital Foundation, the Alberta Ministry of Advanced Education, the Mendez National Institute of Transplantation Foundation, and Industrial Research Assistance Program. Partial support was also provided by funding from a licensing agreement with the One Lambda division of Thermo Fisher. Dr. Halloran held a Canada Research Chair in Transplant Immunology until 2008 and currently holds the Muttart Chair in Clinical Immunology.\",False,\"Government Agency,Corporation\")\n",
    "mapper(agent_frame,\"AstraZeneca\",False,\"Corporation\")\n",
    "mapper(agent_frame,\"British Heart Foundation\",False,\"Foundation\")\n",
    "mapper(agent_frame,\"National High Level Hospital Clinical Research Funding\",False,\"Government Agency\")\n",
    "mapper(agent_frame,\"Deutsche Forschungsgemeinschaft\",False,\"Foundation\")\n",
    "mapper(agent_frame,\"Wellcome Trust\",False,\"Foundation\")\n",
    "mapper(agent_frame,\"Health and Medical Research Fund\",False,\"Government Agency\")\n",
    "mapper(agent_frame,\"Doris Duke Charitable Foundation\",False,\"Foundation\")\n",
    "mapper(agent_frame,\"Aurinia\",False,\"Corporation\")\n",
    "mapper(agent_frame,\"ASN FOundation\",False,\"Foundation\")\n",
    "mapper(agent_frame,\"National Key Research and Development Program of China\",False,\"Government Agency\")\n",
    "mapper(agent_frame,\"WWTF\",False,\"Government Agency\")\n",
    "mapper(agent_frame,\"Vetenskapsrådet\",False,\"Government Agency\")\n",
    "mapper(agent_frame,\"Scientific Fund of the Mayor of Vienna\",False,\"Government Agency\")\n",
    "mapper(agent_frame,\"Natera\",False,\"Corporation\")\n"
   ]
  },
  {
   "cell_type": "code",
   "execution_count": 135,
   "metadata": {},
   "outputs": [],
   "source": [
    "agent_frame.to_csv(\"FUND_MAPS.csv\")"
   ]
  },
  {
   "cell_type": "code",
   "execution_count": 136,
   "metadata": {},
   "outputs": [],
   "source": [
    "fund_frame = pd.read_csv('FUND_MAPS.csv')"
   ]
  },
  {
   "cell_type": "code",
   "execution_count": 137,
   "metadata": {},
   "outputs": [],
   "source": [
    "fund_dict = dict(zip(fund_frame['FUNDING_SOURCES'],fund_frame['TYPE']))"
   ]
  },
  {
   "cell_type": "code",
   "execution_count": 138,
   "metadata": {},
   "outputs": [
    {
     "data": {
      "text/plain": [
       "'Government Agency'"
      ]
     },
     "execution_count": 138,
     "metadata": {},
     "output_type": "execute_result"
    }
   ],
   "source": [
    "fund_dict['Medical Research Council']"
   ]
  },
  {
   "cell_type": "code",
   "execution_count": 139,
   "metadata": {},
   "outputs": [],
   "source": [
    "def fund_mapper(grant_string):\n",
    "    agency_types = set()\n",
    "    for e in grant_string.split(\"[]\"):\n",
    "        try:\n",
    "            gid, gacrnym, gagency, gcountry = e.split(\"||\")\n",
    "        except:\n",
    "            pass\n",
    "        else:\n",
    "            for agent in gagency.split(\",\"):\n",
    "                try:\n",
    "                    agency_types.add(fund_dict[agent])\n",
    "                except:\n",
    "                    pass\n",
    "    return agency_types\n"
   ]
  },
  {
   "cell_type": "code",
   "execution_count": 140,
   "metadata": {},
   "outputs": [],
   "source": [
    "df['FUNDING_TYPE']=df['Grants_and_Funding'].apply(fund_mapper)"
   ]
  },
  {
   "cell_type": "markdown",
   "metadata": {},
   "source": [
    "df.to_csv(\"silo_2.csv\")"
   ]
  },
  {
   "cell_type": "markdown",
   "metadata": {},
   "source": [
    "# Conflict of Interest"
   ]
  },
  {
   "cell_type": "code",
   "execution_count": 141,
   "metadata": {},
   "outputs": [],
   "source": [
    "cois = pd.read_csv(\"COI_MAP.csv\")"
   ]
  },
  {
   "cell_type": "code",
   "execution_count": 142,
   "metadata": {},
   "outputs": [],
   "source": [
    "cois['COI?'].fillna(\"Yes\",inplace=True)"
   ]
  },
  {
   "cell_type": "code",
   "execution_count": 143,
   "metadata": {},
   "outputs": [],
   "source": [
    "coi_dict = dict(zip(cois['0'],cois['COI?']))"
   ]
  },
  {
   "cell_type": "code",
   "execution_count": 144,
   "metadata": {},
   "outputs": [],
   "source": [
    "def coi_mapper(coi_string):\n",
    "    return coi_dict[coi_string]"
   ]
  },
  {
   "cell_type": "code",
   "execution_count": 145,
   "metadata": {},
   "outputs": [],
   "source": [
    "coi_dict.update({'':\"No\"})"
   ]
  },
  {
   "cell_type": "code",
   "execution_count": 146,
   "metadata": {},
   "outputs": [],
   "source": [
    "df['COI?']=df['Conflict_of_Interest'].apply(coi_mapper)"
   ]
  },
  {
   "cell_type": "markdown",
   "metadata": {},
   "source": [
    "# Pub Type"
   ]
  },
  {
   "cell_type": "code",
   "execution_count": 147,
   "metadata": {},
   "outputs": [],
   "source": [
    "type_set = set(df['Pub Type'])"
   ]
  },
  {
   "cell_type": "code",
   "execution_count": 148,
   "metadata": {},
   "outputs": [
    {
     "data": {
      "text/plain": [
       "106"
      ]
     },
     "execution_count": 148,
     "metadata": {},
     "output_type": "execute_result"
    }
   ],
   "source": [
    "len(type_set)"
   ]
  },
  {
   "cell_type": "code",
   "execution_count": 149,
   "metadata": {},
   "outputs": [
    {
     "data": {
      "text/plain": [
       "{' Extramural',\n",
       " ' Intramural',\n",
       " ' N.I.H.',\n",
       " ' Non-P.H.S.',\n",
       " \" Non-U.S. Gov't\",\n",
       " ' P.H.S.',\n",
       " ' Phase I',\n",
       " ' Phase II',\n",
       " ' Phase III',\n",
       " \" U.S. Gov't\",\n",
       " 'Case Reports',\n",
       " 'Clinical Trial',\n",
       " 'Comment',\n",
       " 'Comparative Study',\n",
       " 'Congress',\n",
       " 'Editorial',\n",
       " 'Historical Article',\n",
       " 'Journal Article',\n",
       " 'Letter',\n",
       " 'Meta-Analysis',\n",
       " 'Multicenter Study',\n",
       " 'Observational Study',\n",
       " 'Practice Guideline',\n",
       " 'Published Erratum',\n",
       " 'Randomized Controlled Trial',\n",
       " 'Research Support',\n",
       " 'Review',\n",
       " 'Systematic Review',\n",
       " 'Validation Study'}"
      ]
     },
     "execution_count": 149,
     "metadata": {},
     "output_type": "execute_result"
    }
   ],
   "source": [
    "distinct_types = set()\n",
    "for e in type_set:\n",
    "    for type in e.split(\",\"):\n",
    "        distinct_types.add(type)\n",
    "distinct_types\n"
   ]
  },
  {
   "cell_type": "code",
   "execution_count": 150,
   "metadata": {},
   "outputs": [],
   "source": [
    "distinct_types.remove(' Extramural')\n",
    "distinct_types.remove(' Intramural')\n",
    "distinct_types.remove(' N.I.H.')\n",
    "distinct_types.remove(' Non-P.H.S.')\n",
    "distinct_types.remove(' P.H.S.')\n",
    "distinct_types.remove(' Phase I')\n",
    "distinct_types.remove(' Phase II')\n",
    "distinct_types.remove(' Phase III')\n",
    "distinct_types.remove(\" U.S. Gov't\")\n",
    "distinct_types.remove(\" Non-U.S. Gov't\")\n",
    "distinct_types.remove('Research Support')"
   ]
  },
  {
   "cell_type": "code",
   "execution_count": 151,
   "metadata": {},
   "outputs": [
    {
     "data": {
      "text/plain": [
       "{'Case Reports',\n",
       " 'Clinical Trial',\n",
       " 'Comment',\n",
       " 'Comparative Study',\n",
       " 'Congress',\n",
       " 'Editorial',\n",
       " 'Historical Article',\n",
       " 'Journal Article',\n",
       " 'Letter',\n",
       " 'Meta-Analysis',\n",
       " 'Multicenter Study',\n",
       " 'Observational Study',\n",
       " 'Practice Guideline',\n",
       " 'Published Erratum',\n",
       " 'Randomized Controlled Trial',\n",
       " 'Review',\n",
       " 'Systematic Review',\n",
       " 'Validation Study'}"
      ]
     },
     "execution_count": 151,
     "metadata": {},
     "output_type": "execute_result"
    }
   ],
   "source": [
    "distinct_types"
   ]
  },
  {
   "cell_type": "code",
   "execution_count": 152,
   "metadata": {},
   "outputs": [
    {
     "data": {
      "text/plain": [
       "\"Journal Article,Review,Research Support, Non-U.S. Gov't\""
      ]
     },
     "execution_count": 152,
     "metadata": {},
     "output_type": "execute_result"
    }
   ],
   "source": [
    "df['Pub Type'][0]"
   ]
  },
  {
   "cell_type": "code",
   "execution_count": 153,
   "metadata": {},
   "outputs": [],
   "source": [
    "test_type_set = set()\n",
    "for type in distinct_types:\n",
    "    if type in df['Pub Type'][0]:\n",
    "        test_type_set.add(type)"
   ]
  },
  {
   "cell_type": "code",
   "execution_count": 154,
   "metadata": {},
   "outputs": [],
   "source": [
    "def type_mapper(type_string):\n",
    "    type_set = set()\n",
    "    for type in distinct_types:\n",
    "        if type in type_string:\n",
    "            type_set.add(type)\n",
    "    return type_set"
   ]
  },
  {
   "cell_type": "code",
   "execution_count": 155,
   "metadata": {},
   "outputs": [],
   "source": [
    "df['PUB_TYPES'] = df['Pub Type'].apply(type_mapper)"
   ]
  },
  {
   "cell_type": "code",
   "execution_count": 156,
   "metadata": {},
   "outputs": [],
   "source": [
    "df.to_csv(\"another_parent.csv\")"
   ]
  },
  {
   "cell_type": "markdown",
   "metadata": {},
   "source": [
    "# Okay, its time"
   ]
  },
  {
   "cell_type": "code",
   "execution_count": 1,
   "metadata": {},
   "outputs": [],
   "source": [
    "import pandas as pd\n",
    "from transformers import pipeline\n",
    "#classifier = pipeline(\"zero-shot-classification\", model=\"facebook/bart-large-mnli\")\n"
   ]
  },
  {
   "cell_type": "code",
   "execution_count": 3,
   "metadata": {},
   "outputs": [],
   "source": [
    "df = pd.read_csv(\"iteration_2_data.csv\")"
   ]
  },
  {
   "cell_type": "code",
   "execution_count": 4,
   "metadata": {},
   "outputs": [],
   "source": [
    "abstracts = df[['PMID','ARTICLES']].dropna()\n"
   ]
  },
  {
   "cell_type": "code",
   "execution_count": 310,
   "metadata": {},
   "outputs": [
    {
     "data": {
      "application/vnd.jupyter.widget-view+json": {
       "model_id": "058012e67c834fecb227531c9af53b1f",
       "version_major": 2,
       "version_minor": 0
      },
      "text/plain": [
       "config.json:   0%|          | 0.00/18.5k [00:00<?, ?B/s]"
      ]
     },
     "metadata": {},
     "output_type": "display_data"
    },
    {
     "data": {
      "application/vnd.jupyter.widget-view+json": {
       "model_id": "78a3f159b69b47c286673936446b33c7",
       "version_major": 2,
       "version_minor": 0
      },
      "text/plain": [
       "model.safetensors:   0%|          | 0.00/738M [00:00<?, ?B/s]"
      ]
     },
     "metadata": {},
     "output_type": "display_data"
    },
    {
     "data": {
      "application/vnd.jupyter.widget-view+json": {
       "model_id": "c730ad1bddaf4634ad12f1605eb558f2",
       "version_major": 2,
       "version_minor": 0
      },
      "text/plain": [
       "tokenizer_config.json:   0%|          | 0.00/1.28k [00:00<?, ?B/s]"
      ]
     },
     "metadata": {},
     "output_type": "display_data"
    },
    {
     "data": {
      "application/vnd.jupyter.widget-view+json": {
       "model_id": "462ee95a281b45f9ad37275286acc037",
       "version_major": 2,
       "version_minor": 0
      },
      "text/plain": [
       "spm.model:   0%|          | 0.00/2.46M [00:00<?, ?B/s]"
      ]
     },
     "metadata": {},
     "output_type": "display_data"
    },
    {
     "data": {
      "application/vnd.jupyter.widget-view+json": {
       "model_id": "e58c7d5cb0d744d5ad20730eef3e3ad4",
       "version_major": 2,
       "version_minor": 0
      },
      "text/plain": [
       "tokenizer.json:   0%|          | 0.00/8.66M [00:00<?, ?B/s]"
      ]
     },
     "metadata": {},
     "output_type": "display_data"
    },
    {
     "data": {
      "application/vnd.jupyter.widget-view+json": {
       "model_id": "563aefca8a074b82be82bf96ead41859",
       "version_major": 2,
       "version_minor": 0
      },
      "text/plain": [
       "added_tokens.json:   0%|          | 0.00/23.0 [00:00<?, ?B/s]"
      ]
     },
     "metadata": {},
     "output_type": "display_data"
    },
    {
     "data": {
      "application/vnd.jupyter.widget-view+json": {
       "model_id": "9b50846f9e5f48ada0bdf7abae359f30",
       "version_major": 2,
       "version_minor": 0
      },
      "text/plain": [
       "special_tokens_map.json:   0%|          | 0.00/286 [00:00<?, ?B/s]"
      ]
     },
     "metadata": {},
     "output_type": "display_data"
    }
   ],
   "source": [
    "classifier = pipeline(\"zero-shot-classification\", model=\"sileod/deberta-v3-base-tasksource-nli\",device='mps')  # change the model identifier here\n",
    "# classifier = pipeline(\"zero-shot-classification\", model=\"MoritzLaurer/deberta-v3-large-zeroshot-v2.0\",device='mps')  # change the model identifier here"
   ]
  },
  {
   "cell_type": "code",
   "execution_count": 311,
   "metadata": {},
   "outputs": [
    {
     "data": {
      "text/plain": [
       "525"
      ]
     },
     "execution_count": 311,
     "metadata": {},
     "output_type": "execute_result"
    }
   ],
   "source": [
    "abstracts = df['Abstract'].dropna()\n",
    "len(abstracts)"
   ]
  },
  {
   "cell_type": "code",
   "execution_count": 312,
   "metadata": {},
   "outputs": [
    {
     "data": {
      "text/plain": [
       "0      Thrombotic microangiopathy (TMA), a pathologic...\n",
       "1      IgA nephropathy can progress to kidney failure...\n",
       "2      AKI is a common complication of critical illne...\n",
       "3      As the global prevalence of peritoneal dialysi...\n",
       "4      KRT is considered for patients with severe AKI...\n",
       "                             ...                        \n",
       "617    The histological prevalence of allograft fibro...\n",
       "618    The impaired immune response to coronavirus di...\n",
       "619    The impaired physical fitness of end-stage liv...\n",
       "620    Costimulatory blockade-induced allograft toler...\n",
       "621    This study aims to investigate the rationality...\n",
       "Name: Abstract, Length: 525, dtype: object"
      ]
     },
     "execution_count": 312,
     "metadata": {},
     "output_type": "execute_result"
    }
   ],
   "source": [
    "abstracts"
   ]
  },
  {
   "cell_type": "code",
   "execution_count": 313,
   "metadata": {},
   "outputs": [],
   "source": [
    "df_abstracts = pd.DataFrame(abstracts)"
   ]
  },
  {
   "cell_type": "code",
   "execution_count": 314,
   "metadata": {},
   "outputs": [],
   "source": [
    "df_abstracts['KIDNEY'] = \"\"\n",
    "df_abstracts['TRANSPLANT'] = \"\"\n",
    "df_abstracts[\"BOTH\"] = \"\""
   ]
  },
  {
   "cell_type": "code",
   "execution_count": 315,
   "metadata": {},
   "outputs": [],
   "source": [
    "def kidney_mapper(df, search, case, parent):\n",
    "    df.loc[df['Abstract'].str.contains(search, case=case), 'KIDNEY'] = parent"
   ]
  },
  {
   "cell_type": "code",
   "execution_count": 316,
   "metadata": {},
   "outputs": [],
   "source": [
    "kidney_mapper(df_abstracts,\"kidney\",False,\"Yes\")\n",
    "kidney_mapper(df_abstracts,\"dialysis\",False,\"Yes\")\n",
    "kidney_mapper(df_abstracts,\"CKD\",True,\"Yes\")\n",
    "kidney_mapper(df_abstracts,\"diuresis\",False,\"Yes\")\n",
    "kidney_mapper(df_abstracts,\"glomerular\",False,\"Yes\")\n",
    "kidney_mapper(df_abstracts,\"GFR\",True,\"Yes\")\n",
    "kidney_mapper(df_abstracts,\"nephr\",False,\"Yes\")\n",
    "kidney_mapper(df_abstracts,'AKI',True,\"Yes\")\n",
    "kidney_mapper(df_abstracts,'renal',False,\"Yes\")\n",
    "kidney_mapper(df_abstracts,'convoluted tubule',False,\"Yes\")\n",
    "kidney_mapper(df_abstracts,\"natremia\",False,\"Yes\")\n",
    "kidney_mapper(df_abstracts,\"erythropoietin\",False,\"Yes\")\n",
    "kidney_mapper(df_abstracts,\"gitelman\",False,\"Yes\")\n",
    "kidney_mapper(df_abstracts,\"uropath\",False,\"Yes\")\n",
    "kidney_mapper(df_abstracts,\"creatinine\",False,\"Yes\")\n",
    "kidney_mapper(df_abstracts,\"aldoster\",False,\"Yes\")\n",
    "kidney_mapper(df_abstracts,\"podcast\",False,\"Yes\")\n",
    "kidney_mapper(df_abstracts,\"albumin\",False,\"Yes\")\n",
    "kidney_mapper(df_abstracts,\"uremic\",False,\"Yes\")"
   ]
  },
  {
   "cell_type": "code",
   "execution_count": 317,
   "metadata": {},
   "outputs": [],
   "source": [
    "def transplant_mapper(df, search, case, parent):\n",
    "    df.loc[df['Abstract'].str.contains(search, case=case), 'TRANSPLANT'] = parent"
   ]
  },
  {
   "cell_type": "code",
   "execution_count": 318,
   "metadata": {},
   "outputs": [],
   "source": [
    "transplant_mapper(df_abstracts,\"transplant\",False,\"Yes\")\n",
    "transplant_mapper(df_abstracts,\"organ proc\",False,\"Yes\")\n",
    "transplant_mapper(df_abstracts,\"perfusion\",False,\"Yes\")\n",
    "transplant_mapper(df_abstracts,\"rejection\",False,\"Yes\")\n",
    "transplant_mapper(df_abstracts,\"allocation\",False,\"Yes\")\n",
    "transplant_mapper(df_abstracts,\"graft\",False,\"Yes\")\n"
   ]
  },
  {
   "cell_type": "code",
   "execution_count": 319,
   "metadata": {},
   "outputs": [],
   "source": [
    "df_abstracts['KIDNEY'][299] = \"Yes\"\n",
    "df_abstracts['KIDNEY'][375] = \"Yes\"\n",
    "df_abstracts['KIDNEY'][368] = \"Yes\""
   ]
  },
  {
   "cell_type": "code",
   "execution_count": 320,
   "metadata": {},
   "outputs": [],
   "source": [
    "def both_map(df):\n",
    "    if (df['KIDNEY'] == \"Yes\") and (df['TRANSPLANT'] == \"Yes\"):\n",
    "        return \"Yes\""
   ]
  },
  {
   "cell_type": "code",
   "execution_count": 321,
   "metadata": {},
   "outputs": [],
   "source": [
    "df_abstracts['BOTH'] = df_abstracts.apply(lambda x: both_map(x),axis=1)\n",
    "df_abstracts['BOTH'].fillna(\"\", inplace=True)"
   ]
  },
  {
   "cell_type": "code",
   "execution_count": 326,
   "metadata": {},
   "outputs": [],
   "source": [
    "def categorizer(abstract, kidney, transplant,both):\n",
    "    hypothesis_template = \"This text is about {}\"\n",
    "    candidate_labels = \"\"\n",
    "    candidate_transplant_labels =  [\n",
    "        \"Abdominal Transplantation\", \n",
    "        \"Bioengineering\", \n",
    "        \"Cell and Stem Cell Transplantation\", \n",
    "        \"Immunosuppression\", \n",
    "        \"Organ and Tissue Preservation\", \n",
    "        \"Thoracic Transplantation\", \n",
    "        \"Tissue Injury\", \n",
    "        \"Repair\", \n",
    "        \"Inflammation and Aging\", \n",
    "        \"Transplantation Immunology\", \n",
    "        \"Vascularized Composite Allotransplantation\", \n",
    "        \"Xenotransplantation\"\n",
    "    ]\n",
    "\n",
    "    candidate_kidney_labels = [\n",
    "    \"Blood Purification\",\n",
    "    \"Cardionephrology\",\n",
    "    \"Clinical Research in Nephrology\",\n",
    "    \"Critical Care in Nephrology\",\n",
    "    \"Glomerular Disease\",\n",
    "    \"Kidney Transplantation\",\n",
    "    \"Onconephrology\",\n",
    "    \"Pediatric Nephrology\",\n",
    "]\n",
    "    if both == \"Yes\":\n",
    "        candidate_labels = [candidate_kidney_labels, candidate_transplant_labels]\n",
    "    elif kidney == \"Yes\":\n",
    "        candidate_labels = [candidate_kidney_labels]\n",
    "    elif transplant == \"Yes\":\n",
    "        candidate_labels = [candidate_transplant_labels]\n",
    "    else:\n",
    "        candidate_labels = \"Uncategorizable\"\n",
    "\n",
    "    if candidate_labels == \"Uncategorizable\":\n",
    "        return \"Uncategorizable\"\n",
    "\n",
    "    abstract = abstract\n",
    "    classify = []\n",
    "    res = []\n",
    "\n",
    "    for label in candidate_labels:\n",
    "      classify.append(classifier(abstract, label,multi_label=False)) #hypothesis_template=hypothesis_template, ))\n",
    "\n",
    "    for classified in classify:\n",
    "      res.append(dict(zip(classified['labels'], classified['scores'])))\n",
    "\n",
    "    return res"
   ]
  },
  {
   "cell_type": "code",
   "execution_count": 324,
   "metadata": {},
   "outputs": [
    {
     "data": {
      "text/plain": [
       "[{'Pediatric Nephrology': 0.3056304454803467,\n",
       "  'Glomerular Disease': 0.24662679433822632,\n",
       "  'Clinical Research in Nephrology': 0.1490461528301239,\n",
       "  'Blood Purification': 0.08895881474018097,\n",
       "  'Onconephrology': 0.05999640375375748,\n",
       "  'Critical Care in Nephrology': 0.058100130409002304,\n",
       "  'Kidney Transplantation': 0.0514473132789135,\n",
       "  'Cardionephrology': 0.04019394889473915}]"
      ]
     },
     "execution_count": 324,
     "metadata": {},
     "output_type": "execute_result"
    }
   ],
   "source": [
    "idx=200\n",
    "x,y,z,w = df_abstracts['Abstract'][idx], df_abstracts['KIDNEY'][idx], df_abstracts['TRANSPLANT'][idx], df_abstracts['BOTH'][idx]\n",
    "categorizer(x,y,z,w)"
   ]
  },
  {
   "cell_type": "code",
   "execution_count": 327,
   "metadata": {},
   "outputs": [],
   "source": [
    "df_abstracts['CATEGORY'] = [categorizer(x,y,z,w) for x,y,z,w in zip(df_abstracts['Abstract'], df_abstracts['KIDNEY'], df_abstracts['TRANSPLANT'], df_abstracts['BOTH'])]"
   ]
  },
  {
   "cell_type": "code",
   "execution_count": 328,
   "metadata": {},
   "outputs": [],
   "source": [
    "abstract_map = dict(zip(df_abstracts['Abstract'], df_abstracts['CATEGORY']))"
   ]
  },
  {
   "cell_type": "code",
   "execution_count": 329,
   "metadata": {},
   "outputs": [],
   "source": [
    "def abstract_mapper(abstract_string):\n",
    "    if abstract_string in abstract_map:\n",
    "        return abstract_map[abstract_string]"
   ]
  },
  {
   "cell_type": "code",
   "execution_count": 330,
   "metadata": {},
   "outputs": [],
   "source": [
    "df['raw_categories'] = df['Abstract'].apply(abstract_mapper)"
   ]
  },
  {
   "cell_type": "code",
   "execution_count": 331,
   "metadata": {},
   "outputs": [],
   "source": [
    "df.to_csv(\"abstract_classified_with-deberta-v3-tasksource-v2.0.csv\")"
   ]
  }
 ],
 "metadata": {
  "kernelspec": {
   "display_name": "Python 3 (ipykernel)",
   "language": "python",
   "name": "python3"
  },
  "language_info": {
   "codemirror_mode": {
    "name": "ipython",
    "version": 3
   },
   "file_extension": ".py",
   "mimetype": "text/x-python",
   "name": "python",
   "nbconvert_exporter": "python",
   "pygments_lexer": "ipython3",
   "version": "3.11.9"
  }
 },
 "nbformat": 4,
 "nbformat_minor": 4
}
