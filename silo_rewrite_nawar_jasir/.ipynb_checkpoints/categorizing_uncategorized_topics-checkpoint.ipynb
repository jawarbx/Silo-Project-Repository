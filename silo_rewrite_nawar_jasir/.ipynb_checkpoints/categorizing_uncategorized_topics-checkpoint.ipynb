{
 "cells": [
  {
   "cell_type": "code",
   "execution_count": 1,
   "metadata": {},
   "outputs": [],
   "source": [
    "import pandas as pd\n",
    "uncat = pd.read_csv(\"uncategorized.csv\").fillna(\"\")"
   ]
  },
  {
   "cell_type": "code",
   "execution_count": 2,
   "metadata": {},
   "outputs": [],
   "source": [
    "curr = pd.read_csv(\"departments_extracted.csv\").fillna(\"\")"
   ]
  },
  {
   "cell_type": "code",
   "execution_count": 3,
   "metadata": {},
   "outputs": [
    {
     "data": {
      "text/plain": [
       "0     36822739\n",
       "1     37314770\n",
       "2     37081637\n",
       "3     36428134\n",
       "4     36759239\n",
       "        ...   \n",
       "82    37220336\n",
       "83    37309031\n",
       "84    37389648\n",
       "85    37677940\n",
       "86    36199169\n",
       "Name: Unnamed: 0, Length: 87, dtype: int64"
      ]
     },
     "execution_count": 3,
     "metadata": {},
     "output_type": "execute_result"
    }
   ],
   "source": [
    "uncat['Unnamed: 0']"
   ]
  },
  {
   "cell_type": "code",
   "execution_count": 4,
   "metadata": {},
   "outputs": [],
   "source": [
    "uncat_map = dict(zip(uncat['Unnamed: 0'], uncat['0']))"
   ]
  },
  {
   "cell_type": "code",
   "execution_count": 5,
   "metadata": {},
   "outputs": [
    {
     "data": {
      "text/plain": [
       "{36822739: 'Kidney Transplantation',\n",
       " 37314770: 'Tissue Injury',\n",
       " 37081637: 'Inflammation and Aging',\n",
       " 36428134: 'Blood Purification',\n",
       " 36759239: 'Clinical Research in Nephrology',\n",
       " 37589626: 'Clinical Research in Nephrology',\n",
       " 36528464: 'Blood Purification',\n",
       " 36775203: 'Kidney Transplantation',\n",
       " 36153151: 'Clinical Research in Nephrology',\n",
       " 37499685: 'Immunosuppression',\n",
       " 37526983: 'Blood Purification',\n",
       " 37801688: 'Clinical Research in Nephrology',\n",
       " 37737748: 'Glomerular Disease',\n",
       " 37318401: 'Clinical Research in Nephrology',\n",
       " 35842013: 'Glomerular Disease',\n",
       " 38081406: 'Clinical Research in Nephrology',\n",
       " 37907451: 'Immunosuppression',\n",
       " 36795086: 'Critical Care in Nephrology',\n",
       " 37523307: 'Clinical Research in Nephrology',\n",
       " 38127033: 'Kidney Transplantation',\n",
       " 36750034: 'Immunosuppression',\n",
       " 36914585: 'Clinical Research in Nephrology',\n",
       " 35810826: 'Pediatric Nephrology',\n",
       " 36735373: 'Transplantation Immunology',\n",
       " 37656451: 'Clinical Research in Nephrology',\n",
       " 37314774: 'Clinical Research in Nephrology',\n",
       " 37782546: 'Transplantation Immunology',\n",
       " 37934632: 'Blood Purification',\n",
       " 36723176: 'Kidney Transplantation',\n",
       " 37052952: 'Clinical Research in Nephrology',\n",
       " 37394267: '',\n",
       " 37733367: 'Clinical Research in Nephrology',\n",
       " 36918385: 'Kidney Transplantation',\n",
       " 36550624: 'Organ and Tissue Preservation',\n",
       " 36586559: 'Onconephrology',\n",
       " 37870881: 'Transplantation Immunology',\n",
       " 37939208: 'Clinical Research in Nephrology',\n",
       " 37220171: 'Clinical Research in Nephrology',\n",
       " 37163584: 'Kidney Transplantation',\n",
       " 37876239: 'Pediatric Nephrology',\n",
       " 36455682: 'Clinical Research in Nephrology',\n",
       " 38010153: 'Repair',\n",
       " 36965828: 'Clinical Research in Nephrology',\n",
       " 37642955: 'Kidney Transplantation',\n",
       " 36976655: 'Glomerular Disease',\n",
       " 36328100: 'Clinical Research in Nephrology',\n",
       " 36283810: 'Kidney Transplantation',\n",
       " 37516300: 'Kidney Transplantation',\n",
       " 38108673: 'Glomerular Disease',\n",
       " 38150244: 'Blood Purification',\n",
       " 38109091: 'Glomerular Disease',\n",
       " 37801686: 'Clinical Research in Nephrology',\n",
       " 36344210: 'Critical Care in Nephrology',\n",
       " 38096088: 'Clinical Research in Nephrology',\n",
       " 36754002: 'Clinical Research in Nephrology',\n",
       " 38039089: 'Clinical Research in Nephrology',\n",
       " 37921833: 'Clinical Research in Nephrology',\n",
       " 38039090: 'Clinical Research in Nephrology',\n",
       " 37678741: 'Blood Purification',\n",
       " 36795033: 'Immunosuppression',\n",
       " 37717845: 'Clinical Research in Nephrology',\n",
       " 37972815: 'Blood Purification',\n",
       " 38087445: 'Kidney Transplantation',\n",
       " 37030585: 'Clinical Research in Nephrology',\n",
       " 37678742: 'Glomerular Disease',\n",
       " 37459117: 'Clinical Research in Nephrology',\n",
       " 37490295: 'Cardionephrology',\n",
       " 37707829: 'Clinical Research in Nephrology',\n",
       " 36357127: 'Clinical Research in Nephrology',\n",
       " 36719148: 'Clinical Research in Nephrology',\n",
       " 36220190: 'Kidney Transplantation',\n",
       " 38015564: 'Blood Purification',\n",
       " 36808841: 'Organ and Tissue Preservation',\n",
       " 36314999: 'Transplantation Immunology',\n",
       " 36508651: 'Transplantation Immunology',\n",
       " 36253912: 'Kidney Transplantation',\n",
       " 36949031: 'Transplantation Immunology',\n",
       " 36808845: 'Transplantation Immunology',\n",
       " 35969003: 'Inflammation and Aging',\n",
       " 37122085: 'Organ and Tissue Preservation',\n",
       " 36584367: 'Organ and Tissue Preservation',\n",
       " 36706066: 'Transplantation Immunology',\n",
       " 37220336: 'Kidney Transplantation',\n",
       " 37309031: 'Transplantation Immunology',\n",
       " 37389648: 'Transplantation Immunology',\n",
       " 37677940: 'Organ and Tissue Preservation',\n",
       " 36199169: 'Glomerular Disease'}"
      ]
     },
     "execution_count": 5,
     "metadata": {},
     "output_type": "execute_result"
    }
   ],
   "source": [
    "uncat_map"
   ]
  },
  {
   "cell_type": "code",
   "execution_count": 6,
   "metadata": {},
   "outputs": [
    {
     "data": {
      "text/plain": [
       "'Tissue Injury'"
      ]
     },
     "execution_count": 6,
     "metadata": {},
     "output_type": "execute_result"
    }
   ],
   "source": [
    "uncat_map[37314770]"
   ]
  },
  {
   "cell_type": "code",
   "execution_count": 7,
   "metadata": {},
   "outputs": [],
   "source": [
    "pmid =37314770"
   ]
  },
  {
   "cell_type": "code",
   "execution_count": 8,
   "metadata": {},
   "outputs": [
    {
     "name": "stderr",
     "output_type": "stream",
     "text": [
      "/var/folders/f9/x6_f23z13z1dpfwmrmvqkhbm0000gn/T/ipykernel_14098/925151598.py:3: SettingWithCopyWarning: \n",
      "A value is trying to be set on a copy of a slice from a DataFrame\n",
      "\n",
      "See the caveats in the documentation: https://pandas.pydata.org/pandas-docs/stable/user_guide/indexing.html#returning-a-view-versus-a-copy\n",
      "  curr['ABSTRACT_CATEGORIES'].loc[curr['PMID'] == pmid] = uncat_map[pmid]\n"
     ]
    }
   ],
   "source": [
    "for pmid in curr['PMID']:\n",
    "    if pmid in uncat_map.keys():\n",
    "        curr['ABSTRACT_CATEGORIES'].loc[curr['PMID'] == pmid] = uncat_map[pmid]"
   ]
  },
  {
   "cell_type": "code",
   "execution_count": 9,
   "metadata": {},
   "outputs": [],
   "source": [
    "no_abstracts = pd.read_csv(\"Article_scraped.csv\",encoding='latin-1').fillna(\"\")"
   ]
  },
  {
   "cell_type": "code",
   "execution_count": 21,
   "metadata": {},
   "outputs": [],
   "source": [
    "no_abstracts['KIDNEY'] = \"\"\n",
    "no_abstracts['TRANSPLANT'] = \"\"\n",
    "no_abstracts[\"BOTH\"] = \"\"\n",
    "def kidney_mapper(df, search, case, parent):\n",
    "    df.loc[df['ARTICLES'].str.contains(search, case=case), 'KIDNEY'] = parent\n",
    "\n",
    "def transplant_mapper(df, search, case, parent):\n",
    "    df.loc[df['ARTICLES'].str.contains(search, case=case), 'TRANSPLANT'] = parent\n",
    "    \n",
    "def both_mapper(df):\n",
    "    if (df['KIDNEY'] == \"Yes\") and (df['TRANSPLANT'] == \"Yes\"):\n",
    "        return \"Yes\""
   ]
  },
  {
   "cell_type": "code",
   "execution_count": 22,
   "metadata": {},
   "outputs": [],
   "source": [
    "kidney_mapper(no_abstracts,\"kidney\",False,\"Yes\")\n",
    "kidney_mapper(no_abstracts,\"dialysis\",False,\"Yes\")\n",
    "kidney_mapper(no_abstracts,\"CKD\",True,\"Yes\")\n",
    "kidney_mapper(no_abstracts,\"diuresis\",False,\"Yes\")\n",
    "kidney_mapper(no_abstracts,\"glomerular\",False,\"Yes\")\n",
    "kidney_mapper(no_abstracts,\"GFR\",True,\"Yes\")\n",
    "kidney_mapper(no_abstracts,\"nephr\",False,\"Yes\")\n",
    "kidney_mapper(no_abstracts,'AKI',True,\"Yes\")\n",
    "kidney_mapper(no_abstracts,'renal',False,\"Yes\")\n",
    "kidney_mapper(no_abstracts,'convoluted tubule',False,\"Yes\")\n",
    "kidney_mapper(no_abstracts,\"natremia\",False,\"Yes\")\n",
    "kidney_mapper(no_abstracts,\"erythropoietin\",False,\"Yes\")\n",
    "kidney_mapper(no_abstracts,\"gitelman\",False,\"Yes\")\n",
    "kidney_mapper(no_abstracts,\"uropath\",False,\"Yes\")\n",
    "kidney_mapper(no_abstracts,\"creatinine\",False,\"Yes\")\n",
    "kidney_mapper(no_abstracts,\"aldoster\",False,\"Yes\")\n",
    "kidney_mapper(no_abstracts,\"podcast\",False,\"Yes\")\n",
    "kidney_mapper(no_abstracts,\"albumin\",False,\"Yes\")\n",
    "kidney_mapper(no_abstracts,\"uremic\",False,\"Yes\")\n",
    "transplant_mapper(no_abstracts,\"transplant\",False,\"Yes\")\n",
    "transplant_mapper(no_abstracts,\"organ proc\",False,\"Yes\")\n",
    "transplant_mapper(no_abstracts,\"perfusion\",False,\"Yes\")\n",
    "transplant_mapper(no_abstracts,\"rejection\",False,\"Yes\")\n",
    "transplant_mapper(no_abstracts,\"allocation\",False,\"Yes\")\n",
    "transplant_mapper(no_abstracts,\"graft\",False,\"Yes\")\n",
    "no_abstracts['BOTH'] = no_abstracts.apply(lambda x: both_mapper(x),axis=1)\n",
    "no_abstracts['BOTH'].fillna(\"\", inplace=True)"
   ]
  },
  {
   "cell_type": "code",
   "execution_count": 23,
   "metadata": {},
   "outputs": [],
   "source": [
    "\n",
    "kidney_map = dict(zip(no_abstracts['PMID'], no_abstracts['KIDNEY']))\n",
    "transplant_map = dict(zip(no_abstracts['PMID'], no_abstracts['TRANSPLANT']))\n",
    "both_map = dict(zip(no_abstracts['PMID'], no_abstracts['BOTH']))"
   ]
  },
  {
   "cell_type": "code",
   "execution_count": 24,
   "metadata": {},
   "outputs": [],
   "source": [
    "curr['KIDNEY'] = \"\"\n",
    "curr['TRANSPLANT'] = \"\"\n",
    "curr[\"BOTH\"] = \"\"\n",
    "def kidney_mapper(df, search, case, parent):\n",
    "    df.loc[df['Abstract'].str.contains(search, case=case), 'KIDNEY'] = parent\n",
    "\n",
    "def transplant_mapper(df, search, case, parent):\n",
    "    df.loc[df['Abstract'].str.contains(search, case=case), 'TRANSPLANT'] = parent\n",
    "    \n",
    "def both_mapper(df):\n",
    "    if (df['KIDNEY'] == \"Yes\") and (df['TRANSPLANT'] == \"Yes\"):\n",
    "        return \"Yes\"\n",
    "    else:\n",
    "        return \"No\""
   ]
  },
  {
   "cell_type": "code",
   "execution_count": 25,
   "metadata": {},
   "outputs": [],
   "source": [
    "kidney_mapper(curr,\"kidney\",False,\"Yes\")\n",
    "kidney_mapper(curr,\"dialysis\",False,\"Yes\")\n",
    "kidney_mapper(curr,\"CKD\",True,\"Yes\")\n",
    "kidney_mapper(curr,\"diuresis\",False,\"Yes\")\n",
    "kidney_mapper(curr,\"glomerular\",False,\"Yes\")\n",
    "kidney_mapper(curr,\"GFR\",True,\"Yes\")\n",
    "kidney_mapper(curr,\"nephr\",False,\"Yes\")\n",
    "kidney_mapper(curr,'AKI',True,\"Yes\")\n",
    "kidney_mapper(curr,'renal',False,\"Yes\")\n",
    "kidney_mapper(curr,'convoluted tubule',False,\"Yes\")\n",
    "kidney_mapper(curr,\"natremia\",False,\"Yes\")\n",
    "kidney_mapper(curr,\"erythropoietin\",False,\"Yes\")\n",
    "kidney_mapper(curr,\"gitelman\",False,\"Yes\")\n",
    "kidney_mapper(curr,\"uropath\",False,\"Yes\")\n",
    "kidney_mapper(curr,\"creatinine\",False,\"Yes\")\n",
    "kidney_mapper(curr,\"aldoster\",False,\"Yes\")\n",
    "kidney_mapper(curr,\"podcast\",False,\"Yes\")\n",
    "kidney_mapper(curr,\"albumin\",False,\"Yes\")\n",
    "kidney_mapper(curr,\"uremic\",False,\"Yes\")\n",
    "transplant_mapper(curr,\"transplant\",False,\"Yes\")\n",
    "transplant_mapper(curr,\"organ proc\",False,\"Yes\")\n",
    "transplant_mapper(curr,\"perfusion\",False,\"Yes\")\n",
    "transplant_mapper(curr,\"rejection\",False,\"Yes\")\n",
    "transplant_mapper(curr,\"allocation\",False,\"Yes\")\n",
    "transplant_mapper(curr,\"graft\",False,\"Yes\")\n",
    "curr['BOTH'] = curr.apply(lambda x: both_mapper(x),axis=1)\n",
    "curr['BOTH'].fillna(\"\", inplace=True)"
   ]
  },
  {
   "cell_type": "code",
   "execution_count": 26,
   "metadata": {},
   "outputs": [
    {
     "name": "stderr",
     "output_type": "stream",
     "text": [
      "/var/folders/f9/x6_f23z13z1dpfwmrmvqkhbm0000gn/T/ipykernel_14098/2719489729.py:3: SettingWithCopyWarning: \n",
      "A value is trying to be set on a copy of a slice from a DataFrame\n",
      "\n",
      "See the caveats in the documentation: https://pandas.pydata.org/pandas-docs/stable/user_guide/indexing.html#returning-a-view-versus-a-copy\n",
      "  curr['KIDNEY'].loc[curr['PMID'] == pmid] = kidney_map[pmid]\n",
      "/var/folders/f9/x6_f23z13z1dpfwmrmvqkhbm0000gn/T/ipykernel_14098/2719489729.py:4: SettingWithCopyWarning: \n",
      "A value is trying to be set on a copy of a slice from a DataFrame\n",
      "\n",
      "See the caveats in the documentation: https://pandas.pydata.org/pandas-docs/stable/user_guide/indexing.html#returning-a-view-versus-a-copy\n",
      "  curr['TRANSPLANT'].loc[curr['PMID'] == pmid] = transplant_map[pmid]\n"
     ]
    }
   ],
   "source": [
    "for pmid in curr['PMID']:\n",
    "    if pmid in uncat_map.keys():\n",
    "        curr['KIDNEY'].loc[curr['PMID'] == pmid] = kidney_map[pmid]\n",
    "        curr['TRANSPLANT'].loc[curr['PMID'] == pmid] = transplant_map[pmid]\n",
    "curr['BOTH'] = curr.apply(lambda x: both_mapper(x),axis=1)"
   ]
  },
  {
   "cell_type": "code",
   "execution_count": 27,
   "metadata": {},
   "outputs": [],
   "source": [
    "curr['DEPT_SILO'] = \"\"\n",
    "curr['DEPT_SILO'] = curr['DEPT_COUNT'].apply(lambda x: \"Yes\" if x ==1  else \"No\")"
   ]
  },
  {
   "cell_type": "code",
   "execution_count": 28,
   "metadata": {},
   "outputs": [],
   "source": [
    "curr.to_csv(\"categorized_all_possible.csv\")"
   ]
  },
  {
   "cell_type": "code",
   "execution_count": null,
   "metadata": {},
   "outputs": [],
   "source": []
  }
 ],
 "metadata": {
  "kernelspec": {
   "display_name": "Python 3 (ipykernel)",
   "language": "python",
   "name": "python3"
  },
  "language_info": {
   "codemirror_mode": {
    "name": "ipython",
    "version": 3
   },
   "file_extension": ".py",
   "mimetype": "text/x-python",
   "name": "python",
   "nbconvert_exporter": "python",
   "pygments_lexer": "ipython3",
   "version": "3.11.9"
  }
 },
 "nbformat": 4,
 "nbformat_minor": 4
}
