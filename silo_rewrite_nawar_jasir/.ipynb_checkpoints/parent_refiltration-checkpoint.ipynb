{
 "cells": [
  {
   "cell_type": "code",
   "execution_count": 49,
   "metadata": {},
   "outputs": [
    {
     "data": {
      "text/html": [
       "<div>\n",
       "<style scoped>\n",
       "    .dataframe tbody tr th:only-of-type {\n",
       "        vertical-align: middle;\n",
       "    }\n",
       "\n",
       "    .dataframe tbody tr th {\n",
       "        vertical-align: top;\n",
       "    }\n",
       "\n",
       "    .dataframe thead th {\n",
       "        text-align: right;\n",
       "    }\n",
       "</style>\n",
       "<table border=\"1\" class=\"dataframe\">\n",
       "  <thead>\n",
       "    <tr style=\"text-align: right;\">\n",
       "      <th></th>\n",
       "      <th>Title</th>\n",
       "      <th>PMID</th>\n",
       "      <th>Authors</th>\n",
       "      <th>Affiliations</th>\n",
       "      <th>Abstract</th>\n",
       "      <th>Journal</th>\n",
       "      <th>Grants_and_Funding</th>\n",
       "      <th>Conflict_of_Interest</th>\n",
       "      <th>Impact_Factor</th>\n",
       "      <th>Mesh Terms</th>\n",
       "      <th>MeSH Term Descriptor IDs</th>\n",
       "      <th>Total Affiliations</th>\n",
       "      <th>Total Authors</th>\n",
       "      <th>Pub Type</th>\n",
       "    </tr>\n",
       "  </thead>\n",
       "  <tbody>\n",
       "    <tr>\n",
       "      <th>0</th>\n",
       "      <td>Renal Thrombotic Microangiopathy: A Review.</td>\n",
       "      <td>36509342</td>\n",
       "      <td>Dominique Suzanne Genest,Christopher J Patriqu...</td>\n",
       "      <td>Division of Nephrology, University Health Netw...</td>\n",
       "      <td>Thrombotic microangiopathy (TMA), a pathologic...</td>\n",
       "      <td>American journal of kidney diseases : the offi...</td>\n",
       "      <td></td>\n",
       "      <td></td>\n",
       "      <td>13.2</td>\n",
       "      <td>Humans,Thrombotic Microangiopathies,Purpura, T...</td>\n",
       "      <td>D006801,D057049,D011697,D000743,D007668,D010951</td>\n",
       "      <td>5</td>\n",
       "      <td>5</td>\n",
       "      <td>Journal Article,Review,Research Support, Non-U...</td>\n",
       "    </tr>\n",
       "    <tr>\n",
       "      <th>1</th>\n",
       "      <td>Long-Term Outcomes in IgA Nephropathy.</td>\n",
       "      <td>37055195</td>\n",
       "      <td>David Pitcher,Fiona Braddon,Bruce Hendry,Alex ...</td>\n",
       "      <td>UK Renal Registry, The UK Kidney Association, ...</td>\n",
       "      <td>IgA nephropathy can progress to kidney failure...</td>\n",
       "      <td>Clinical journal of the American Society of Ne...</td>\n",
       "      <td>MR/R013942/1||MRC_||Medical Research Council||...</td>\n",
       "      <td>J. Barratt reports consultancy for Alnylam Pha...</td>\n",
       "      <td>9.8</td>\n",
       "      <td>Adult,Child,Humans,Glomerulonephritis, IGA,Kid...</td>\n",
       "      <td>D000328,D002648,D006801,D005922,D007676,D00591...</td>\n",
       "      <td>7</td>\n",
       "      <td>12</td>\n",
       "      <td>Journal Article,Research Support, Non-U.S. Gov't</td>\n",
       "    </tr>\n",
       "    <tr>\n",
       "      <th>2</th>\n",
       "      <td>Continuous KRT: A Contemporary Review.</td>\n",
       "      <td>35981873</td>\n",
       "      <td>J Pedro Teixeira,Javier A Neyra,Ashita Tolwani</td>\n",
       "      <td>Divisions of Nephrology and Pulmonary, Critica...</td>\n",
       "      <td>AKI is a common complication of critical illne...</td>\n",
       "      <td>Clinical journal of the American Society of Ne...</td>\n",
       "      <td></td>\n",
       "      <td>J.A. Neyra reports serving on the editorial bo...</td>\n",
       "      <td>9.8</td>\n",
       "      <td>Humans,Renal Replacement Therapy,Renal Dialysi...</td>\n",
       "      <td>D006801,D017582,D006435,D015314,D058186,D016638</td>\n",
       "      <td>3</td>\n",
       "      <td>3</td>\n",
       "      <td>Review,Journal Article</td>\n",
       "    </tr>\n",
       "    <tr>\n",
       "      <th>3</th>\n",
       "      <td>Peritoneal Dialysis Prescription and Adequacy ...</td>\n",
       "      <td>36208963</td>\n",
       "      <td>Bourne L Auguste,Joanne M Bargman</td>\n",
       "      <td>Department of Medicine, University of Toronto,...</td>\n",
       "      <td>As the global prevalence of peritoneal dialysi...</td>\n",
       "      <td>American journal of kidney diseases : the offi...</td>\n",
       "      <td></td>\n",
       "      <td></td>\n",
       "      <td>13.2</td>\n",
       "      <td>Humans,Renal Dialysis,Peritoneal Dialysis,Rena...</td>\n",
       "      <td>D006801,D006435,D010530,D017582,D055656,D01486...</td>\n",
       "      <td>2</td>\n",
       "      <td>2</td>\n",
       "      <td>Journal Article,Review,Research Support, Non-U...</td>\n",
       "    </tr>\n",
       "    <tr>\n",
       "      <th>4</th>\n",
       "      <td>Indications for and Timing of Initiation of KRT.</td>\n",
       "      <td>36100262</td>\n",
       "      <td>Marlies Ostermann,Sean M Bagshaw,Nuttha Lumler...</td>\n",
       "      <td>Department of Critical Care, King's College Lo...</td>\n",
       "      <td>KRT is considered for patients with severe AKI...</td>\n",
       "      <td>Clinical journal of the American Society of Ne...</td>\n",
       "      <td></td>\n",
       "      <td>S.M. Bagshaw is supported by a Canada Research...</td>\n",
       "      <td>9.8</td>\n",
       "      <td>Humans,Renal Replacement Therapy,Algorithms,Ac...</td>\n",
       "      <td>D006801,D017582,D000465,D058186</td>\n",
       "      <td>3</td>\n",
       "      <td>4</td>\n",
       "      <td>Review,Journal Article</td>\n",
       "    </tr>\n",
       "  </tbody>\n",
       "</table>\n",
       "</div>"
      ],
      "text/plain": [
       "                                               Title      PMID  \\\n",
       "0        Renal Thrombotic Microangiopathy: A Review.  36509342   \n",
       "1             Long-Term Outcomes in IgA Nephropathy.  37055195   \n",
       "2             Continuous KRT: A Contemporary Review.  35981873   \n",
       "3  Peritoneal Dialysis Prescription and Adequacy ...  36208963   \n",
       "4   Indications for and Timing of Initiation of KRT.  36100262   \n",
       "\n",
       "                                             Authors  \\\n",
       "0  Dominique Suzanne Genest,Christopher J Patriqu...   \n",
       "1  David Pitcher,Fiona Braddon,Bruce Hendry,Alex ...   \n",
       "2     J Pedro Teixeira,Javier A Neyra,Ashita Tolwani   \n",
       "3                  Bourne L Auguste,Joanne M Bargman   \n",
       "4  Marlies Ostermann,Sean M Bagshaw,Nuttha Lumler...   \n",
       "\n",
       "                                        Affiliations  \\\n",
       "0  Division of Nephrology, University Health Netw...   \n",
       "1  UK Renal Registry, The UK Kidney Association, ...   \n",
       "2  Divisions of Nephrology and Pulmonary, Critica...   \n",
       "3  Department of Medicine, University of Toronto,...   \n",
       "4  Department of Critical Care, King's College Lo...   \n",
       "\n",
       "                                            Abstract  \\\n",
       "0  Thrombotic microangiopathy (TMA), a pathologic...   \n",
       "1  IgA nephropathy can progress to kidney failure...   \n",
       "2  AKI is a common complication of critical illne...   \n",
       "3  As the global prevalence of peritoneal dialysi...   \n",
       "4  KRT is considered for patients with severe AKI...   \n",
       "\n",
       "                                             Journal  \\\n",
       "0  American journal of kidney diseases : the offi...   \n",
       "1  Clinical journal of the American Society of Ne...   \n",
       "2  Clinical journal of the American Society of Ne...   \n",
       "3  American journal of kidney diseases : the offi...   \n",
       "4  Clinical journal of the American Society of Ne...   \n",
       "\n",
       "                                  Grants_and_Funding  \\\n",
       "0                                                      \n",
       "1  MR/R013942/1||MRC_||Medical Research Council||...   \n",
       "2                                                      \n",
       "3                                                      \n",
       "4                                                      \n",
       "\n",
       "                                Conflict_of_Interest  Impact_Factor  \\\n",
       "0                                                              13.2   \n",
       "1  J. Barratt reports consultancy for Alnylam Pha...            9.8   \n",
       "2  J.A. Neyra reports serving on the editorial bo...            9.8   \n",
       "3                                                              13.2   \n",
       "4  S.M. Bagshaw is supported by a Canada Research...            9.8   \n",
       "\n",
       "                                          Mesh Terms  \\\n",
       "0  Humans,Thrombotic Microangiopathies,Purpura, T...   \n",
       "1  Adult,Child,Humans,Glomerulonephritis, IGA,Kid...   \n",
       "2  Humans,Renal Replacement Therapy,Renal Dialysi...   \n",
       "3  Humans,Renal Dialysis,Peritoneal Dialysis,Rena...   \n",
       "4  Humans,Renal Replacement Therapy,Algorithms,Ac...   \n",
       "\n",
       "                            MeSH Term Descriptor IDs  Total Affiliations  \\\n",
       "0    D006801,D057049,D011697,D000743,D007668,D010951                   5   \n",
       "1  D000328,D002648,D006801,D005922,D007676,D00591...                   7   \n",
       "2    D006801,D017582,D006435,D015314,D058186,D016638                   3   \n",
       "3  D006801,D006435,D010530,D017582,D055656,D01486...                   2   \n",
       "4                    D006801,D017582,D000465,D058186                   3   \n",
       "\n",
       "   Total Authors                                           Pub Type  \n",
       "0              5  Journal Article,Review,Research Support, Non-U...  \n",
       "1             12   Journal Article,Research Support, Non-U.S. Gov't  \n",
       "2              3                             Review,Journal Article  \n",
       "3              2  Journal Article,Review,Research Support, Non-U...  \n",
       "4              4                             Review,Journal Article  "
      ]
     },
     "execution_count": 49,
     "metadata": {},
     "output_type": "execute_result"
    }
   ],
   "source": [
    "import pandas as pd\n",
    "\n",
    "data = pd.read_csv(\"full_data.csv\").fillna(\"\")\n",
    "data.head()"
   ]
  },
  {
   "cell_type": "code",
   "execution_count": 50,
   "metadata": {},
   "outputs": [],
   "source": [
    "import re\n",
    "bulk_test = re.split(r'////|; ', data['Affiliations'][0])"
   ]
  },
  {
   "cell_type": "code",
   "execution_count": 7,
   "metadata": {},
   "outputs": [
    {
     "data": {
      "text/plain": [
       "['Division of Nephrology, University Health Network, Toronto, Ontario, Canada',\n",
       " 'Department of Medicine, Université de Montréal, Montreal, Quebec, Canada.',\n",
       " 'Division of Medical Oncology & Hematology, University Health Network, Toronto, Ontario, Canada',\n",
       " 'Department of Medicine, Toronto, Ontario, Canada',\n",
       " 'University of Toronto, Toronto, Ontario, Canada.',\n",
       " 'Division of Nephrology, University Health Network, Toronto, Ontario, Canada',\n",
       " 'Department of Medicine, Toronto, Ontario, Canada',\n",
       " 'University of Toronto, Toronto, Ontario, Canada',\n",
       " 'Division of Nephrology, Hospital for Sick Children, Toronto, Ontario, Canada.',\n",
       " 'Division of Laboratory Medicine and Pathology, University Health Network, Toronto, Ontario, Canada',\n",
       " 'University of Toronto, Toronto, Ontario, Canada.',\n",
       " 'Division of Nephrology, University Health Network, Toronto, Ontario, Canada',\n",
       " 'Department of Medicine, Toronto, Ontario, Canada',\n",
       " 'University of Toronto, Toronto, Ontario, Canada. Electronic address: heather.reich@uhn.ca.']"
      ]
     },
     "execution_count": 7,
     "metadata": {},
     "output_type": "execute_result"
    }
   ],
   "source": [
    "bulk_test"
   ]
  },
  {
   "cell_type": "code",
   "execution_count": 5,
   "metadata": {},
   "outputs": [
    {
     "data": {
      "text/html": [
       "<div>\n",
       "<style scoped>\n",
       "    .dataframe tbody tr th:only-of-type {\n",
       "        vertical-align: middle;\n",
       "    }\n",
       "\n",
       "    .dataframe tbody tr th {\n",
       "        vertical-align: top;\n",
       "    }\n",
       "\n",
       "    .dataframe thead th {\n",
       "        text-align: right;\n",
       "    }\n",
       "</style>\n",
       "<table border=\"1\" class=\"dataframe\">\n",
       "  <thead>\n",
       "    <tr style=\"text-align: right;\">\n",
       "      <th></th>\n",
       "      <th>Unnamed: 0.1</th>\n",
       "      <th>Unnamed: 0</th>\n",
       "      <th>PARENT</th>\n",
       "    </tr>\n",
       "  </thead>\n",
       "  <tbody>\n",
       "    <tr>\n",
       "      <th>0</th>\n",
       "      <td>5</td>\n",
       "      <td>Otsuka Pharmaceutical Development &amp; Commercial...</td>\n",
       "      <td>Otsuka Inc]JP</td>\n",
       "    </tr>\n",
       "    <tr>\n",
       "      <th>1</th>\n",
       "      <td>6</td>\n",
       "      <td>AMGA (American Medical Group Association), Ale...</td>\n",
       "      <td>AMGA]US</td>\n",
       "    </tr>\n",
       "    <tr>\n",
       "      <th>2</th>\n",
       "      <td>9</td>\n",
       "      <td>Division of Nephrology, San Francisco, Califor...</td>\n",
       "      <td></td>\n",
       "    </tr>\n",
       "    <tr>\n",
       "      <th>3</th>\n",
       "      <td>12</td>\n",
       "      <td>Department of Medicine, Division of Nephrology...</td>\n",
       "      <td>Cornell University]US</td>\n",
       "    </tr>\n",
       "    <tr>\n",
       "      <th>4</th>\n",
       "      <td>15</td>\n",
       "      <td>Division of Nephrology, Yale University, New H...</td>\n",
       "      <td>Yale University]US</td>\n",
       "    </tr>\n",
       "  </tbody>\n",
       "</table>\n",
       "</div>"
      ],
      "text/plain": [
       "   Unnamed: 0.1                                         Unnamed: 0  \\\n",
       "0             5  Otsuka Pharmaceutical Development & Commercial...   \n",
       "1             6  AMGA (American Medical Group Association), Ale...   \n",
       "2             9  Division of Nephrology, San Francisco, Califor...   \n",
       "3            12  Department of Medicine, Division of Nephrology...   \n",
       "4            15  Division of Nephrology, Yale University, New H...   \n",
       "\n",
       "                  PARENT  \n",
       "0          Otsuka Inc]JP  \n",
       "1                AMGA]US  \n",
       "2                         \n",
       "3  Cornell University]US  \n",
       "4     Yale University]US  "
      ]
     },
     "execution_count": 5,
     "metadata": {},
     "output_type": "execute_result"
    }
   ],
   "source": [
    "mappings = pd.read_csv(\"MAPPINGS.csv\").fillna(\"\")\n",
    "mappings.head()"
   ]
  },
  {
   "cell_type": "code",
   "execution_count": 6,
   "metadata": {},
   "outputs": [
    {
     "data": {
      "text/html": [
       "<div>\n",
       "<style scoped>\n",
       "    .dataframe tbody tr th:only-of-type {\n",
       "        vertical-align: middle;\n",
       "    }\n",
       "\n",
       "    .dataframe tbody tr th {\n",
       "        vertical-align: top;\n",
       "    }\n",
       "\n",
       "    .dataframe thead th {\n",
       "        text-align: right;\n",
       "    }\n",
       "</style>\n",
       "<table border=\"1\" class=\"dataframe\">\n",
       "  <thead>\n",
       "    <tr style=\"text-align: right;\">\n",
       "      <th></th>\n",
       "      <th>Unnamed: 0.1</th>\n",
       "      <th>Unnamed: 0</th>\n",
       "      <th>PARENT</th>\n",
       "    </tr>\n",
       "  </thead>\n",
       "  <tbody>\n",
       "    <tr>\n",
       "      <th>0</th>\n",
       "      <td>0</td>\n",
       "      <td>Department of Nephrology, Vivantes Klinikum im...</td>\n",
       "      <td>Vivantes Group Co]DE</td>\n",
       "    </tr>\n",
       "    <tr>\n",
       "      <th>1</th>\n",
       "      <td>1</td>\n",
       "      <td>The Second People's Hospital of Shenzhen, Shen...</td>\n",
       "      <td>Shenzhen University]CN</td>\n",
       "    </tr>\n",
       "    <tr>\n",
       "      <th>2</th>\n",
       "      <td>2</td>\n",
       "      <td>Department of Radiology , Beijing Friendship H...</td>\n",
       "      <td>Capital Medical University]CN</td>\n",
       "    </tr>\n",
       "    <tr>\n",
       "      <th>3</th>\n",
       "      <td>3</td>\n",
       "      <td>Department of Pediatrics B, Edmond and Lily Sa...</td>\n",
       "      <td>Tel-Aviv University]IL</td>\n",
       "    </tr>\n",
       "    <tr>\n",
       "      <th>4</th>\n",
       "      <td>4</td>\n",
       "      <td>Department of Hepatobiliary Surgery, the First...</td>\n",
       "      <td>Chongqing Medical University]CN</td>\n",
       "    </tr>\n",
       "  </tbody>\n",
       "</table>\n",
       "</div>"
      ],
      "text/plain": [
       "   Unnamed: 0.1                                         Unnamed: 0  \\\n",
       "0             0  Department of Nephrology, Vivantes Klinikum im...   \n",
       "1             1  The Second People's Hospital of Shenzhen, Shen...   \n",
       "2             2  Department of Radiology , Beijing Friendship H...   \n",
       "3             3  Department of Pediatrics B, Edmond and Lily Sa...   \n",
       "4             4  Department of Hepatobiliary Surgery, the First...   \n",
       "\n",
       "                            PARENT  \n",
       "0             Vivantes Group Co]DE  \n",
       "1           Shenzhen University]CN  \n",
       "2    Capital Medical University]CN  \n",
       "3           Tel-Aviv University]IL  \n",
       "4  Chongqing Medical University]CN  "
      ]
     },
     "execution_count": 6,
     "metadata": {},
     "output_type": "execute_result"
    }
   ],
   "source": [
    "straggle_maps = pd.read_csv(\"STRAGGLE_MAPS.csv\")\n",
    "straggle_maps.head()"
   ]
  },
  {
   "cell_type": "code",
   "execution_count": 7,
   "metadata": {},
   "outputs": [
    {
     "data": {
      "text/html": [
       "<div>\n",
       "<style scoped>\n",
       "    .dataframe tbody tr th:only-of-type {\n",
       "        vertical-align: middle;\n",
       "    }\n",
       "\n",
       "    .dataframe tbody tr th {\n",
       "        vertical-align: top;\n",
       "    }\n",
       "\n",
       "    .dataframe thead th {\n",
       "        text-align: right;\n",
       "    }\n",
       "</style>\n",
       "<table border=\"1\" class=\"dataframe\">\n",
       "  <thead>\n",
       "    <tr style=\"text-align: right;\">\n",
       "      <th></th>\n",
       "      <th>Unnamed: 0</th>\n",
       "      <th>PARENT</th>\n",
       "    </tr>\n",
       "  </thead>\n",
       "  <tbody>\n",
       "    <tr>\n",
       "      <th>0</th>\n",
       "      <td>Otsuka Pharmaceutical Development &amp; Commercial...</td>\n",
       "      <td>Otsuka Inc]JP</td>\n",
       "    </tr>\n",
       "    <tr>\n",
       "      <th>1</th>\n",
       "      <td>AMGA (American Medical Group Association), Ale...</td>\n",
       "      <td>AMGA]US</td>\n",
       "    </tr>\n",
       "    <tr>\n",
       "      <th>2</th>\n",
       "      <td>Division of Nephrology, San Francisco, Califor...</td>\n",
       "      <td></td>\n",
       "    </tr>\n",
       "    <tr>\n",
       "      <th>3</th>\n",
       "      <td>Department of Medicine, Division of Nephrology...</td>\n",
       "      <td>Cornell University]US</td>\n",
       "    </tr>\n",
       "    <tr>\n",
       "      <th>4</th>\n",
       "      <td>Division of Nephrology, Yale University, New H...</td>\n",
       "      <td>Yale University]US</td>\n",
       "    </tr>\n",
       "  </tbody>\n",
       "</table>\n",
       "</div>"
      ],
      "text/plain": [
       "                                          Unnamed: 0                 PARENT\n",
       "0  Otsuka Pharmaceutical Development & Commercial...          Otsuka Inc]JP\n",
       "1  AMGA (American Medical Group Association), Ale...                AMGA]US\n",
       "2  Division of Nephrology, San Francisco, Califor...                       \n",
       "3  Department of Medicine, Division of Nephrology...  Cornell University]US\n",
       "4  Division of Nephrology, Yale University, New H...     Yale University]US"
      ]
     },
     "execution_count": 7,
     "metadata": {},
     "output_type": "execute_result"
    }
   ],
   "source": [
    "map = mappings[['Unnamed: 0','PARENT']]\n",
    "map.head()"
   ]
  },
  {
   "cell_type": "code",
   "execution_count": 8,
   "metadata": {},
   "outputs": [],
   "source": [
    "map_dict = dict(zip(map['Unnamed: 0'], map['PARENT']))\n",
    "straggle_dict = dict(zip(straggle_maps['Unnamed: 0'], straggle_maps['PARENT']))"
   ]
  },
  {
   "cell_type": "code",
   "execution_count": 9,
   "metadata": {},
   "outputs": [
    {
     "data": {
      "text/plain": [
       "4090"
      ]
     },
     "execution_count": 9,
     "metadata": {},
     "output_type": "execute_result"
    }
   ],
   "source": [
    "len(map_dict)"
   ]
  },
  {
   "cell_type": "code",
   "execution_count": 10,
   "metadata": {},
   "outputs": [],
   "source": [
    "map_dict.update(straggle_dict)"
   ]
  },
  {
   "cell_type": "code",
   "execution_count": 11,
   "metadata": {},
   "outputs": [
    {
     "data": {
      "text/plain": [
       "4258"
      ]
     },
     "execution_count": 11,
     "metadata": {},
     "output_type": "execute_result"
    }
   ],
   "source": [
    "len(map_dict)"
   ]
  },
  {
   "cell_type": "code",
   "execution_count": 12,
   "metadata": {},
   "outputs": [],
   "source": [
    "extracted_orgs = pd.read_csv(\"extraction.csv\")\n",
    "extracted_orgs = set(extracted_orgs['Unnamed: 0'])\n",
    "more_stragglers = pd.DataFrame(extracted_orgs - set(map_dict.keys()))"
   ]
  },
  {
   "cell_type": "code",
   "execution_count": 13,
   "metadata": {},
   "outputs": [],
   "source": [
    "def mapper(df, search, case, parent):\n",
    "    df.loc[df[0].str.contains(search, case=case), 'PARENT'] = parent"
   ]
  },
  {
   "cell_type": "code",
   "execution_count": 14,
   "metadata": {},
   "outputs": [],
   "source": [
    "more_stragglers['PARENT'] = ''\n",
    "mapper(more_stragglers, \"Second Military Medical\", False, \"Naval Medical University\"+\"]CN\")\n",
    "mapper(more_stragglers, \"Naval Medical University\", False, \"Naval Medical University\"+\"]CN\")\n",
    "mapper(more_stragglers, \"Capital Medical University\", False, \"Capital Medical University\"+\"]CN\")\n",
    "mapper(more_stragglers, \"Zhengzhou university\", False, \"Zhengzhou University\"+\"]CN\")\n",
    "mapper(more_stragglers, \"Sun Yat-Sen university\", False, \"Sun Yat-Sen University\"+\"]CN\")\n",
    "mapper(more_stragglers, \"Southern Medical University\",False, \"Southern Medical University\"+\"]CN\")\n",
    "mapper(more_stragglers, \"Peking Union Medical College\", False, \"Peking Union Medical College\"+\"]CN\")\n",
    "mapper(more_stragglers, \"Shanghai Jiao Tong University\", False, \"Shanghai Jiao Tong University\"+\"]CN\")\n",
    "mapper(more_stragglers, 'Guangzhou medical university', False, \"Guangzhou Medical University\"+\"]CN\")\n",
    "mapper(more_stragglers, 'Guangdong medical university', False, \"Guangdong Medical University\"+\"]CN\")\n",
    "mapper(more_stragglers, \"Guangdong Academy of Medical Sciences\", False, \"GDAS\"+\"]CN\")\n",
    "mapper(more_stragglers, \"Guangdong provincial people's Hospital\", False , \"GDAS\"+\"]CN\")\n",
    "mapper(more_stragglers, \"China Medical University\", False , \"China Medical University\"+\"]CN\")\n",
    "mapper(more_stragglers, 'Shandong first medical university', False, \"Shandong University\"+\"]CN\")\n",
    "mapper(more_stragglers, 'Beijing University of Chinese Medicine', False, \"Beijing University of Chinese Medicine\"+\"]CN\")\n",
    "mapper(more_stragglers, \"Army Medical University\", False, \"Army Medical University\"+\"]CN\")\n",
    "mapper(more_stragglers, \"Zhejiang Chinese Medical University\", False, \"Zhejiang Chinese Medical University\"+\"]CN\")\n",
    "mapper(more_stragglers, \"Zhejiang Medical University\", False, \"Zhejiang University\"+\"]CN\")\n",
    "mapper(more_stragglers, \"Tung Wah Hospital\", False, \"University of Hong Kong\"+\"]HK\")\n",
    "mapper(more_stragglers, \"Chinese Academy of Medical Sciences\", False, \"Peking Union Medical College\"+\"]CN\")\n",
    "mapper(more_stragglers, \"Tuen Mun Hospital\", False, \"Hospital Authority\"+\"]CN\")\n",
    "mapper(more_stragglers, \"Hospital Authority\", False, \"Hospital Authority\"+\"]CN\")\n",
    "mapper(more_stragglers, \"Hong Kong children's\", False, \"University of Hong Kong\"+\"]HK\")\n",
    "mapper(more_stragglers, \"huizhou municipal central hospital\",False,'Huizhou Municipal Central Hospital'+\"]CN\")\n",
    "mapper(more_stragglers, \"Kailuan General\", False, \"Kailuan General Hospital\"+\"]CN\")\n",
    "mapper(more_stragglers, \"Hunan Clinical Research Center of Ophthalmic Disease\", False, \"Hunan Clinical Research Center of Ophthalmic Disease\"+\"]CN\")\n",
    "mapper(more_stragglers,\"Jiangxi Provincial Children's\", False, \"Jiangxi Provincial Children's Hospital\"+\"]CN\")\n",
    "mapper(more_stragglers, \"beijing municipal key laboratory of clinical epidemiology\", False, \"Capital Medical University\"+\"]CN\")\n",
    "mapper(more_stragglers, \"first people's hospital of foshan\", False, \"Pyrexar Medical\"+\"]CN\")\n",
    "mapper(more_stragglers, \"Huazhong University of Science & Technology\", False, \"Huazhong University of Science and Technology\"+\"]CN\")\n",
    "mapper(more_stragglers, \"Shenzhen Maternity & Child Healthcare Hospital\", False,'Shenzhen Maternity and Child Healthcare Hospital'+\"]CN\")\n",
    "mapper(more_stragglers, 'Hong Kong Science and Technology Park',False,'Hong Kong Science and Technology Park'+\"]HK\")\n",
    "mapper(more_stragglers, 'Queen Mary Hospital',False,'University of Hong Kong'+\"]HK\")\n",
    "mapper(more_stragglers, \"Key Laboratory of Chronic Kidney Disease Prevention and Treatment\", False, \"Peking University\"+\"]CN\")\n",
    "mapper(more_stragglers, \"Mengniu\", False, \"Mengniu Ltd\"+\"]CN\")\n",
    "mapper(more_stragglers, \"BGI\", False, \"BGI Ltd\"+\"]CN\")\n",
    "mapper(more_stragglers, \"Beijing institute of biotech\", False, \"Beijing North Institute of Biotechnology Ltd\"+\"]CN\")\n",
    "mapper(more_stragglers, \"Maoming People's Hospital\", False, \"Maoming People's Hospital\"+\"]CN\")\n",
    "mapper(more_stragglers, \"Liver Disease Prevention and Treatment Research Foundation\", False, \"Liver Disease Prevention and Treatment Research Foundation\"+\"]CN\")\n",
    "mapper(more_stragglers, \"DHC\", False, \"DHC Ltd\"+\"]CN\")\n",
    "mapper(more_stragglers, \"Renji Hospital\", False, \"Shanghai Jiao Tong University\"+\"]CN\")\n",
    "mapper(more_stragglers, \"Three Gorges University\", False, \"Three Gorges University\"+\"]CN\")\n",
    "mapper(more_stragglers, \"GlaxoSmithKline\", False, \"GlaxoSmithKline Inc\"+\"]GB\")\n",
    "mapper(more_stragglers, 'KingMed',False,'KingMed Diagnostic Ltd'+\"]CN\")\n",
    "mapper(more_stragglers, 'Beijing Haidian', False, \"Peking University\"+\"]CN\")\n",
    "mapper(more_stragglers, \"Zhejiang provincial people's hospital\",False,\"Hangzhou Medical College\"+\"]CN\")\n",
    "mapper(more_stragglers, \"Ningxia Medical University\",False,\"Ningxia Medical University\"+\"]CN\")\n",
    "mapper(more_stragglers, \"Sichuan Provincial People's Hospital\",False,\"University of Electronic Science and Technology of China\"+\"]CN\")\n",
    "mapper(more_stragglers, \"Shenzhen Zaozhidao Technology\",False, \"Zaozhidao Technology Ltd\"+\"]CN\")\n",
    "mapper(more_stragglers,\"Prince of Wales Hospital\", False, \"Hospital Authority\"+\"]CN\")\n",
    "mapper(more_stragglers,\"The People's Hospital of Guangxi Zhuang\",False, \"GXAS\"+\"]CN\")\n",
    "mapper(more_stragglers,\"Biomedical Imaging Center\",False,\"Biomedical Imaging Center\"+\"]CN\")\n",
    "mapper(more_stragglers,\"Beijing Friendship Hospital\",False,\"Capital Medical University\"+\"]CN\")\n",
    "mapper(more_stragglers,\"Chinese PLA General\",False,\"PLA\"+\"]CN\")\n",
    "mapper(more_stragglers,\"Guangzhou National Lab\",False, \"Guangzhou National Laboratory\"+\"]CN\")\n",
    "mapper(more_stragglers,\"Fourth Military Medical\",False, \"Fourth Military Medical University\"+\"]CN\")\n",
    "mapper(more_stragglers,\"Fudan University\",False, \"Fudan University\"+\"]CN\")\n",
    "mapper(more_stragglers, 'Peking University', False, \"Peking University\"+\"]CN\")\n",
    "mapper(more_stragglers,\"University of Hong Kong\", False, \"University of Hong Kong\"+ \"]HK\")\n",
    "mapper(more_stragglers, \"Shanghai JiaoTong\", False, \"Shanghai Jiao Tong University\"+\"]CN\")\n",
    "mapper(more_stragglers, \"Central south\", False, \"Central South University\"+\"]CN\")\n",
    "mapper(more_stragglers, \"Wuhan university\", False, \"Wuhan University\"+\"]CN\")\n",
    "mapper(more_stragglers, \"Nanchang\", False, \"Nanchang University\"+\"]CN\")\n",
    "mapper(more_stragglers, \"Nankai University\", False, \"Nankai University\"+\"]CN\")\n",
    "mapper(more_stragglers, \"Guangxi Medical\", False, \"Guangxi Medical University\"+\"]CN\")\n",
    "mapper(more_stragglers, \"Fujian Medical\", False, \"Fujian Medical University\"+\"]CN\")\n",
    "mapper(more_stragglers,\"Guangzhou University of Chinese Medicine\",False,\"Guangzhou University of Chinese Medicine\"+\"]CN\")\n",
    "mapper(more_stragglers, \"Tsinghua University\", False, \"Tsinghua University\"+\"]CN\")"
   ]
  },
  {
   "cell_type": "code",
   "execution_count": 15,
   "metadata": {},
   "outputs": [],
   "source": [
    "more_stragglers_dict = dict(zip(more_stragglers[0],more_stragglers['PARENT']))"
   ]
  },
  {
   "cell_type": "code",
   "execution_count": 16,
   "metadata": {},
   "outputs": [],
   "source": [
    "map_dict.update(more_stragglers_dict)"
   ]
  },
  {
   "cell_type": "code",
   "execution_count": 21,
   "metadata": {},
   "outputs": [
    {
     "data": {
      "text/plain": [
       "4330"
      ]
     },
     "execution_count": 21,
     "metadata": {},
     "output_type": "execute_result"
    }
   ],
   "source": [
    "len(map_dict.values())"
   ]
  },
  {
   "cell_type": "code",
   "execution_count": 24,
   "metadata": {},
   "outputs": [],
   "source": [
    "(pd.DataFrame({\"aff\" : map_dict.keys(), \"parent\" : map_dict.values()})).to_csv(\"FINAL_PARENT_MAPPING.csv\")"
   ]
  },
  {
   "cell_type": "code",
   "execution_count": 2,
   "metadata": {},
   "outputs": [],
   "source": [
    "import pandas as pd"
   ]
  },
  {
   "cell_type": "code",
   "execution_count": 3,
   "metadata": {},
   "outputs": [
    {
     "data": {
      "text/plain": [
       "4330"
      ]
     },
     "execution_count": 3,
     "metadata": {},
     "output_type": "execute_result"
    }
   ],
   "source": []
  },
  {
   "cell_type": "code",
   "execution_count": 4,
   "metadata": {},
   "outputs": [],
   "source": [
    "def mapper(df, search, case, parent):\n",
    "    df.loc[df['aff'].str.contains(search, case=case), 'parent'] = parent"
   ]
  },
  {
   "cell_type": "code",
   "execution_count": 44,
   "metadata": {},
   "outputs": [
    {
     "name": "stderr",
     "output_type": "stream",
     "text": [
      "/var/folders/f9/x6_f23z13z1dpfwmrmvqkhbm0000gn/T/ipykernel_57299/2297115671.py:2: UserWarning: This pattern is interpreted as a regular expression, and has match groups. To actually get the groups, use str.extract.\n",
      "  df.loc[df['aff'].str.contains(search, case=case), 'parent'] = parent\n"
     ]
    }
   ],
   "source": [
    "mapper(final_map,'Heidelberg University', False,\"University of Heidelberg\" + \"]DE\")\n",
    "mapper(final_map,'University of Heidelberg', False,\"University of Heidelberg\" + \"]DE\")\n",
    "mapper(final_map,'Tübingen', False,\"University of Tubingen\" + \"]DE\")\n",
    "mapper(final_map,'Tuebingen', False,\"University of Tubingen\" + \"]DE\")\n",
    "mapper(final_map,'University of Cologne', False,\"University of Cologne\" + \"]DE\")\n",
    "mapper(final_map,'University Hospital of Cologne', False,\"University of Cologne\" + \"]DE\")\n",
    "mapper(final_map,'Cologne General', False,\"University of Cologne\" + \"]DE\")\n",
    "mapper(final_map, \"Hannover Medical School\",False,\"Hannover Medical School\"+\"]DE\")\n",
    "mapper(final_map, \"Medizinische Hochschule Hannover\",False,\"Hannover Medical School\"+\"]DE\")\n",
    "mapper(final_map, \"Ludwig Maximillian\",False,\"University of Munich\" +\"]DE\")\n",
    "mapper(final_map, \"Ludwig-Maximilians\",False,\"University of Munich\" +\"]DE\")\n",
    "mapper(final_map, \"LMU M\",False,\"University of Munich\" +\"]DE\")\n",
    "mapper(final_map,\"Charité\",False,\"Charite Hospital\" +\"]DE\")\n",
    "mapper(final_map,\"Charite\",False,\"Charite Hospital\" +\"]DE\")\n",
    "mapper(final_map,\"Northwestern Medicine\",False,\"Northwestern University\" +\"]US\")\n",
    "mapper(final_map,\"(FAU)\",True,\"University of Erlangen–Nuremberg\" +\"]DE\")\n",
    "mapper(final_map,\"Friedrich Alexander\",False,\"University of Erlangen–Nuremberg\" +\"]DE\")\n",
    "mapper(final_map,\"RWTH Aachen\",False,\"RWTH Aachen University\" +\"]DE\")\n",
    "mapper(final_map,\"RWTH University\",False,\"RWTH Aachen University\" +\"]DE\")\n",
    "mapper(final_map,\"Medical center hamburg\",False, \"University of Hamburg\" +\"]DE\")\n",
    "mapper(final_map,\"Hospital hamburg\",False, \"University of Hamburg\" +\"]DE\")\n",
    "mapper(final_map,\"University of Barcelona\",False, \"University of Barcelona\" +\"]ES\")\n",
    "mapper(final_map,\"University of Cordoba\",False, \"University of Cordoba\" +\"]ES\")\n",
    "mapper(final_map,\"University of Freiburg\",False, \"University of Freiburg\" +\"]DE\")\n",
    "mapper(final_map,\"Bayer AG\",False, \"Bayer Inc\" +\"]DE\")\n",
    "mapper(final_map,\"Medical Center Göttingen\",False, \"University of Goettingen\" +\"]DE\")\n",
    "mapper(final_map,\"Medical Centre Goettingen\",False, \"University of Goettingen\" +\"]DE\")\n",
    "mapper(final_map,\"University Göttingen\",False, \"University of Gottingen\" +\"]DE\")\n",
    "mapper(final_map,\"Hospital Regensburg\",False, \"University of Regensburg\" +\"]DE\")\n",
    "mapper(final_map,\"Leibniz Institute of Immunotherapy\",False, \"University of Regensburg\" +\"]DE\")\n",
    "mapper(final_map,\"FMC Germ\",False, \"Fresenius Health\" +\"]DE\")\n",
    "mapper(final_map,\"Ulm University\",False, \"Ulm University\" +\"]DE\")\n",
    "mapper(final_map,\"University hospital, ulm\",False, \"Ulm University\" +\"]DE\")\n",
    "mapper(final_map,\"Hospital Heidelberg\",False, \"University of Heidelberg\" +\"]DE\")\n",
    "mapper(final_map,\"University Bonn\",False, \"University of Bonn\" +\"]DE\")\n",
    "mapper(final_map,\"Galilee Medical\",False,\"Bar-Ilan University\"+\"]IL\")\n",
    "mapper(final_map,\"Rambam Health\",False,\"Technion-Israel Institute of Technology\"+\"]IL\")\n",
    "mapper(final_map,\"Hebrew University\",False,\"Hebrew University\" + \"]IL\")\n",
    "mapper(final_map,\"Sheba Medical\",False,\"Tel-Aviv University\"+\"]IL\")\n",
    "mapper(final_map,\"Maccabi Health\",False,\"Maccabi Health\"+\"]IL\")\n",
    "mapper(final_map,\"Tel Aviv University\",False,\"Tel-Aviv University\"+\"]IL\")\n",
    "mapper(final_map,\"Hadassah Medical\",False,\"Hebrew University\" + \"]IL\")\n",
    "mapper(final_map,\"Erasmus University\",False,\"Erasmus University\" + \"]NL\")\n",
    "mapper(final_map,\"Würzburg\",False,\"University of Wurzburg\" + \"]DE\")\n",
    "mapper(final_map,\"Münster\",False,\"University of Muenster\" + \"]DE\")\n",
    "mapper(final_map,\"University of Leip\",False,\"University of Leipzig\" + \"]DE\")\n",
    "mapper(final_map,\"Ruhr-University\",False,\"Ruhr University Bochum\" + \"]DE\")\n",
    "mapper(final_map,\"Technical University of Munich\",False,\"Technical University of Munich\" + \"]DE\")\n",
    "mapper(final_map,\"KfH Kidney Center\",False,\"Dritter Orden Clinic\" + \"]DE\")\n",
    "mapper(final_map,\"Boehringer Ingelheim\",False,\"Boehringer Ingelheim Inc\" + \"]DE\")\n",
    "mapper(final_map,\"Sanofi\",False,\"Sanofi Inc\" + \"]FR\")\n",
    "mapper(final_map,\"University of Applied Sciences, Koblenz\",False,\"University of Applied Sciences Koblenz\" + \"]DE\")\n",
    "mapper(final_map,\"University of Jena\",False,\"University of Jena\" + \"]DE\")\n",
    "mapper(final_map,\"University Düsseldorf\",False,\"Heinrich Heine University Dusseldorf\" + \"]DE\")\n",
    "mapper(final_map,\"TolerogenixX\",False,\"TolerogenixX Inc\" + \"]DE\")\n",
    "mapper(final_map,\"High5Data\",False,\"High5Data Inc\" + \"]DE\")\n",
    "mapper(final_map,\"XL-protein GmbH\",False,\"XL-protein Inc\" + \"]DE\")"
   ]
  },
  {
   "cell_type": "code",
   "execution_count": 45,
   "metadata": {},
   "outputs": [],
   "source": [
    "final_map.to_csv(\"final_map.csv\")"
   ]
  },
  {
   "cell_type": "code",
   "execution_count": 46,
   "metadata": {},
   "outputs": [
    {
     "data": {
      "text/plain": [
       "4330"
      ]
     },
     "execution_count": 46,
     "metadata": {},
     "output_type": "execute_result"
    }
   ],
   "source": [
    "final_map = pd.read_csv(\"final_map.csv\").fillna(\"\")\n",
    "map_dict = dict(zip(final_map['aff'], final_map['parent']))\n",
    "len(map_dict)"
   ]
  },
  {
   "cell_type": "code",
   "execution_count": 51,
   "metadata": {},
   "outputs": [],
   "source": [
    "test_set = set()\n",
    "for aff in bulk_test:\n",
    "    try:\n",
    "        test_set.add(map_dict[aff])\n",
    "    except:\n",
    "        pass\n",
    "test_set.remove('')\n"
   ]
  },
  {
   "cell_type": "code",
   "execution_count": 52,
   "metadata": {},
   "outputs": [
    {
     "data": {
      "text/plain": [
       "{'University of Toronto]CA', 'Université de Montréal]CA'}"
      ]
     },
     "execution_count": 52,
     "metadata": {},
     "output_type": "execute_result"
    }
   ],
   "source": [
    "test_set"
   ]
  },
  {
   "cell_type": "code",
   "execution_count": 53,
   "metadata": {},
   "outputs": [],
   "source": [
    "def parent_finder(aff_string):\n",
    "    parent_set = set()\n",
    "    bulk = re.split(r'////|; ', aff_string)\n",
    "    for aff in bulk:\n",
    "        try:\n",
    "            parent_set.add(map_dict[aff])\n",
    "        except:\n",
    "            pass\n",
    "    try:\n",
    "        parent_set.remove('')\n",
    "    except:\n",
    "        pass\n",
    "    return parent_set"
   ]
  },
  {
   "cell_type": "code",
   "execution_count": 54,
   "metadata": {},
   "outputs": [
    {
     "data": {
      "text/plain": [
       "{'JAMCO Pharma]SE',\n",
       " 'Travere Inc]US',\n",
       " 'UK Kidney Association]GB',\n",
       " 'University College London]GB',\n",
       " 'University of Bristol]GB',\n",
       " 'University of Edinburgh]GB',\n",
       " 'University of Leicester]GB'}"
      ]
     },
     "execution_count": 54,
     "metadata": {},
     "output_type": "execute_result"
    }
   ],
   "source": [
    "parent_finder(data['Affiliations'][1])"
   ]
  },
  {
   "cell_type": "code",
   "execution_count": 55,
   "metadata": {},
   "outputs": [
    {
     "data": {
      "text/plain": [
       "622"
      ]
     },
     "execution_count": 55,
     "metadata": {},
     "output_type": "execute_result"
    }
   ],
   "source": [
    "len(data['Affiliations'])"
   ]
  },
  {
   "cell_type": "code",
   "execution_count": 56,
   "metadata": {},
   "outputs": [],
   "source": [
    "data['PARENT_ORGS'] = data['Affiliations'].apply(parent_finder)"
   ]
  },
  {
   "cell_type": "code",
   "execution_count": 57,
   "metadata": {},
   "outputs": [],
   "source": [
    "data.to_csv(\"parent_orgs_extracted_2.csv\")"
   ]
  },
  {
   "cell_type": "code",
   "execution_count": null,
   "metadata": {},
   "outputs": [],
   "source": []
  }
 ],
 "metadata": {
  "kernelspec": {
   "display_name": "Python 3 (ipykernel)",
   "language": "python",
   "name": "python3"
  },
  "language_info": {
   "codemirror_mode": {
    "name": "ipython",
    "version": 3
   },
   "file_extension": ".py",
   "mimetype": "text/x-python",
   "name": "python",
   "nbconvert_exporter": "python",
   "pygments_lexer": "ipython3",
   "version": "3.11.9"
  }
 },
 "nbformat": 4,
 "nbformat_minor": 4
}
