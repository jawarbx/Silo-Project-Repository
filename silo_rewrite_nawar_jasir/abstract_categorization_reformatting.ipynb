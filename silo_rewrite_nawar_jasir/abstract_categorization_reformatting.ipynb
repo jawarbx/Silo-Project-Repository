{
 "cells": [
  {
   "cell_type": "code",
   "execution_count": 1,
   "metadata": {},
   "outputs": [],
   "source": [
    "import pandas as pd\n",
    "df = pd.read_csv(\"abstract_classified_with-deberta-v3-tasksource-v2.0.csv\").fillna(\"\")"
   ]
  },
  {
   "cell_type": "code",
   "execution_count": 2,
   "metadata": {},
   "outputs": [],
   "source": [
    "from collections import OrderedDict\n",
    "def top_scores(score_dict,n):\n",
    "    top = sorted(score_dict.items(),key=lambda item: item[1],reverse=True)[:n]\n",
    "    return top"
   ]
  },
  {
   "cell_type": "code",
   "execution_count": 14,
   "metadata": {},
   "outputs": [
    {
     "name": "stdout",
     "output_type": "stream",
     "text": [
      "Pediatric Nephrology\n"
     ]
    }
   ],
   "source": [
    "import ast\n",
    "test_list = ast.literal_eval(df['raw_categories'][200])\n",
    "test_dict = dict()\n",
    "for cat in test_list:\n",
    "    test_dict.update(top_scores(cat,1))\n",
    "print(max(test_dict,key=lambda item: item[1]))"
   ]
  },
  {
   "cell_type": "code",
   "execution_count": 19,
   "metadata": {},
   "outputs": [
    {
     "data": {
      "text/plain": [
       "'Pediatric Nephrology'"
      ]
     },
     "execution_count": 19,
     "metadata": {},
     "output_type": "execute_result"
    }
   ],
   "source": [
    "top_category(df['raw_categories'][200])"
   ]
  },
  {
   "cell_type": "code",
   "execution_count": 20,
   "metadata": {},
   "outputs": [],
   "source": [
    "def top_category(list_string):\n",
    "    if list_string == \"\" or list_string == \"Uncategorizable\":\n",
    "        return \"\"\n",
    "    cat_list = ast.literal_eval(list_string)\n",
    "    cat_dict = dict()\n",
    "    for cat in cat_list:\n",
    "        cat_dict.update(top_scores(cat,1))\n",
    "    return max(cat_dict,key=lambda item: item[1])"
   ]
  },
  {
   "cell_type": "code",
   "execution_count": 21,
   "metadata": {},
   "outputs": [],
   "source": [
    "df['ABSTRACT_CATEGORIES'] = [top_category(x) for x in df['raw_categories']]"
   ]
  },
  {
   "cell_type": "code",
   "execution_count": 23,
   "metadata": {},
   "outputs": [],
   "source": [
    "df.to_csv(\"Abstracts_Categorized.csv\")"
   ]
  },
  {
   "cell_type": "code",
   "execution_count": null,
   "metadata": {},
   "outputs": [],
   "source": []
  }
 ],
 "metadata": {
  "kernelspec": {
   "display_name": "Python 3 (ipykernel)",
   "language": "python",
   "name": "python3"
  },
  "language_info": {
   "codemirror_mode": {
    "name": "ipython",
    "version": 3
   },
   "file_extension": ".py",
   "mimetype": "text/x-python",
   "name": "python",
   "nbconvert_exporter": "python",
   "pygments_lexer": "ipython3",
   "version": "3.11.9"
  }
 },
 "nbformat": 4,
 "nbformat_minor": 4
}
