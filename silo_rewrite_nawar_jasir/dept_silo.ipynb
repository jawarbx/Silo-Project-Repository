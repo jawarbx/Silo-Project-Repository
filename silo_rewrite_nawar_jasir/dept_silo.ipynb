{
 "cells": [
  {
   "cell_type": "code",
   "execution_count": 16,
   "metadata": {},
   "outputs": [],
   "source": [
    "import pandas as pd\n",
    "import re\n",
    "import ast\n",
    "import random\n",
    "df = pd.read_csv(\"another_parent.csv\").fillna(\"\")"
   ]
  },
  {
   "cell_type": "code",
   "execution_count": 17,
   "metadata": {},
   "outputs": [
    {
     "name": "stdout",
     "output_type": "stream",
     "text": [
      "8\n",
      "Section of Nephrology\n",
      "Hemodialysis Service\n",
      "Research Service Line\n",
      "Health Services\n",
      "Division of Nephrology\n",
      "Department of Medicine\n",
      "Department of Internal Medicine\n"
     ]
    },
    {
     "data": {
      "text/plain": [
       "{'Baylor College of Medicine',\n",
       " 'Center for Innovations in Quality, Effectiveness and Safety',\n",
       " 'Department of Internal Medicine',\n",
       " 'Department of Medicine',\n",
       " 'Division of Nephrology',\n",
       " 'Fondazione Policlinico Universitario Agostino Gemelli IRCCS',\n",
       " 'Health Services',\n",
       " 'Hemodialysis Service',\n",
       " 'Maastricht University Medical Center',\n",
       " 'Michael E. DeBakey Veterans Affairs Medical Center',\n",
       " 'Research Service Line',\n",
       " 'Section of Nephrology',\n",
       " 'Selzman Institute for Kidney Health',\n",
       " 'University of Texas Southwestern Medical Center',\n",
       " 'Università Cattolica del Sacro Cuore',\n",
       " 'Veterans Affairs'}"
      ]
     },
     "execution_count": 17,
     "metadata": {},
     "output_type": "execute_result"
    }
   ],
   "source": [
    "idx = random.randint(0,622)\n",
    "print(idx)\n",
    "filter = re.compile(r\"Department|Division|Section|Service\", flags=re.IGNORECASE|re.MULTILINE|re.VERBOSE)\n",
    "for e in ast.literal_eval(df['ORGS_AND_LOCS'][idx])['ORGS']:\n",
    "    if filter.findall(e):\n",
    "        print(e)\n",
    "\n",
    "ast.literal_eval(df['ORGS_AND_LOCS'][idx])['ORGS']"
   ]
  },
  {
   "cell_type": "code",
   "execution_count": 18,
   "metadata": {},
   "outputs": [
    {
     "data": {
      "text/plain": [
       "'Department of Microbiology, Hospital Clínico Universitario, Instituto de Investigación Sanitaria INCLIVA, Valencia, Spain.////Centro de Investigación Biomédica en Red de Enfermedades Infecciosas (CIBERINFEC), Instituto de Salud Carlos III, Madrid, Spain.////Genotyping and Genetic Diagnosis Unit, School of Medicine, University of Valencia, Valencia, Spain.////Department of Medicine, School of Medicine, Universidad Complutense, Madrid, Spain.'"
      ]
     },
     "execution_count": 18,
     "metadata": {},
     "output_type": "execute_result"
    }
   ],
   "source": [
    "df['Affiliations'][556]"
   ]
  },
  {
   "cell_type": "code",
   "execution_count": 19,
   "metadata": {},
   "outputs": [
    {
     "data": {
      "text/plain": [
       "{'CIBERINFEC',\n",
       " 'Centro de Investigación Biomédica en Red de Enfermedades Infecciosas',\n",
       " 'Department of Medicine',\n",
       " 'Department of Microbiology',\n",
       " 'Hospital Clínico Universitario',\n",
       " 'Instituto de Investigación Sanitaria INCLIVA',\n",
       " 'Instituto de Salud Carlos III',\n",
       " 'School of Medicine',\n",
       " 'Universidad Complutense',\n",
       " 'University of Valencia'}"
      ]
     },
     "execution_count": 19,
     "metadata": {},
     "output_type": "execute_result"
    }
   ],
   "source": [
    "ast.literal_eval(df['ORGS_AND_LOCS'][556])['ORGS']"
   ]
  },
  {
   "cell_type": "code",
   "execution_count": 20,
   "metadata": {},
   "outputs": [
    {
     "ename": "NameError",
     "evalue": "name '_C' is not defined",
     "output_type": "error",
     "traceback": [
      "\u001b[0;31m---------------------------------------------------------------------------\u001b[0m",
      "\u001b[0;31mNameError\u001b[0m                                 Traceback (most recent call last)",
      "Cell \u001b[0;32mIn[20], line 1\u001b[0m\n\u001b[0;32m----> 1\u001b[0m \u001b[38;5;28;01mimport\u001b[39;00m \u001b[38;5;21;01mspacy\u001b[39;00m\n\u001b[1;32m      2\u001b[0m spacy\u001b[38;5;241m.\u001b[39mrequire_gpu()\n\u001b[1;32m      3\u001b[0m nlp \u001b[38;5;241m=\u001b[39m spacy\u001b[38;5;241m.\u001b[39mload(\u001b[38;5;124m\"\u001b[39m\u001b[38;5;124men_core_web_trf\u001b[39m\u001b[38;5;124m\"\u001b[39m)\n",
      "File \u001b[0;32m~/miniforge3/envs/islp/lib/python3.11/site-packages/spacy/__init__.py:6\u001b[0m\n\u001b[1;32m      3\u001b[0m \u001b[38;5;28;01mfrom\u001b[39;00m \u001b[38;5;21;01mtyping\u001b[39;00m \u001b[38;5;28;01mimport\u001b[39;00m Any, Dict, Iterable, Union\n\u001b[1;32m      5\u001b[0m \u001b[38;5;66;03m# set library-specific custom warning handling before doing anything else\u001b[39;00m\n\u001b[0;32m----> 6\u001b[0m \u001b[38;5;28;01mfrom\u001b[39;00m \u001b[38;5;21;01m.\u001b[39;00m\u001b[38;5;21;01merrors\u001b[39;00m \u001b[38;5;28;01mimport\u001b[39;00m setup_default_warnings\n\u001b[1;32m      8\u001b[0m setup_default_warnings()  \u001b[38;5;66;03m# noqa: E402\u001b[39;00m\n\u001b[1;32m     10\u001b[0m \u001b[38;5;66;03m# These are imported as part of the API\u001b[39;00m\n",
      "File \u001b[0;32m~/miniforge3/envs/islp/lib/python3.11/site-packages/spacy/errors.py:3\u001b[0m\n\u001b[1;32m      1\u001b[0m \u001b[38;5;28;01mimport\u001b[39;00m \u001b[38;5;21;01mwarnings\u001b[39;00m\n\u001b[0;32m----> 3\u001b[0m \u001b[38;5;28;01mfrom\u001b[39;00m \u001b[38;5;21;01m.\u001b[39;00m\u001b[38;5;21;01mcompat\u001b[39;00m \u001b[38;5;28;01mimport\u001b[39;00m Literal\n\u001b[1;32m      6\u001b[0m \u001b[38;5;28;01mclass\u001b[39;00m \u001b[38;5;21;01mErrorsWithCodes\u001b[39;00m(\u001b[38;5;28mtype\u001b[39m):\n\u001b[1;32m      7\u001b[0m     \u001b[38;5;28;01mdef\u001b[39;00m \u001b[38;5;21m__getattribute__\u001b[39m(\u001b[38;5;28mself\u001b[39m, code):\n",
      "File \u001b[0;32m~/miniforge3/envs/islp/lib/python3.11/site-packages/spacy/compat.py:4\u001b[0m\n\u001b[1;32m      1\u001b[0m \u001b[38;5;124;03m\"\"\"Helpers for Python and platform compatibility.\"\"\"\u001b[39;00m\n\u001b[1;32m      2\u001b[0m \u001b[38;5;28;01mimport\u001b[39;00m \u001b[38;5;21;01msys\u001b[39;00m\n\u001b[0;32m----> 4\u001b[0m \u001b[38;5;28;01mfrom\u001b[39;00m \u001b[38;5;21;01mthinc\u001b[39;00m\u001b[38;5;21;01m.\u001b[39;00m\u001b[38;5;21;01mutil\u001b[39;00m \u001b[38;5;28;01mimport\u001b[39;00m copy_array\n\u001b[1;32m      6\u001b[0m \u001b[38;5;28;01mtry\u001b[39;00m:\n\u001b[1;32m      7\u001b[0m     \u001b[38;5;28;01mimport\u001b[39;00m \u001b[38;5;21;01mcPickle\u001b[39;00m \u001b[38;5;28;01mas\u001b[39;00m \u001b[38;5;21;01mpickle\u001b[39;00m\n",
      "File \u001b[0;32m~/miniforge3/envs/islp/lib/python3.11/site-packages/thinc/__init__.py:5\u001b[0m\n\u001b[1;32m      2\u001b[0m \u001b[38;5;28;01mimport\u001b[39;00m \u001b[38;5;21;01mnumpy\u001b[39;00m\n\u001b[1;32m      4\u001b[0m \u001b[38;5;28;01mfrom\u001b[39;00m \u001b[38;5;21;01m.\u001b[39;00m\u001b[38;5;21;01mabout\u001b[39;00m \u001b[38;5;28;01mimport\u001b[39;00m __version__\n\u001b[0;32m----> 5\u001b[0m \u001b[38;5;28;01mfrom\u001b[39;00m \u001b[38;5;21;01m.\u001b[39;00m\u001b[38;5;21;01mconfig\u001b[39;00m \u001b[38;5;28;01mimport\u001b[39;00m registry\n\u001b[1;32m      7\u001b[0m \u001b[38;5;66;03m# fmt: off\u001b[39;00m\n\u001b[1;32m      8\u001b[0m __all__ \u001b[38;5;241m=\u001b[39m [\n\u001b[1;32m      9\u001b[0m     \u001b[38;5;124m\"\u001b[39m\u001b[38;5;124mregistry\u001b[39m\u001b[38;5;124m\"\u001b[39m,\n\u001b[1;32m     10\u001b[0m     \u001b[38;5;124m\"\u001b[39m\u001b[38;5;124m__version__\u001b[39m\u001b[38;5;124m\"\u001b[39m,\n\u001b[1;32m     11\u001b[0m ]\n",
      "File \u001b[0;32m~/miniforge3/envs/islp/lib/python3.11/site-packages/thinc/config.py:5\u001b[0m\n\u001b[1;32m      2\u001b[0m \u001b[38;5;28;01mimport\u001b[39;00m \u001b[38;5;21;01mconfection\u001b[39;00m\n\u001b[1;32m      3\u001b[0m \u001b[38;5;28;01mfrom\u001b[39;00m \u001b[38;5;21;01mconfection\u001b[39;00m \u001b[38;5;28;01mimport\u001b[39;00m VARIABLE_RE, Config, ConfigValidationError, Promise\n\u001b[0;32m----> 5\u001b[0m \u001b[38;5;28;01mfrom\u001b[39;00m \u001b[38;5;21;01m.\u001b[39;00m\u001b[38;5;21;01mtypes\u001b[39;00m \u001b[38;5;28;01mimport\u001b[39;00m Decorator\n\u001b[1;32m      8\u001b[0m \u001b[38;5;28;01mclass\u001b[39;00m \u001b[38;5;21;01mregistry\u001b[39;00m(confection\u001b[38;5;241m.\u001b[39mregistry):\n\u001b[1;32m      9\u001b[0m     \u001b[38;5;66;03m# fmt: off\u001b[39;00m\n\u001b[1;32m     10\u001b[0m     optimizers: Decorator \u001b[38;5;241m=\u001b[39m catalogue\u001b[38;5;241m.\u001b[39mcreate(\u001b[38;5;124m\"\u001b[39m\u001b[38;5;124mthinc\u001b[39m\u001b[38;5;124m\"\u001b[39m, \u001b[38;5;124m\"\u001b[39m\u001b[38;5;124moptimizers\u001b[39m\u001b[38;5;124m\"\u001b[39m, entry_points\u001b[38;5;241m=\u001b[39m\u001b[38;5;28;01mTrue\u001b[39;00m)\n",
      "File \u001b[0;32m~/miniforge3/envs/islp/lib/python3.11/site-packages/thinc/types.py:25\u001b[0m\n\u001b[1;32m      4\u001b[0m \u001b[38;5;28;01mfrom\u001b[39;00m \u001b[38;5;21;01mtyping\u001b[39;00m \u001b[38;5;28;01mimport\u001b[39;00m (\n\u001b[1;32m      5\u001b[0m     Any,\n\u001b[1;32m      6\u001b[0m     Callable,\n\u001b[0;32m   (...)\u001b[0m\n\u001b[1;32m     20\u001b[0m     overload,\n\u001b[1;32m     21\u001b[0m )\n\u001b[1;32m     23\u001b[0m \u001b[38;5;28;01mimport\u001b[39;00m \u001b[38;5;21;01mnumpy\u001b[39;00m\n\u001b[0;32m---> 25\u001b[0m \u001b[38;5;28;01mfrom\u001b[39;00m \u001b[38;5;21;01m.\u001b[39;00m\u001b[38;5;21;01mcompat\u001b[39;00m \u001b[38;5;28;01mimport\u001b[39;00m cupy, has_cupy\n\u001b[1;32m     27\u001b[0m \u001b[38;5;28;01mif\u001b[39;00m has_cupy:\n\u001b[1;32m     28\u001b[0m     get_array_module \u001b[38;5;241m=\u001b[39m cupy\u001b[38;5;241m.\u001b[39mget_array_module\n",
      "File \u001b[0;32m~/miniforge3/envs/islp/lib/python3.11/site-packages/thinc/compat.py:35\u001b[0m\n\u001b[1;32m     31\u001b[0m     has_cupy_gpu \u001b[38;5;241m=\u001b[39m \u001b[38;5;28;01mFalse\u001b[39;00m\n\u001b[1;32m     34\u001b[0m \u001b[38;5;28;01mtry\u001b[39;00m:  \u001b[38;5;66;03m# pragma: no cover\u001b[39;00m\n\u001b[0;32m---> 35\u001b[0m     \u001b[38;5;28;01mimport\u001b[39;00m \u001b[38;5;21;01mtorch\u001b[39;00m\n\u001b[1;32m     36\u001b[0m     \u001b[38;5;28;01mimport\u001b[39;00m \u001b[38;5;21;01mtorch\u001b[39;00m\u001b[38;5;21;01m.\u001b[39;00m\u001b[38;5;21;01mutils\u001b[39;00m\u001b[38;5;21;01m.\u001b[39;00m\u001b[38;5;21;01mdlpack\u001b[39;00m\n\u001b[1;32m     38\u001b[0m     has_torch \u001b[38;5;241m=\u001b[39m \u001b[38;5;28;01mTrue\u001b[39;00m\n",
      "File \u001b[0;32m~/miniforge3/envs/islp/lib/python3.11/site-packages/torch/__init__.py:533\u001b[0m\n\u001b[1;32m    519\u001b[0m         \u001b[38;5;28;01mraise\u001b[39;00m \u001b[38;5;167;01mImportError\u001b[39;00m(textwrap\u001b[38;5;241m.\u001b[39mdedent(\u001b[38;5;124m'''\u001b[39m\n\u001b[1;32m    520\u001b[0m \u001b[38;5;124m            Failed to load PyTorch C extensions:\u001b[39m\n\u001b[1;32m    521\u001b[0m \u001b[38;5;124m                It appears that PyTorch has loaded the `torch/_C` folder\u001b[39m\n\u001b[0;32m   (...)\u001b[0m\n\u001b[1;32m    529\u001b[0m \u001b[38;5;124m                or by running Python from a different directory.\u001b[39m\n\u001b[1;32m    530\u001b[0m \u001b[38;5;124m            \u001b[39m\u001b[38;5;124m'''\u001b[39m)\u001b[38;5;241m.\u001b[39mstrip()) \u001b[38;5;28;01mfrom\u001b[39;00m \u001b[38;5;28;01mNone\u001b[39;00m\n\u001b[1;32m    531\u001b[0m     \u001b[38;5;28;01mraise\u001b[39;00m  \u001b[38;5;66;03m# If __file__ is not None the cause is unknown, so just re-raise.\u001b[39;00m\n\u001b[0;32m--> 533\u001b[0m \u001b[38;5;28;01mfor\u001b[39;00m name \u001b[38;5;129;01min\u001b[39;00m \u001b[38;5;28mdir\u001b[39m(_C):\n\u001b[1;32m    534\u001b[0m     \u001b[38;5;28;01mif\u001b[39;00m name[\u001b[38;5;241m0\u001b[39m] \u001b[38;5;241m!=\u001b[39m \u001b[38;5;124m'\u001b[39m\u001b[38;5;124m_\u001b[39m\u001b[38;5;124m'\u001b[39m \u001b[38;5;129;01mand\u001b[39;00m \u001b[38;5;129;01mnot\u001b[39;00m name\u001b[38;5;241m.\u001b[39mendswith(\u001b[38;5;124m'\u001b[39m\u001b[38;5;124mBase\u001b[39m\u001b[38;5;124m'\u001b[39m):\n\u001b[1;32m    535\u001b[0m         __all__\u001b[38;5;241m.\u001b[39mappend(name)\n",
      "\u001b[0;31mNameError\u001b[0m: name '_C' is not defined"
     ]
    }
   ],
   "source": [
    "import spacy\n",
    "spacy.require_gpu()\n",
    "nlp = spacy.load(\"en_core_web_trf\")"
   ]
  },
  {
   "cell_type": "code",
   "execution_count": null,
   "metadata": {},
   "outputs": [],
   "source": [
    "df['raw_ner'] = \"\""
   ]
  },
  {
   "cell_type": "code",
   "execution_count": null,
   "metadata": {},
   "outputs": [],
   "source": [
    "def ner_extraction(aff_str):\n",
    "   ner_set = set()\n",
    "   try:\n",
    "    splits = re.split(r\"////|; \",aff_str)\n",
    "   except:\n",
    "     return \"No Split\"\n",
    "   else:\n",
    "     for split in splits:\n",
    "       doc = nlp(split)\n",
    "       for ent in doc.ents:\n",
    "         ner_set.add(ent.text)\n",
    "   return ner_set"
   ]
  },
  {
   "cell_type": "code",
   "execution_count": null,
   "metadata": {},
   "outputs": [
    {
     "data": {
      "text/plain": [
       "{'Canada',\n",
       " 'Department of Medicine',\n",
       " 'Division of Laboratory Medicine and Pathology',\n",
       " 'Division of Medical Oncology & Hematology',\n",
       " 'Division of Nephrology',\n",
       " 'Hospital for Sick Children',\n",
       " 'Montreal',\n",
       " 'Ontario',\n",
       " 'Quebec',\n",
       " 'Toronto',\n",
       " 'University Health Network',\n",
       " 'University of Toronto',\n",
       " 'Université de Montréal'}"
      ]
     },
     "execution_count": 10,
     "metadata": {},
     "output_type": "execute_result"
    }
   ],
   "source": [
    "ner_extraction(df['Affiliations'][0])"
   ]
  },
  {
   "cell_type": "code",
   "execution_count": null,
   "metadata": {},
   "outputs": [],
   "source": [
    "df['raw_ner'] = df['Affiliations'].apply(ner_extraction)"
   ]
  },
  {
   "cell_type": "code",
   "execution_count": null,
   "metadata": {},
   "outputs": [],
   "source": [
    "df.to_csv(\"spacy_ner_extraction.csv\")"
   ]
  },
  {
   "cell_type": "code",
   "execution_count": 1,
   "metadata": {},
   "outputs": [],
   "source": [
    "import pandas as pd\n",
    "import re\n",
    "import ast\n",
    "import random\n",
    "df = pd.read_csv(\"spacy_ner_extraction.csv\").fillna(\"\")"
   ]
  },
  {
   "cell_type": "code",
   "execution_count": 2,
   "metadata": {},
   "outputs": [],
   "source": [
    "full_set = set()\n",
    "for se in df['raw_ner']:\n",
    "    full_set = full_set.union(ast.literal_eval(se))"
   ]
  },
  {
   "cell_type": "code",
   "execution_count": 3,
   "metadata": {},
   "outputs": [],
   "source": [
    "entities = pd.DataFrame({\"Ents\":list(full_set)})"
   ]
  },
  {
   "cell_type": "code",
   "execution_count": 197,
   "metadata": {},
   "outputs": [],
   "source": [
    "depts = set()\n",
    "depts = entities[((entities['Ents'].str.contains(\"branch\", regex=False, na=False, case=False)) \n",
    "                  | (entities['Ents'].str.contains(\"section\", regex=False, na=False, case=False)) \n",
    "                  | (entities['Ents'].str.contains(\"division\", regex=False, na=False, case=False)) \n",
    "                  | (entities['Ents'].str.contains(\"department\", regex=False, na=False, case=False)) \n",
    "                  | (entities['Ents'].str.contains(\"unit\", regex=False, na=False, case=False)) \n",
    "                  | (entities['Ents'].str.contains(\"branch\", regex=False, na=False, case=False))\n",
    "                  | (entities['Ents'].str.contains( \"faculdade\", regex=False, na=False, case=False))\n",
    "                  | (entities['Ents'].str.contains( \"faculty\", regex=False, na=False, case=False))\n",
    "                  | (entities['Ents'].str.contains( \"departement\", regex=False, na=False, case=False))\n",
    "                  | (entities['Ents'].str.contains( \"servicio\", regex=False, na=False, case=False))\n",
    "                  | (entities['Ents'].str.contains(\"service de\", regex=False, na=False, case=False))) \n",
    "                  & ((~entities['Ents'].str.contains(\"United\", regex=False, na=False)))]"
   ]
  },
  {
   "cell_type": "code",
   "execution_count": 198,
   "metadata": {},
   "outputs": [
    {
     "data": {
      "text/plain": [
       "863"
      ]
     },
     "execution_count": 198,
     "metadata": {},
     "output_type": "execute_result"
    }
   ],
   "source": [
    "len(depts)"
   ]
  },
  {
   "cell_type": "code",
   "execution_count": 199,
   "metadata": {},
   "outputs": [],
   "source": [
    "filtered = pd.DataFrame({\"Ents\": list(set(entities['Ents']) - set(depts['Ents']))})"
   ]
  },
  {
   "cell_type": "code",
   "execution_count": 23,
   "metadata": {},
   "outputs": [],
   "source": [
    "import spacy\n",
    "spacy.require_gpu()\n",
    "nlp = spacy.load(\"en_core_web_trf\")"
   ]
  },
  {
   "cell_type": "code",
   "execution_count": 180,
   "metadata": {},
   "outputs": [],
   "source": [
    "test_str1 = \"Section of Nephrology and Clinical and Translational Research Accelerator\"\n",
    "test_str2 = \"Nephrology\"\n",
    "test_str3 = \"Division of Nephrology\"\n",
    "test_str4 = \"Department of Cardiology\"\n",
    "test_str5 = \"Section of Nephrology\""
   ]
  },
  {
   "cell_type": "code",
   "execution_count": 35,
   "metadata": {},
   "outputs": [
    {
     "data": {
      "text/plain": [
       "array([], dtype=float32)"
      ]
     },
     "execution_count": 35,
     "metadata": {},
     "output_type": "execute_result"
    }
   ],
   "source": [
    "doc1[0].vector"
   ]
  },
  {
   "cell_type": "code",
   "execution_count": 72,
   "metadata": {},
   "outputs": [
    {
     "data": {
      "application/vnd.jupyter.widget-view+json": {
       "model_id": "d34792fac5924ba1a9decf783f22910e",
       "version_major": 2,
       "version_minor": 0
      },
      "text/plain": [
       "modules.json:   0%|          | 0.00/349 [00:00<?, ?B/s]"
      ]
     },
     "metadata": {},
     "output_type": "display_data"
    },
    {
     "data": {
      "application/vnd.jupyter.widget-view+json": {
       "model_id": "bcec732fe27a4d888e28c538c17156e2",
       "version_major": 2,
       "version_minor": 0
      },
      "text/plain": [
       "config_sentence_transformers.json:   0%|          | 0.00/116 [00:00<?, ?B/s]"
      ]
     },
     "metadata": {},
     "output_type": "display_data"
    },
    {
     "data": {
      "application/vnd.jupyter.widget-view+json": {
       "model_id": "b5ca722f27664d2a8ecbcb34f2eea43c",
       "version_major": 2,
       "version_minor": 0
      },
      "text/plain": [
       "README.md:   0%|          | 0.00/10.7k [00:00<?, ?B/s]"
      ]
     },
     "metadata": {},
     "output_type": "display_data"
    },
    {
     "data": {
      "application/vnd.jupyter.widget-view+json": {
       "model_id": "606fa5a3b07f45f58d41a2144280f794",
       "version_major": 2,
       "version_minor": 0
      },
      "text/plain": [
       "sentence_bert_config.json:   0%|          | 0.00/53.0 [00:00<?, ?B/s]"
      ]
     },
     "metadata": {},
     "output_type": "display_data"
    },
    {
     "name": "stderr",
     "output_type": "stream",
     "text": [
      "/Users/jasirnawar/miniforge3/envs/islp/lib/python3.11/site-packages/huggingface_hub/file_download.py:1132: FutureWarning: `resume_download` is deprecated and will be removed in version 1.0.0. Downloads always resume when possible. If you want to force a new download, use `force_download=True`.\n",
      "  warnings.warn(\n"
     ]
    },
    {
     "data": {
      "application/vnd.jupyter.widget-view+json": {
       "model_id": "bbca9239a06b4e088debcc28fd736809",
       "version_major": 2,
       "version_minor": 0
      },
      "text/plain": [
       "config.json:   0%|          | 0.00/612 [00:00<?, ?B/s]"
      ]
     },
     "metadata": {},
     "output_type": "display_data"
    },
    {
     "data": {
      "application/vnd.jupyter.widget-view+json": {
       "model_id": "cd8ad00e80ee49a8831efa0e3c5f6f57",
       "version_major": 2,
       "version_minor": 0
      },
      "text/plain": [
       "model.safetensors:   0%|          | 0.00/90.9M [00:00<?, ?B/s]"
      ]
     },
     "metadata": {},
     "output_type": "display_data"
    },
    {
     "data": {
      "application/vnd.jupyter.widget-view+json": {
       "model_id": "ee4244fda3bb4a52b4aae5a864d22f8f",
       "version_major": 2,
       "version_minor": 0
      },
      "text/plain": [
       "tokenizer_config.json:   0%|          | 0.00/350 [00:00<?, ?B/s]"
      ]
     },
     "metadata": {},
     "output_type": "display_data"
    },
    {
     "data": {
      "application/vnd.jupyter.widget-view+json": {
       "model_id": "bb4e157620ec446f8af03300dae0aebb",
       "version_major": 2,
       "version_minor": 0
      },
      "text/plain": [
       "vocab.txt:   0%|          | 0.00/232k [00:00<?, ?B/s]"
      ]
     },
     "metadata": {},
     "output_type": "display_data"
    },
    {
     "data": {
      "application/vnd.jupyter.widget-view+json": {
       "model_id": "fb794ee0aa534c7d8957b7e2c70e2f37",
       "version_major": 2,
       "version_minor": 0
      },
      "text/plain": [
       "tokenizer.json:   0%|          | 0.00/466k [00:00<?, ?B/s]"
      ]
     },
     "metadata": {},
     "output_type": "display_data"
    },
    {
     "data": {
      "application/vnd.jupyter.widget-view+json": {
       "model_id": "749294e4843b4080ab8df4dd37a20faa",
       "version_major": 2,
       "version_minor": 0
      },
      "text/plain": [
       "special_tokens_map.json:   0%|          | 0.00/112 [00:00<?, ?B/s]"
      ]
     },
     "metadata": {},
     "output_type": "display_data"
    },
    {
     "data": {
      "application/vnd.jupyter.widget-view+json": {
       "model_id": "a1defadeff0a446184c70323b952da63",
       "version_major": 2,
       "version_minor": 0
      },
      "text/plain": [
       "1_Pooling/config.json:   0%|          | 0.00/190 [00:00<?, ?B/s]"
      ]
     },
     "metadata": {},
     "output_type": "display_data"
    }
   ],
   "source": [
    "from sentence_transformers import SentenceTransformer\n",
    "from sentence_transformers.util import cos_sim\n",
    "\n",
    "model = SentenceTransformer('all-MiniLM-L6-v2')\n"
   ]
  },
  {
   "cell_type": "code",
   "execution_count": 99,
   "metadata": {},
   "outputs": [
    {
     "name": "stdout",
     "output_type": "stream",
     "text": [
      "0.6653093695640564\n",
      "1.0\n",
      "0.8241751194000244\n",
      "0.24968239665031433\n",
      "0.9148799777030945\n"
     ]
    }
   ],
   "source": [
    "sentences = [test_str1.lower(),test_str2.lower(),test_str3.lower(),test_str4.lower(),test_str5.lower()]\n",
    "\n",
    "embedded_list = model.encode(sentences)\n",
    "\n",
    "for test in embedded_list:\n",
    "    print(cos_sim(embedded_list[1],test)[0][0].item())"
   ]
  },
  {
   "cell_type": "code",
   "execution_count": 155,
   "metadata": {},
   "outputs": [],
   "source": [
    "specialties = pd.read_csv(\"specialties.csv\")"
   ]
  },
  {
   "cell_type": "code",
   "execution_count": 156,
   "metadata": {},
   "outputs": [],
   "source": [
    "embedded_specialties = model.encode(list(specialties['Specialties']))"
   ]
  },
  {
   "cell_type": "code",
   "execution_count": 157,
   "metadata": {},
   "outputs": [
    {
     "data": {
      "text/plain": [
       "'Anesthesiology'"
      ]
     },
     "execution_count": 157,
     "metadata": {},
     "output_type": "execute_result"
    }
   ],
   "source": [
    "specialties['Specialties'][1]"
   ]
  },
  {
   "cell_type": "code",
   "execution_count": 160,
   "metadata": {},
   "outputs": [
    {
     "data": {
      "text/plain": [
       "'Division of Cardiology and Nephrology'"
      ]
     },
     "execution_count": 160,
     "metadata": {},
     "output_type": "execute_result"
    }
   ],
   "source": [
    "depts['Ents'][10]"
   ]
  },
  {
   "cell_type": "code",
   "execution_count": 158,
   "metadata": {},
   "outputs": [],
   "source": [
    "specialty_set = set()\n",
    "test_embed = model.encode(depts['Ents'][10])\n",
    "for i in range(len(embedded_specialties)):\n",
    "    if cos_sim(embedded_specialties[i], test_embed) > 0.6:\n",
    "        specialty_set.add(specialties['Specialties'][i])"
   ]
  },
  {
   "cell_type": "code",
   "execution_count": 165,
   "metadata": {},
   "outputs": [],
   "source": [
    "def simple_search(dept_string):\n",
    "    specialty_set = set()\n",
    "    for e in specialties['Specialties']:\n",
    "        if e.lower() in dept_string.lower():\n",
    "            specialty_set.add(e)\n",
    "    return specialty_set"
   ]
  },
  {
   "cell_type": "code",
   "execution_count": 166,
   "metadata": {},
   "outputs": [
    {
     "data": {
      "text/plain": [
       "{'Nephrology'}"
      ]
     },
     "execution_count": 166,
     "metadata": {},
     "output_type": "execute_result"
    }
   ],
   "source": [
    "simple_search(depts['Ents'][10])"
   ]
  },
  {
   "cell_type": "code",
   "execution_count": 167,
   "metadata": {},
   "outputs": [
    {
     "name": "stderr",
     "output_type": "stream",
     "text": [
      "/var/folders/f9/x6_f23z13z1dpfwmrmvqkhbm0000gn/T/ipykernel_68505/4099507035.py:1: SettingWithCopyWarning: \n",
      "A value is trying to be set on a copy of a slice from a DataFrame.\n",
      "Try using .loc[row_indexer,col_indexer] = value instead\n",
      "\n",
      "See the caveats in the documentation: https://pandas.pydata.org/pandas-docs/stable/user_guide/indexing.html#returning-a-view-versus-a-copy\n",
      "  depts['Topics'] = depts['Ents'].apply(simple_search)\n"
     ]
    }
   ],
   "source": [
    "depts['Topics'] = depts['Ents'].apply(simple_search)\n"
   ]
  },
  {
   "cell_type": "code",
   "execution_count": 174,
   "metadata": {},
   "outputs": [],
   "source": [
    "def dept_mapper(ner_set):\n",
    "    dept_set = set()\n",
    "    for dept_string in ast.literal_eval(ner_set):\n",
    "        if \"Department\" in dept_string or \"Departement\" in dept_string:\n",
    "            dept_set.add(dept_string)\n",
    "    return dept_set"
   ]
  },
  {
   "cell_type": "code",
   "execution_count": 184,
   "metadata": {},
   "outputs": [],
   "source": [
    "all_depts = set(depts['Ents'])"
   ]
  },
  {
   "cell_type": "code",
   "execution_count": 190,
   "metadata": {},
   "outputs": [],
   "source": [
    "def dept_mapper_2(ner_set):\n",
    "    dept_set = set()\n",
    "    for dept_string in ast.literal_eval(ner_set):\n",
    "        if dept_string in all_depts:\n",
    "            dept_set.add(dept_string)\n",
    "    return dept_set"
   ]
  },
  {
   "cell_type": "code",
   "execution_count": 191,
   "metadata": {},
   "outputs": [
    {
     "data": {
      "text/plain": [
       "{'Department of Medicine',\n",
       " 'Division of Laboratory Medicine and Pathology',\n",
       " 'Division of Medical Oncology & Hematology',\n",
       " 'Division of Nephrology'}"
      ]
     },
     "execution_count": 191,
     "metadata": {},
     "output_type": "execute_result"
    }
   ],
   "source": [
    "dept_mapper_2(df['raw_ner'][0])"
   ]
  },
  {
   "cell_type": "code",
   "execution_count": 192,
   "metadata": {},
   "outputs": [],
   "source": [
    "df['DEPTS'] = df['raw_ner'].apply(dept_mapper_2)"
   ]
  },
  {
   "cell_type": "code",
   "execution_count": 203,
   "metadata": {},
   "outputs": [
    {
     "data": {
      "text/plain": [
       "4"
      ]
     },
     "execution_count": 203,
     "metadata": {},
     "output_type": "execute_result"
    }
   ],
   "source": [
    "len(df['DEPTS'][310])"
   ]
  },
  {
   "cell_type": "code",
   "execution_count": 204,
   "metadata": {},
   "outputs": [],
   "source": [
    "df['DEPT_COUNT'] = df['DEPTS'].apply(lambda x: len(x))"
   ]
  },
  {
   "cell_type": "code",
   "execution_count": 205,
   "metadata": {},
   "outputs": [],
   "source": [
    "df.to_csv(\"departments_extracted.csv\")"
   ]
  },
  {
   "cell_type": "code",
   "execution_count": 6,
   "metadata": {},
   "outputs": [],
   "source": [
    "import pandas as pd\n",
    "import ast\n",
    "final_stretch = pd.read_csv('departments_extracted.csv')"
   ]
  },
  {
   "cell_type": "code",
   "execution_count": 4,
   "metadata": {},
   "outputs": [],
   "source": [
    "abstract_map = pd.read_csv('dict.csv')"
   ]
  },
  {
   "cell_type": "code",
   "execution_count": 14,
   "metadata": {},
   "outputs": [],
   "source": [
    "from collections import OrderedDict\n",
    "def top_scores(score_dict,n):\n",
    "    top = sorted(score_dict.items(),key=lambda item: item[1],reverse=True)[:n]\n",
    "    return OrderedDict(top)"
   ]
  },
  {
   "cell_type": "code",
   "execution_count": 15,
   "metadata": {},
   "outputs": [
    {
     "data": {
      "text/plain": [
       "[{'Kidney Transplantation': 0.20300549268722534,\n",
       "  'Clinical Research in Nephrology': 0.17608386278152466,\n",
       "  'Critical Care in Nephrology': 0.17468248307704926,\n",
       "  'Blood Purification': 0.11405985802412033,\n",
       "  'Glomerular Disease': 0.11029792577028275,\n",
       "  'Cardionephrology': 0.0938759371638298,\n",
       "  'Onconephrology': 0.08688496798276901,\n",
       "  'Pediatric Nephrology': 0.04110949486494064},\n",
       " {'Repair': 0.15595543384552002,\n",
       "  'Organ and Tissue Preservation': 0.14241047203540802,\n",
       "  'Inflammation and Aging': 0.13411132991313934,\n",
       "  'Bioengineering': 0.0843411460518837,\n",
       "  'Cell and Stem Cell Transplantation': 0.08179914206266403,\n",
       "  'Vascularized Composite Allotransplantation': 0.08083689212799072,\n",
       "  'Transplantation Immunology': 0.06804883480072021,\n",
       "  'Tissue Injury': 0.05836399644613266,\n",
       "  'Immunosuppression': 0.0567854642868042,\n",
       "  'Xenotransplantation': 0.048002295196056366,\n",
       "  'Abdominal Transplantation': 0.04572929069399834,\n",
       "  'Thoracic Transplantation': 0.043615661561489105}]"
      ]
     },
     "execution_count": 15,
     "metadata": {},
     "output_type": "execute_result"
    }
   ],
   "source": [
    "ast.literal_eval(abstract_map['Categories'][0])"
   ]
  },
  {
   "cell_type": "code",
   "execution_count": 16,
   "metadata": {},
   "outputs": [],
   "source": [
    "def top_category(list_string):\n",
    "    if list_string == \"\" or list_string == \"Uncategorizable\":\n",
    "        return \"\"\n",
    "    cat_list = ast.literal_eval(list_string)\n",
    "    cat_dict = dict()\n",
    "    for cat in cat_list:\n",
    "        cat_dict.update(top_scores(cat,1))\n",
    "    return max(cat_dict,key=lambda item: item[1])"
   ]
  },
  {
   "cell_type": "code",
   "execution_count": 18,
   "metadata": {},
   "outputs": [],
   "source": [
    "abstract_map['TOP_CAT'] = abstract_map['Categories'].apply(top_category)"
   ]
  },
  {
   "cell_type": "code",
   "execution_count": 19,
   "metadata": {},
   "outputs": [
    {
     "data": {
      "text/html": [
       "<div>\n",
       "<style scoped>\n",
       "    .dataframe tbody tr th:only-of-type {\n",
       "        vertical-align: middle;\n",
       "    }\n",
       "\n",
       "    .dataframe tbody tr th {\n",
       "        vertical-align: top;\n",
       "    }\n",
       "\n",
       "    .dataframe thead th {\n",
       "        text-align: right;\n",
       "    }\n",
       "</style>\n",
       "<table border=\"1\" class=\"dataframe\">\n",
       "  <thead>\n",
       "    <tr style=\"text-align: right;\">\n",
       "      <th></th>\n",
       "      <th>PMID</th>\n",
       "      <th>Categories</th>\n",
       "      <th>TOP_CAT</th>\n",
       "    </tr>\n",
       "  </thead>\n",
       "  <tbody>\n",
       "    <tr>\n",
       "      <th>0</th>\n",
       "      <td>36822739</td>\n",
       "      <td>[{'Kidney Transplantation': 0.2030054926872253...</td>\n",
       "      <td>Kidney Transplantation</td>\n",
       "    </tr>\n",
       "    <tr>\n",
       "      <th>1</th>\n",
       "      <td>37314770</td>\n",
       "      <td>[{'Cardionephrology': 0.15858687460422516, 'Cl...</td>\n",
       "      <td>Tissue Injury</td>\n",
       "    </tr>\n",
       "    <tr>\n",
       "      <th>2</th>\n",
       "      <td>37081637</td>\n",
       "      <td>[{'Kidney Transplantation': 0.1539207696914672...</td>\n",
       "      <td>Inflammation and Aging</td>\n",
       "    </tr>\n",
       "    <tr>\n",
       "      <th>3</th>\n",
       "      <td>36428134</td>\n",
       "      <td>[{'Blood Purification': 0.17423315346240997, '...</td>\n",
       "      <td>Blood Purification</td>\n",
       "    </tr>\n",
       "    <tr>\n",
       "      <th>4</th>\n",
       "      <td>36759239</td>\n",
       "      <td>[{'Clinical Research in Nephrology': 0.1662120...</td>\n",
       "      <td>Clinical Research in Nephrology</td>\n",
       "    </tr>\n",
       "    <tr>\n",
       "      <th>...</th>\n",
       "      <td>...</td>\n",
       "      <td>...</td>\n",
       "      <td>...</td>\n",
       "    </tr>\n",
       "    <tr>\n",
       "      <th>82</th>\n",
       "      <td>37220336</td>\n",
       "      <td>[{'Kidney Transplantation': 0.1315472275018692...</td>\n",
       "      <td>Kidney Transplantation</td>\n",
       "    </tr>\n",
       "    <tr>\n",
       "      <th>83</th>\n",
       "      <td>37309031</td>\n",
       "      <td>[{'Kidney Transplantation': 0.1785533428192138...</td>\n",
       "      <td>Transplantation Immunology</td>\n",
       "    </tr>\n",
       "    <tr>\n",
       "      <th>84</th>\n",
       "      <td>37389648</td>\n",
       "      <td>[{'Kidney Transplantation': 0.1335141509771347...</td>\n",
       "      <td>Transplantation Immunology</td>\n",
       "    </tr>\n",
       "    <tr>\n",
       "      <th>85</th>\n",
       "      <td>37677940</td>\n",
       "      <td>[{'Kidney Transplantation': 0.1833973079919815...</td>\n",
       "      <td>Organ and Tissue Preservation</td>\n",
       "    </tr>\n",
       "    <tr>\n",
       "      <th>86</th>\n",
       "      <td>36199169</td>\n",
       "      <td>[{'Glomerular Disease': 0.17561833560466766, '...</td>\n",
       "      <td>Glomerular Disease</td>\n",
       "    </tr>\n",
       "  </tbody>\n",
       "</table>\n",
       "<p>87 rows × 3 columns</p>\n",
       "</div>"
      ],
      "text/plain": [
       "        PMID                                         Categories  \\\n",
       "0   36822739  [{'Kidney Transplantation': 0.2030054926872253...   \n",
       "1   37314770  [{'Cardionephrology': 0.15858687460422516, 'Cl...   \n",
       "2   37081637  [{'Kidney Transplantation': 0.1539207696914672...   \n",
       "3   36428134  [{'Blood Purification': 0.17423315346240997, '...   \n",
       "4   36759239  [{'Clinical Research in Nephrology': 0.1662120...   \n",
       "..       ...                                                ...   \n",
       "82  37220336  [{'Kidney Transplantation': 0.1315472275018692...   \n",
       "83  37309031  [{'Kidney Transplantation': 0.1785533428192138...   \n",
       "84  37389648  [{'Kidney Transplantation': 0.1335141509771347...   \n",
       "85  37677940  [{'Kidney Transplantation': 0.1833973079919815...   \n",
       "86  36199169  [{'Glomerular Disease': 0.17561833560466766, '...   \n",
       "\n",
       "                            TOP_CAT  \n",
       "0            Kidney Transplantation  \n",
       "1                     Tissue Injury  \n",
       "2            Inflammation and Aging  \n",
       "3                Blood Purification  \n",
       "4   Clinical Research in Nephrology  \n",
       "..                              ...  \n",
       "82           Kidney Transplantation  \n",
       "83       Transplantation Immunology  \n",
       "84       Transplantation Immunology  \n",
       "85    Organ and Tissue Preservation  \n",
       "86               Glomerular Disease  \n",
       "\n",
       "[87 rows x 3 columns]"
      ]
     },
     "execution_count": 19,
     "metadata": {},
     "output_type": "execute_result"
    }
   ],
   "source": [
    "abstract_map"
   ]
  },
  {
   "cell_type": "code",
   "execution_count": 20,
   "metadata": {},
   "outputs": [],
   "source": [
    "id_map = abstract_map = dict(zip(abstract_map['PMID'], abstract_map['TOP_CAT']))"
   ]
  },
  {
   "cell_type": "code",
   "execution_count": 27,
   "metadata": {},
   "outputs": [],
   "source": [
    "out = pd.DataFrame([id_map]).transpose()"
   ]
  },
  {
   "cell_type": "code",
   "execution_count": 29,
   "metadata": {},
   "outputs": [],
   "source": [
    "out.to_csv(\"uncategorized.csv\")"
   ]
  },
  {
   "cell_type": "code",
   "execution_count": null,
   "metadata": {},
   "outputs": [],
   "source": []
  }
 ],
 "metadata": {
  "kernelspec": {
   "display_name": "Python 3 (ipykernel)",
   "language": "python",
   "name": "python3"
  },
  "language_info": {
   "codemirror_mode": {
    "name": "ipython",
    "version": 3
   },
   "file_extension": ".py",
   "mimetype": "text/x-python",
   "name": "python",
   "nbconvert_exporter": "python",
   "pygments_lexer": "ipython3",
   "version": "3.11.9"
  }
 },
 "nbformat": 4,
 "nbformat_minor": 4
}
